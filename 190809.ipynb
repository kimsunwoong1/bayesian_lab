{
 "cells": [
  {
   "cell_type": "markdown",
   "metadata": {},
   "source": [
    "# 모두를 위한 파이썬_190809"
   ]
  },
  {
   "cell_type": "markdown",
   "metadata": {},
   "source": [
    "에듀케이션위드 링크 : https://www.edwith.org/pythonforeverybody/joinLectures/12597"
   ]
  },
  {
   "cell_type": "markdown",
   "metadata": {},
   "source": [
    "  \n",
    "  "
   ]
  },
  {
   "cell_type": "markdown",
   "metadata": {},
   "source": [
    "#### · 차례\n",
    "1. 소개  \n",
    "    1.1. 프로그래밍을 왜 할까?      \n",
    "    1.2. 컴퓨터의 내부 구조  \n",
    "    1.3. 파이썬 언어  \n",
    "    1.4. 예약어, 순차문      \n",
    "    1.5. 연습문제      \n",
    "    \n",
    "\n",
    "2. 변수, 표현식 및 코드  \n",
    "    2.1. 변수, 표현식, 문장  \n",
    "    2.2. 연산자, 데이터 타입 및 타입 변환  \n",
    "    2.3. 연습문제  "
   ]
  },
  {
   "cell_type": "markdown",
   "metadata": {},
   "source": [
    "\n",
    "\n",
    "\n"
   ]
  },
  {
   "cell_type": "markdown",
   "metadata": {},
   "source": [
    "\n",
    "\n"
   ]
  },
  {
   "cell_type": "markdown",
   "metadata": {},
   "source": [
    "# 1. 소개\n",
    "\n",
    "## 1.1. 프로그래밍을 왜 할까?\n",
    "- 프로그램이란?  \n",
    "    － 컴퓨터 내에 있는 자원에게 내리는 명령문들의 집합을 뜻함\n",
    "  \n",
    "  \n",
    "- 프로그래밍을 배우는 목적    \n",
    ": 컴퓨터가 우리를 위해 일 하도록 만드는 것  \n",
    "    － 기본적으로 컴퓨터는 다음에 할 작업이 무엇인지 알려주지 않으면 가만히 기다림  \n",
    "    ⇒ 이러한 기술을 이용해서 비디오 게임을 할 수 있고, 길을 찾을 수도 있음  \n",
    "    \n",
    "    － 사람들은 컴퓨터가 지식을 갖고 있다고 생각하지만, 컴퓨터 자체는 전혀 똑똑하지 않음      \n",
    "    ⇒ 우리가 컴퓨터의 언어를 배워야 함  "
   ]
  },
  {
   "cell_type": "markdown",
   "metadata": {},
   "source": [
    "- 컴퓨터 사용자 & 프로그래머  \n",
    "    － 사용자는 컴퓨터를 도구로 사용  \n",
    "    － 프로그래머는 컴퓨터의 작동 방식과 언어를 학습  \n",
    "    － 프로그래머는 도구를 사용하여 새로운 도구를 제작  \n",
    "    － 프로그래머는 많은 사용자를 위한 도구나 특정 일을 자동화하기 위한 \"도우미\"를 개발  "
   ]
  },
  {
   "cell_type": "markdown",
   "metadata": {},
   "source": [
    "## 1.2. 컴퓨터의 내부구조\n",
    "- 컴퓨터 내부구조를 알아야 하는 이유?  \n",
    "    : 프로그래밍을 하기 위해서는 CPU,  RAM, 보조기억장치와 같은 장치의 역할을 이해하고, 사용할 수 있어야 함  \n",
    "  \n",
    "  \n",
    "- 하드웨어  \n",
    "    － CPU(Central Processing Unit) : 중앙처리장치. 프로그램을 실행하여 다음에 무엇을 해야 할지 메인 메모리에 계속 명령을 물음(1초에 30억 번)  \n",
    "    － 메인 메모리 : CPU가 급하게 명령어를 처리하기 하는데 필요한 정보를 저장하는 용도로 사용. 속도가 빠름. 컴퓨터가 꺼지면 저장된 정보는 자동 삭제  \n",
    "    － 보조 저장소 : 느리고 큰 영구적 저장소. 지워질 때까지 보존 (예 : 디스크, USB)  \n",
    "    － 입력장치 : 키보드, 마우스, 터치 화면  \n",
    "    － 출력장치 : 화면, 스피커, 프린터, DVD  \n",
    "\n",
    "\n",
    "- 소프트웨어 : 컴퓨터를 활용하기 위한 각종 프로그램 체계"
   ]
  },
  {
   "cell_type": "code",
   "execution_count": 5,
   "metadata": {},
   "outputs": [],
   "source": [
    "from IPython.display import Image\n",
    "from IPython.core.display import HTML "
   ]
  },
  {
   "cell_type": "code",
   "execution_count": 6,
   "metadata": {
    "scrolled": true
   },
   "outputs": [
    {
     "data": {
      "text/html": [
       "<img src=\"http://dl.dropbox.com/s/fbwqfb8xcrvk5ft/Intro1.png\" width=\"700\" height=\"700\"/>"
      ],
      "text/plain": [
       "<IPython.core.display.Image object>"
      ]
     },
     "execution_count": 6,
     "metadata": {},
     "output_type": "execute_result"
    }
   ],
   "source": [
    "Image(url= \"http://dl.dropbox.com/s/fbwqfb8xcrvk5ft/Intro1.png\", width=700, height=700)"
   ]
  },
  {
   "cell_type": "markdown",
   "metadata": {},
   "source": [
    "#### 다시 말하자면,\n",
    "- 프로그래머는 컴퓨터의 \"다음 무엇을 수행할까요?\"에 대한 답을 하는 사람  \n",
    "- 초당 30억개 명령어로 답을 하는 것은 불가능  \n",
    "- 미리 컴퓨터에게 수행할 명령문을 작성  \n",
    "- 이렇게 미리 작성된 명령문 집합을 프로그램이라고 함"
   ]
  },
  {
   "cell_type": "markdown",
   "metadata": {},
   "source": [
    "## 1.3. 파이썬 언어\n",
    "- 파이썬(Python)  \n",
    " － 1991년 Guido van Rossum이 발표  \n",
    " － 인터프리터식(Interpreter type)  \n",
    " － 고급(High-level) 언어  \n",
    " － 객체지향적(Object oriented)   \n",
    " － 'Monty Python's Flying'이라는 서커스에서 유래"
   ]
  },
  {
   "cell_type": "markdown",
   "metadata": {},
   "source": [
    "#### 파이썬 프로그래밍 방식  \n",
    "- 인터프리터 (Interpreter)  \n",
    "    － 코드 한 줄을 입력하면 바로 반응  \n",
    "    － 파이썬과 대화를 주고 받는 것\n",
    "- 컴파일러 (Compiler)  \n",
    "    － 3~4줄의 코드를 실험하기 좋음  \n",
    "    － 대부분의 프로그램은 길기 때문에 파일에 코드를 적고, 파일에 있는 명령 실행  \n",
    "    － 파일 이름에 \".py\"를 붙여 파이썬을 썼다는 것을 표시"
   ]
  },
  {
   "cell_type": "markdown",
   "metadata": {},
   "source": [
    "- 파이썬과 대화하기  \n",
    "<font color='blue'>    － 'Anaconda Prompt' 실행 (윈도우, 리눅 프롬프트에서도 가능)"
   ]
  },
  {
   "cell_type": "code",
   "execution_count": 3,
   "metadata": {},
   "outputs": [
    {
     "data": {
      "text/html": [
       "<img src=\"http://dl.dropbox.com/s/le5n7mpdpijufbh/Intro_28.png\" width=\"700\" height=\"700\"/>"
      ],
      "text/plain": [
       "<IPython.core.display.Image object>"
      ]
     },
     "execution_count": 3,
     "metadata": {},
     "output_type": "execute_result"
    }
   ],
   "source": [
    "Image(url= \"http://dl.dropbox.com/s/le5n7mpdpijufbh/Intro_28.png\", width=700, height=700)"
   ]
  },
  {
   "cell_type": "code",
   "execution_count": 9,
   "metadata": {
    "scrolled": true
   },
   "outputs": [
    {
     "data": {
      "text/html": [
       "<img src=\"http://dl.dropbox.com/s/3mop1v5hzjuiyia/Intro_29.png\" width=\"700\" height=\"700\"/>"
      ],
      "text/plain": [
       "<IPython.core.display.Image object>"
      ]
     },
     "execution_count": 9,
     "metadata": {},
     "output_type": "execute_result"
    }
   ],
   "source": [
    "Image(url= \"http://dl.dropbox.com/s/3mop1v5hzjuiyia/Intro_29.png\", width=700, height=700)"
   ]
  },
  {
   "cell_type": "markdown",
   "metadata": {},
   "source": [
    "  \n",
    "  \n",
    "  "
   ]
  },
  {
   "cell_type": "markdown",
   "metadata": {},
   "source": [
    "## 1.4. 예약어, 순차문\n",
    "- 예약어  \n",
    "    － 지정한 의미로만 쓰이는 단어  \n",
    "    － 변수 이름으로 사용할 수 없음"
   ]
  },
  {
   "cell_type": "markdown",
   "metadata": {},
   "source": [
    " - 순차문  \n",
    "     － 스크립트에 작성된 순서에 맞춰 한줄 한줄 실행됨"
   ]
  },
  {
   "cell_type": "code",
   "execution_count": 11,
   "metadata": {
    "scrolled": false
   },
   "outputs": [
    {
     "data": {
      "text/html": [
       "<img src=\"http://dl.dropbox.com/s/da5k4gkw9ossbcm/Intro_39.png\" width=\"700\" height=\"700\"/>"
      ],
      "text/plain": [
       "<IPython.core.display.Image object>"
      ]
     },
     "execution_count": 11,
     "metadata": {},
     "output_type": "execute_result"
    }
   ],
   "source": [
    "Image(url= \"http://dl.dropbox.com/s/da5k4gkw9ossbcm/Intro_39.png\", width=700, height=700)"
   ]
  },
  {
   "cell_type": "markdown",
   "metadata": {},
   "source": [
    "  "
   ]
  },
  {
   "cell_type": "markdown",
   "metadata": {},
   "source": [
    "#### 오류? \n",
    "- 구문 오류(Syntax Error)  \n",
    "    － 고치기 가장 쉬운 오류  \n",
    "    － 파이썬 문법에 맞지 않음을 의미  \n",
    "  \n",
    "  \n",
    "- 논리 오류(Logic Error)  \n",
    "    － 프로그램 구문은 완벽함  \n",
    "    － 명령어 순서 또는 문장이 서로 연관되는 방식에서의 오류  \n",
    "    ⇒ 예 : \"물병에서 한모금 마시고, 가방에 넣고, 도서관으로 걸어가서, 물병을 닫는다.\"  \n",
    "    \n",
    "    \n",
    "- 의미론적 오류(Semantic Error)  \n",
    "    － 프로그램 구문은 완벽함  \n",
    "    － 올바른 명령어 순서  \n",
    "    － 단순 프로그램 오류"
   ]
  },
  {
   "cell_type": "markdown",
   "metadata": {},
   "source": [
    "  \n",
    "  "
   ]
  },
  {
   "cell_type": "markdown",
   "metadata": {},
   "source": [
    "  \n",
    "  "
   ]
  },
  {
   "cell_type": "markdown",
   "metadata": {},
   "source": [
    "  \n",
    "  "
   ]
  },
  {
   "cell_type": "markdown",
   "metadata": {},
   "source": [
    "## 1.5. 연습문제\n",
    "\n",
    "- Ex 1 : 인터프리터와 컴파일러의 차이점을 설명하시오.\n",
    "\n"
   ]
  },
  {
   "cell_type": "markdown",
   "metadata": {},
   "source": [
    "- Ex 2 : 다음 코드에서 잘못된 점을 설명하시오."
   ]
  },
  {
   "cell_type": "code",
   "execution_count": 7,
   "metadata": {},
   "outputs": [
    {
     "ename": "SyntaxError",
     "evalue": "invalid syntax (<ipython-input-7-aaea93d45e14>, line 1)",
     "output_type": "error",
     "traceback": [
      "\u001b[1;36m  File \u001b[1;32m\"<ipython-input-7-aaea93d45e14>\"\u001b[1;36m, line \u001b[1;32m1\u001b[0m\n\u001b[1;33m    primt 'Hello world!'\u001b[0m\n\u001b[1;37m                       ^\u001b[0m\n\u001b[1;31mSyntaxError\u001b[0m\u001b[1;31m:\u001b[0m invalid syntax\n"
     ]
    }
   ],
   "source": [
    "primt 'Hello world!'"
   ]
  },
  {
   "cell_type": "markdown",
   "metadata": {},
   "source": [
    "- Ex 3 : 다음 파이썬 프로그램이 실행된 후에, 변수 \"X\"는 어디에 저장되는지 고르시오.\n",
    "   \n",
    "    x = 123  \n",
    "    \n",
    "    a) CPU  \n",
    "    b) 메인 메모리  \n",
    "    c) 보조 저장소  \n",
    "    d) 입력 장치  \n",
    "    e) 출력 장치"
   ]
  },
  {
   "cell_type": "markdown",
   "metadata": {},
   "source": [
    "- Ex 4 :  다음 프로그램에서 출력되는 것은 무엇인가?  \n",
    "  \n",
    "  x = 43  \n",
    "  x = x + 1  \n",
    "  print(x)  \n",
    "  \n",
    "  a) 43  \n",
    "  b) 44  \n",
    "  c) x + 1  \n",
    "  d) Error "
   ]
  },
  {
   "cell_type": "markdown",
   "metadata": {},
   "source": [
    "- Ex 5 : 사람의 어느 능력 또는 부위를 예제로 사용하여 다음 각각을 설명하시오.  \n",
    "    (예를 들어 중앙처리장치에 상응하는 사람의 몸 부위는 어디입니까?)  \n",
    "    a) CPU  \n",
    "    b) 메인 메모리  \n",
    "    c) 보조 저장소  \n",
    "    d) 입력 장치  \n",
    "    e) 출력 장치 "
   ]
  },
  {
   "cell_type": "markdown",
   "metadata": {},
   "source": [
    "  \n",
    "  "
   ]
  },
  {
   "cell_type": "markdown",
   "metadata": {},
   "source": [
    "# 2. 변수, 표현식 및 코드\n",
    "\n",
    "## 2.1. 변수, 표현식, 문장\n",
    "- 상수  \n",
    "    － 숫자, 글자, 문자열과 같은 고정 값  \n",
    "    － 글자, 문자열 상수는 작은 따옴표(') 또는 큰따옴표(\")로 표시"
   ]
  },
  {
   "cell_type": "code",
   "execution_count": 8,
   "metadata": {},
   "outputs": [
    {
     "name": "stdout",
     "output_type": "stream",
     "text": [
      "123\n"
     ]
    }
   ],
   "source": [
    "print(123)"
   ]
  },
  {
   "cell_type": "code",
   "execution_count": 9,
   "metadata": {},
   "outputs": [
    {
     "name": "stdout",
     "output_type": "stream",
     "text": [
      "a\n"
     ]
    }
   ],
   "source": [
    "print('a')"
   ]
  },
  {
   "cell_type": "code",
   "execution_count": 10,
   "metadata": {},
   "outputs": [
    {
     "name": "stdout",
     "output_type": "stream",
     "text": [
      "Hello world\n"
     ]
    }
   ],
   "source": [
    "print(\"Hello world\")"
   ]
  },
  {
   "cell_type": "markdown",
   "metadata": {},
   "source": [
    "  "
   ]
  },
  {
   "cell_type": "markdown",
   "metadata": {},
   "source": [
    "- 변수  \n",
    "    － 값을 참조하는 이름  \n",
    "    － 이름을 통해 데이터 저장 및 검색 가능  \n",
    "    － 사용자가 변수 이름을 지정  \n",
    "    － 대입문을 통해 변수를 변경 가능"
   ]
  },
  {
   "cell_type": "code",
   "execution_count": 11,
   "metadata": {
    "scrolled": true
   },
   "outputs": [
    {
     "name": "stdout",
     "output_type": "stream",
     "text": [
      "1\n",
      "2\n"
     ]
    }
   ],
   "source": [
    "x = 1\n",
    "y = 2\n",
    "print(x)\n",
    "print(y)"
   ]
  },
  {
   "cell_type": "code",
   "execution_count": 12,
   "metadata": {},
   "outputs": [
    {
     "name": "stdout",
     "output_type": "stream",
     "text": [
      "3\n",
      "2\n"
     ]
    }
   ],
   "source": [
    "x = 3\n",
    "print(x)\n",
    "print(y)"
   ]
  },
  {
   "cell_type": "markdown",
   "metadata": {},
   "source": [
    "  "
   ]
  },
  {
   "cell_type": "markdown",
   "metadata": {},
   "source": [
    "- 파이썬 변수 이름 규칙  \n",
    "    － 글자나 밑줄로 시작  \n",
    "    － 글자, 숫자, 밑줄(_)로 이루어짐  \n",
    "    － 대소문자 구분  \n",
    "  \n",
    "    - 좋은 예 : spam, eggs, spam23, _speed  \n",
    "    - 나쁜 예 : 23spam, #sign, var.12\n",
    "    - 모두 다름 : spam, Spam, SPAM  "
   ]
  },
  {
   "cell_type": "markdown",
   "metadata": {},
   "source": [
    "- 대입문  \n",
    "    － 변수에 값을 대입하여 변수 이름을 지정  \n",
    "    － 좌항은 변수 이름, 우항은 표현식과 결과값을 입력해야 함"
   ]
  },
  {
   "cell_type": "code",
   "execution_count": 13,
   "metadata": {},
   "outputs": [
    {
     "ename": "NameError",
     "evalue": "name 'a' is not defined",
     "output_type": "error",
     "traceback": [
      "\u001b[1;31m---------------------------------------------------------------------------\u001b[0m",
      "\u001b[1;31mNameError\u001b[0m                                 Traceback (most recent call last)",
      "\u001b[1;32m<ipython-input-13-d9a993b75b5f>\u001b[0m in \u001b[0;36m<module>\u001b[1;34m\u001b[0m\n\u001b[1;32m----> 1\u001b[1;33m \u001b[0ma\u001b[0m \u001b[1;33m=\u001b[0m \u001b[1;36m3.9\u001b[0m \u001b[1;33m*\u001b[0m \u001b[0ma\u001b[0m \u001b[1;33m*\u001b[0m \u001b[1;33m(\u001b[0m \u001b[1;36m1\u001b[0m \u001b[1;33m-\u001b[0m \u001b[0ma\u001b[0m \u001b[1;33m)\u001b[0m\u001b[1;33m\u001b[0m\u001b[1;33m\u001b[0m\u001b[0m\n\u001b[0m",
      "\u001b[1;31mNameError\u001b[0m: name 'a' is not defined"
     ]
    }
   ],
   "source": [
    "a = 3.9 * a * ( 1 - a )"
   ]
  },
  {
   "cell_type": "code",
   "execution_count": 14,
   "metadata": {},
   "outputs": [],
   "source": [
    "a = 0.6"
   ]
  },
  {
   "cell_type": "code",
   "execution_count": 15,
   "metadata": {},
   "outputs": [],
   "source": [
    "a = 3.9 * a * ( 1 - a )"
   ]
  },
  {
   "cell_type": "code",
   "execution_count": 16,
   "metadata": {
    "scrolled": true
   },
   "outputs": [
    {
     "data": {
      "text/plain": [
       "0.9359999999999999"
      ]
     },
     "execution_count": 16,
     "metadata": {},
     "output_type": "execute_result"
    }
   ],
   "source": [
    "a"
   ]
  },
  {
   "cell_type": "markdown",
   "metadata": {},
   "source": [
    "  "
   ]
  },
  {
   "cell_type": "markdown",
   "metadata": {},
   "source": [
    "- 연산 기호   \n",
    "    - 덧셈, 곱셈, 문자열 결합 같은 간단한 연산을 표현하는 특별 기호    \n",
    "    - 연산자가 적용되는 값을 피연산자라고 함  \n",
    "    \n",
    "#### + : 더하기  \n",
    "#### - : 빼기  \n",
    "#### * : 곱하기  \n",
    "#### / : 나누기  \n",
    "#### // : 몫  \n",
    "#### % : 나머지  \n",
    "#### ** : 거듭제곱  "
   ]
  },
  {
   "cell_type": "code",
   "execution_count": 17,
   "metadata": {},
   "outputs": [
    {
     "name": "stdout",
     "output_type": "stream",
     "text": [
      "4\n"
     ]
    }
   ],
   "source": [
    "xx = 2\n",
    "xx = xx + 2\n",
    "print(xx)"
   ]
  },
  {
   "cell_type": "code",
   "execution_count": 18,
   "metadata": {},
   "outputs": [
    {
     "name": "stdout",
     "output_type": "stream",
     "text": [
      "5280\n"
     ]
    }
   ],
   "source": [
    "yy = 440 * 12\n",
    "print(yy)"
   ]
  },
  {
   "cell_type": "code",
   "execution_count": 19,
   "metadata": {},
   "outputs": [
    {
     "name": "stdout",
     "output_type": "stream",
     "text": [
      "5.28\n"
     ]
    }
   ],
   "source": [
    "zz = yy / 1000\n",
    "print(zz)"
   ]
  },
  {
   "cell_type": "code",
   "execution_count": 20,
   "metadata": {},
   "outputs": [
    {
     "name": "stdout",
     "output_type": "stream",
     "text": [
      "3\n"
     ]
    }
   ],
   "source": [
    "jj = 23\n",
    "kk = jj % 5\n",
    "print(kk)"
   ]
  },
  {
   "cell_type": "code",
   "execution_count": 21,
   "metadata": {},
   "outputs": [
    {
     "name": "stdout",
     "output_type": "stream",
     "text": [
      "64\n"
     ]
    }
   ],
   "source": [
    "print(4 ** 3)"
   ]
  },
  {
   "cell_type": "markdown",
   "metadata": {},
   "source": [
    "  "
   ]
  },
  {
   "cell_type": "markdown",
   "metadata": {},
   "source": [
    "- 연산 순서  \n",
    "    － 긴 연산을 할 때 파이썬은 어떤 연산을 먼저 해야 하는지 알아야 함  \n",
    "    \n",
    "        x = 1 + 2 * 3 - 4 / 5 ** 6  \n",
    "        \n",
    "    － 연산 순위 규칙  \n",
    "    1) 괄호가 항상 우선  \n",
    "    2) 거듭제곱  \n",
    "    3) 곱셈, 나눗셈, 몫, 나머지  \n",
    "    4) 덧셈, 뺄셈  \n",
    "    5) 왼쪽에서 오른쪽으로  \n",
    "    \n",
    "    － 코드를 쓸 때 괄호를 사용  \n",
    "    － 이해하기 쉽도록 연산식은 간단하게 쓰기"
   ]
  },
  {
   "cell_type": "markdown",
   "metadata": {},
   "source": [
    "- 자료 유형(Data type)  \n",
    "    － 값의 범주  \n",
    "    － 정수(int), 부동 소수점수(float), 문자열(str)  \n",
    "    － 파이썬은 자료형을 구분함  \n",
    "    － 문자열에 숫자를 더할 수 없음"
   ]
  },
  {
   "cell_type": "code",
   "execution_count": 22,
   "metadata": {},
   "outputs": [
    {
     "name": "stdout",
     "output_type": "stream",
     "text": [
      "5\n"
     ]
    }
   ],
   "source": [
    "ddd = 1 + 4\n",
    "print(ddd)"
   ]
  },
  {
   "cell_type": "code",
   "execution_count": 23,
   "metadata": {},
   "outputs": [
    {
     "name": "stdout",
     "output_type": "stream",
     "text": [
      "hello there\n"
     ]
    }
   ],
   "source": [
    "eee = 'hello ' + 'there'\n",
    "print(eee)"
   ]
  },
  {
   "cell_type": "code",
   "execution_count": 24,
   "metadata": {},
   "outputs": [
    {
     "ename": "TypeError",
     "evalue": "must be str, not int",
     "output_type": "error",
     "traceback": [
      "\u001b[1;31m---------------------------------------------------------------------------\u001b[0m",
      "\u001b[1;31mTypeError\u001b[0m                                 Traceback (most recent call last)",
      "\u001b[1;32m<ipython-input-24-3452602153c7>\u001b[0m in \u001b[0;36m<module>\u001b[1;34m\u001b[0m\n\u001b[1;32m----> 1\u001b[1;33m \u001b[0meee\u001b[0m \u001b[1;33m=\u001b[0m \u001b[0meee\u001b[0m \u001b[1;33m+\u001b[0m \u001b[1;36m1\u001b[0m\u001b[1;33m\u001b[0m\u001b[1;33m\u001b[0m\u001b[0m\n\u001b[0m",
      "\u001b[1;31mTypeError\u001b[0m: must be str, not int"
     ]
    }
   ],
   "source": [
    "eee = eee + 1"
   ]
  },
  {
   "cell_type": "markdown",
   "metadata": {},
   "source": [
    "    － type() 함수를 써서 자료형을 알 수 있음"
   ]
  },
  {
   "cell_type": "code",
   "execution_count": 25,
   "metadata": {},
   "outputs": [
    {
     "name": "stdout",
     "output_type": "stream",
     "text": [
      "<class 'str'>\n"
     ]
    }
   ],
   "source": [
    "print(type(eee))"
   ]
  },
  {
   "cell_type": "code",
   "execution_count": 26,
   "metadata": {},
   "outputs": [
    {
     "name": "stdout",
     "output_type": "stream",
     "text": [
      "<class 'str'>\n"
     ]
    }
   ],
   "source": [
    "print(type('hello'))"
   ]
  },
  {
   "cell_type": "code",
   "execution_count": 27,
   "metadata": {},
   "outputs": [
    {
     "name": "stdout",
     "output_type": "stream",
     "text": [
      "<class 'int'>\n"
     ]
    }
   ],
   "source": [
    "print(type(1))"
   ]
  },
  {
   "cell_type": "markdown",
   "metadata": {},
   "source": [
    "  "
   ]
  },
  {
   "cell_type": "markdown",
   "metadata": {},
   "source": [
    "- 숫자형 : 숫자 유형은 크게 두 유형으로 존재  \n",
    "    － 정수(integer)  \n",
    "        -14, -2, 0, 1, 100, 401233  \n",
    "        \n",
    "    － 부동 소수점 수(floating-point)  \n",
    "        - 소수점을 가진 숫자를 표현하는 자료 유형\n",
    "        - -2.5, 0.0, 98.6, 14.0          "
   ]
  },
  {
   "cell_type": "code",
   "execution_count": 28,
   "metadata": {},
   "outputs": [
    {
     "name": "stdout",
     "output_type": "stream",
     "text": [
      "<class 'int'>\n"
     ]
    }
   ],
   "source": [
    "xx = 1\n",
    "print(type(xx))"
   ]
  },
  {
   "cell_type": "code",
   "execution_count": 29,
   "metadata": {},
   "outputs": [
    {
     "name": "stdout",
     "output_type": "stream",
     "text": [
      "<class 'float'>\n"
     ]
    }
   ],
   "source": [
    "temp = 98.6\n",
    "print(type(temp))"
   ]
  },
  {
   "cell_type": "code",
   "execution_count": 30,
   "metadata": {},
   "outputs": [
    {
     "name": "stdout",
     "output_type": "stream",
     "text": [
      "<class 'int'>\n"
     ]
    }
   ],
   "source": [
    "print(type(1))"
   ]
  },
  {
   "cell_type": "code",
   "execution_count": 31,
   "metadata": {},
   "outputs": [
    {
     "name": "stdout",
     "output_type": "stream",
     "text": [
      "<class 'float'>\n"
     ]
    }
   ],
   "source": [
    "print(type(1.0))"
   ]
  },
  {
   "cell_type": "markdown",
   "metadata": {},
   "source": [
    "  "
   ]
  },
  {
   "cell_type": "markdown",
   "metadata": {},
   "source": [
    "- 자료 유형 변환  \n",
    "    － 표현식에 정수와 부동 소수점 수가 있으면 정수가 부동 소수점으로 변환됨  \n",
    "    － 내장된 함수 int(), float()으로 자료형을 변환할 수 있음"
   ]
  },
  {
   "cell_type": "code",
   "execution_count": 32,
   "metadata": {},
   "outputs": [
    {
     "name": "stdout",
     "output_type": "stream",
     "text": [
      "199.0\n"
     ]
    }
   ],
   "source": [
    "print(float(99) + 100)"
   ]
  },
  {
   "cell_type": "code",
   "execution_count": 33,
   "metadata": {},
   "outputs": [
    {
     "name": "stdout",
     "output_type": "stream",
     "text": [
      "<class 'int'>\n"
     ]
    }
   ],
   "source": [
    "i = 42\n",
    "print(type(i))"
   ]
  },
  {
   "cell_type": "code",
   "execution_count": 34,
   "metadata": {},
   "outputs": [
    {
     "name": "stdout",
     "output_type": "stream",
     "text": [
      "42.0\n"
     ]
    }
   ],
   "source": [
    "f = float(i)\n",
    "print(f)"
   ]
  },
  {
   "cell_type": "code",
   "execution_count": 35,
   "metadata": {},
   "outputs": [
    {
     "name": "stdout",
     "output_type": "stream",
     "text": [
      "<class 'float'>\n"
     ]
    }
   ],
   "source": [
    "print(type(f))"
   ]
  },
  {
   "cell_type": "markdown",
   "metadata": {},
   "source": [
    "#### 정수 나눗셈 : 정수 나눗셈은 부동 소수점 수를 반환"
   ]
  },
  {
   "cell_type": "code",
   "execution_count": 36,
   "metadata": {},
   "outputs": [
    {
     "name": "stdout",
     "output_type": "stream",
     "text": [
      "5.0\n"
     ]
    }
   ],
   "source": [
    "print( 10 / 2)"
   ]
  },
  {
   "cell_type": "code",
   "execution_count": 37,
   "metadata": {},
   "outputs": [
    {
     "name": "stdout",
     "output_type": "stream",
     "text": [
      "4.5\n"
     ]
    }
   ],
   "source": [
    "print(9 / 2)"
   ]
  },
  {
   "cell_type": "code",
   "execution_count": 38,
   "metadata": {},
   "outputs": [
    {
     "name": "stdout",
     "output_type": "stream",
     "text": [
      "0.99\n"
     ]
    }
   ],
   "source": [
    "print(99 / 100)"
   ]
  },
  {
   "cell_type": "code",
   "execution_count": 39,
   "metadata": {},
   "outputs": [
    {
     "name": "stdout",
     "output_type": "stream",
     "text": [
      "5.0\n"
     ]
    }
   ],
   "source": [
    "print(10.0 / 2.0)"
   ]
  },
  {
   "cell_type": "code",
   "execution_count": 40,
   "metadata": {},
   "outputs": [
    {
     "name": "stdout",
     "output_type": "stream",
     "text": [
      "0.99\n"
     ]
    }
   ],
   "source": [
    "print(99.0 / 100.0)"
   ]
  },
  {
   "cell_type": "markdown",
   "metadata": {},
   "source": [
    "- 문자열 반환  \n",
    "    － int(), float()으로 문자열과 정수를 변환  \n",
    "    － 문자열에 숫자가 없을 경우 에러가 발생"
   ]
  },
  {
   "cell_type": "code",
   "execution_count": 41,
   "metadata": {},
   "outputs": [
    {
     "name": "stdout",
     "output_type": "stream",
     "text": [
      "<class 'str'>\n"
     ]
    }
   ],
   "source": [
    "sval = '123'\n",
    "print(type(sval))"
   ]
  },
  {
   "cell_type": "code",
   "execution_count": 42,
   "metadata": {},
   "outputs": [
    {
     "ename": "TypeError",
     "evalue": "must be str, not int",
     "output_type": "error",
     "traceback": [
      "\u001b[1;31m---------------------------------------------------------------------------\u001b[0m",
      "\u001b[1;31mTypeError\u001b[0m                                 Traceback (most recent call last)",
      "\u001b[1;32m<ipython-input-42-844c8fe77d11>\u001b[0m in \u001b[0;36m<module>\u001b[1;34m\u001b[0m\n\u001b[1;32m----> 1\u001b[1;33m \u001b[0mprint\u001b[0m\u001b[1;33m(\u001b[0m\u001b[0msval\u001b[0m \u001b[1;33m+\u001b[0m \u001b[1;36m1\u001b[0m\u001b[1;33m)\u001b[0m\u001b[1;33m\u001b[0m\u001b[1;33m\u001b[0m\u001b[0m\n\u001b[0m",
      "\u001b[1;31mTypeError\u001b[0m: must be str, not int"
     ]
    }
   ],
   "source": [
    "print(sval + 1)"
   ]
  },
  {
   "cell_type": "code",
   "execution_count": 43,
   "metadata": {
    "scrolled": true
   },
   "outputs": [
    {
     "name": "stdout",
     "output_type": "stream",
     "text": [
      "<class 'int'>\n"
     ]
    }
   ],
   "source": [
    "ival = int(sval)\n",
    "print(type(ival))"
   ]
  },
  {
   "cell_type": "code",
   "execution_count": 44,
   "metadata": {},
   "outputs": [
    {
     "name": "stdout",
     "output_type": "stream",
     "text": [
      "124\n"
     ]
    }
   ],
   "source": [
    "print(ival + 1)"
   ]
  },
  {
   "cell_type": "code",
   "execution_count": 45,
   "metadata": {},
   "outputs": [],
   "source": [
    "nsv = 'hello bob'"
   ]
  },
  {
   "cell_type": "code",
   "execution_count": 46,
   "metadata": {},
   "outputs": [
    {
     "ename": "ValueError",
     "evalue": "invalid literal for int() with base 10: 'hello bob'",
     "output_type": "error",
     "traceback": [
      "\u001b[1;31m---------------------------------------------------------------------------\u001b[0m",
      "\u001b[1;31mValueError\u001b[0m                                Traceback (most recent call last)",
      "\u001b[1;32m<ipython-input-46-023fdb204a1b>\u001b[0m in \u001b[0;36m<module>\u001b[1;34m\u001b[0m\n\u001b[1;32m----> 1\u001b[1;33m \u001b[0mniv\u001b[0m \u001b[1;33m=\u001b[0m \u001b[0mint\u001b[0m\u001b[1;33m(\u001b[0m\u001b[0mnsv\u001b[0m\u001b[1;33m)\u001b[0m\u001b[1;33m\u001b[0m\u001b[1;33m\u001b[0m\u001b[0m\n\u001b[0m",
      "\u001b[1;31mValueError\u001b[0m: invalid literal for int() with base 10: 'hello bob'"
     ]
    }
   ],
   "source": [
    "niv = int(nsv)"
   ]
  },
  {
   "cell_type": "markdown",
   "metadata": {},
   "source": [
    "  "
   ]
  },
  {
   "cell_type": "markdown",
   "metadata": {},
   "source": [
    "- 사용자 입력  \n",
    "    － input() 함수로 멈추고 사용자의 입력값을 받을 수 있음  \n",
    "    － input() 함수는 문자열을 반환"
   ]
  },
  {
   "cell_type": "code",
   "execution_count": 47,
   "metadata": {},
   "outputs": [
    {
     "name": "stdout",
     "output_type": "stream",
     "text": [
      "Who are you? Kim\n",
      "Welcome Kim\n"
     ]
    }
   ],
   "source": [
    "nam = input('Who are you? ')\n",
    "print('Welcome', nam)"
   ]
  },
  {
   "cell_type": "markdown",
   "metadata": {},
   "source": [
    "- 사용자 입력값 변환  \n",
    "    － 자료형 변환 함수를 사용해 문자열을 숫자로 바꾼 후 사용자가 입력한 숫자를 읽을 수 있음"
   ]
  },
  {
   "cell_type": "code",
   "execution_count": 48,
   "metadata": {},
   "outputs": [
    {
     "name": "stdout",
     "output_type": "stream",
     "text": [
      "Europe floor? 1\n",
      "US floor 2\n"
     ]
    }
   ],
   "source": [
    "inp = input('Europe floor? ')\n",
    "usf = int(inp) + 1\n",
    "print('US floor', usf)"
   ]
  },
  {
   "cell_type": "markdown",
   "metadata": {},
   "source": [
    "- 주석  \n",
    "    - 파이썬은 \"#\" 다음 모든 내용을 무시  \n",
    "    - 주석의 역할  \n",
    "        － 코드가 어떤 일을 하는지 설명  \n",
    "        － 코드를 쓴 사람 등 부가 설명  \n",
    "        － 프로그램 실행에 영향 없음  \n",
    "        － 임시적으로 코드를 비활성화"
   ]
  },
  {
   "cell_type": "markdown",
   "metadata": {},
   "source": [
    "### Example : 파일 내에서 가장 많이 쓰이는 단어 찾기"
   ]
  },
  {
   "cell_type": "code",
   "execution_count": 50,
   "metadata": {},
   "outputs": [
    {
     "name": "stdout",
     "output_type": "stream",
     "text": [
      "Enter file: abc.txt\n",
      "x 13\n"
     ]
    }
   ],
   "source": [
    "# 찾고 싶은 파일 이름 지정\n",
    "name = input('Enter file: ')\n",
    "handle = open(name, 'r')\n",
    "\n",
    "counts = dict()\n",
    "for line in handle :\n",
    "    words = line.split()\n",
    "    for word in words :\n",
    "        counts[word] = counts.get(word, 0) + 1\n",
    "        \n",
    "bigcount = None\n",
    "bigword = None\n",
    "for word, count in counts.items() :\n",
    "    if bigcount is None or count > bigcount :\n",
    "        bigword = word\n",
    "        bigcount = count\n",
    "        \n",
    "print(bigword, bigcount)"
   ]
  },
  {
   "cell_type": "markdown",
   "metadata": {},
   "source": [
    "  \n",
    "  "
   ]
  },
  {
   "cell_type": "markdown",
   "metadata": {},
   "source": [
    "## 2.3. 연습문제\n",
    "- Ex 1 : 파이썬에 다음 문장을 입력하시오.  \n",
    "\n",
    "    5  \n",
    "    x = 5  \n",
    "    x + 1"
   ]
  },
  {
   "cell_type": "markdown",
   "metadata": {},
   "source": [
    "- Ex 2 : input()을 사용하여 사용자의 이름을 입력받고 환영하는 프로그램을 작성하시오.  \n",
    "  \n",
    "    Enter your name: Kim  \n",
    "    Hello Kim"
   ]
  },
  {
   "cell_type": "markdown",
   "metadata": {},
   "source": [
    "- Ex 3 : input()을 사용하여 급여를 지불하기 위해서 사용자로부터 근로시간과 시간당 임금을 계산하는 프로그램을 작성하시오.  \n",
    "    － Enter Hours: 35  \n",
    "    － Enter Rate: 2.75  \n",
    "    － Pay: 96.25"
   ]
  },
  {
   "cell_type": "markdown",
   "metadata": {},
   "source": [
    "- Ex 4 : 다음 대입 문장을 실행한다고 가정할 때.  \n",
    "    － width = 17  \n",
    "    － height = 12.0    \n",
    "    - 다음 표현식 각각에 대해서, 표현식의 값(value)과 (표현식 값의) 자료형(type)을 작성하시오.  \n",
    "    a) width//2  \n",
    "    b) width/2.0  \n",
    "    c) height/3  \n",
    "    d) 1 + 2 * 5 "
   ]
  },
  {
   "cell_type": "markdown",
   "metadata": {},
   "source": [
    "- Ex 5 : 사용자로부터 섭씨 온도를 입력받아 화씨온도로 변환하고, 변환된 온도를 출력하는 프로그램을 작성하시오.  \n",
    "     (Hint : T(°F) = T(°C) * 9 / 5 + 32) "
   ]
  }
 ],
 "metadata": {
  "kernelspec": {
   "display_name": "Python 3",
   "language": "python",
   "name": "python3"
  },
  "language_info": {
   "codemirror_mode": {
    "name": "ipython",
    "version": 3
   },
   "file_extension": ".py",
   "mimetype": "text/x-python",
   "name": "python",
   "nbconvert_exporter": "python",
   "pygments_lexer": "ipython3",
   "version": "3.6.8"
  }
 },
 "nbformat": 4,
 "nbformat_minor": 2
}
