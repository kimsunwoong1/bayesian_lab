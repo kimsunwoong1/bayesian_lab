{
  "nbformat": 4,
  "nbformat_minor": 0,
  "metadata": {
    "colab": {
      "name": "3/8 Bayesian with python_Intro.ipynb",
      "version": "0.3.2",
      "provenance": [],
      "collapsed_sections": [],
      "include_colab_link": true
    },
    "kernelspec": {
      "display_name": "Python 3",
      "language": "python",
      "name": "python3"
    }
  },
  "cells": [
    {
      "cell_type": "markdown",
      "metadata": {
        "id": "view-in-github",
        "colab_type": "text"
      },
      "source": [
        "<a href=\"https://colab.research.google.com/github/sk-rhyeu/bayesian_lab/blob/master/3_8_Bayesian_with_python_Intro.ipynb\" target=\"_parent\"><img src=\"https://colab.research.google.com/assets/colab-badge.svg\" alt=\"Open In Colab\"/></a>"
      ]
    },
    {
      "metadata": {
        "id": "OVHwXF3775-v",
        "colab_type": "text"
      },
      "cell_type": "markdown",
      "source": [
        "# Github 소개\n",
        "- 참고 1 : 브런치, 개발자들 다 쓴다는 깃허브 https://brunch.co.kr/@thswlsgh/7\n",
        "- 참고 2 : 브런치, 개발자들 다 쓴다는 깃허브(GitHub) 도대체 뭐지? https://brunch.co.kr/@thswlsgh/7\n"
      ]
    },
    {
      "metadata": {
        "id": "WAS7IEE17_qh",
        "colab_type": "text"
      },
      "cell_type": "markdown",
      "source": [
        "## Git?  \n",
        "- 소스코드를 효과적으로 관리하기 위해 개발된 '버전관리 시스템'\n",
        "- 다시 말해, 하나의 파일이 변경된 이력을 추적하고, 복구할 수 있으며, 이것을 공유하며 함께 개발할 수 있게 만든 시스템.\n",
        "\n",
        "\n",
        "## Github \n",
        "- 버전관리 시스템인 'git'을 호스팅해주는 플랫폼.\n",
        "- 언제 어디서나 내 파일의 변동 이력, 수정 및 복구, 다른 사람과의 협업을 가능하게 한 플랫폼.\n",
        "\n",
        "\n",
        "## 프로그래머를 위한 베이지안 with 파이썬 관련 Github\n",
        "-  저자 Github :  https://goo.gl/Zeegt\n",
        "- 길벗 출판사 Github : https://github.com/gilbutITbook/006775"
      ]
    },
    {
      "metadata": {
        "id": "-7ZkkgsjQdoK",
        "colab_type": "text"
      },
      "cell_type": "markdown",
      "source": [
        "---"
      ]
    },
    {
      "metadata": {
        "id": "mDsQ0kIB7auC",
        "colab_type": "text"
      },
      "cell_type": "markdown",
      "source": [
        "# 주피터 노트북(Jupyter notebook) 알아보기\n",
        "- 세미나 류성균 파트 자료 : https://github.com/sk-rhyeu/bayesian_lab/blob/master/3_8_Bayesian_with_python_Intro.ipynb\n",
        "                         [단축 URL](https://c11.kr/5zob)"
      ]
    },
    {
      "metadata": {
        "id": "tUzUqKZV7auE",
        "colab_type": "text"
      },
      "cell_type": "markdown",
      "source": [
        "## 주피터 노트북 소개\n",
        "- 사실 40개 이상의 언어 사용 가능(R도 가능!)\n",
        "- 컴퓨터 상의 'Kernel'에서 파이썬 등의 언어가 작동하고 출력은 브라우저를 통해서 보여줌\n",
        "- pdf 등으로 변환 가능하고 Github 등에 올리면 직관적으로 내용 공유 가능!\n",
        "- 중간중간 Check point를 만들어 한 파일로 버전 관리 가능"
      ]
    },
    {
      "metadata": {
        "id": "NLnNKWSI7auF",
        "colab_type": "text"
      },
      "cell_type": "markdown",
      "source": [
        "##  주피터 노트북 켜기\n",
        "- 아나콘다 프롬프트(Anaconda Prompt)에 'Jupyter notebook'을 입력하고 엔터!\n",
        "- 'New'버튼을 누르고 'Python 3'눌러주시면 'Jupyter notebook' 파이썬 실행!"
      ]
    },
    {
      "metadata": {
        "id": "D-h4yS7PF-w8",
        "colab_type": "text"
      },
      "cell_type": "markdown",
      "source": [
        "## 주피터 노트북 시작 경로 변경  [참고 : Luke kim, Jupyter notebook에서 홈 디렉토리 변경](https://luke77.tistory.com/52)\n",
        "\n",
        "1. 아나콘다 프롬프트(Anaconda Prompt) 실행 \n",
        "\n",
        "2. jupyter notebook --generate-config 입력\n",
        "\n",
        "3. 사용자 폴더에 .jupyter 폴더 진입\n",
        "\n",
        "4. jupyter_notebook_config.py 열기\n",
        "\n",
        "5. #c.NotebookApp.notebook_dir = '' 열찾기 (179 번째 line 정도)\n",
        "\n",
        "6. 주석제거\n",
        "\n",
        "7. '' 란 안에 원하는 폴더의 절대 경로 삽입. 단 \\ --> / 로 변경 (c:\\temp --> c:/temp)\n",
        "\n",
        "8. 저장 후 jupyter notebook 재실행"
      ]
    },
    {
      "metadata": {
        "id": "xoduKNt67auH",
        "colab_type": "text"
      },
      "cell_type": "markdown",
      "source": [
        "## Cell 개념 소개"
      ]
    },
    {
      "metadata": {
        "id": "AiOv9kLJ7auJ",
        "colab_type": "text"
      },
      "cell_type": "markdown",
      "source": [
        "- Jupyter notebook은 Cell을 기본 단위로 구성되어있음\n",
        "- Cell은 'Code'와 'Markdown'으로 나뉨. 이를 통해 하나의 보고서를 만들 수 있음.\n",
        "    - code : 파이썬 실행되는 영역\n",
        "    - Markdown : 글을 쓸 수 있는 영역"
      ]
    },
    {
      "metadata": {
        "id": "RhnGb3yQ7auK",
        "colab_type": "code",
        "colab": {}
      },
      "cell_type": "code",
      "source": [
        "print(\"Hello Bayesian\")"
      ],
      "execution_count": 0,
      "outputs": []
    },
    {
      "metadata": {
        "id": "jI43Af757auT",
        "colab_type": "text"
      },
      "cell_type": "markdown",
      "source": [
        "print(\"Hello Bayesian\")"
      ]
    },
    {
      "metadata": {
        "id": "CIMDZWcQ7auV",
        "colab_type": "text"
      },
      "cell_type": "markdown",
      "source": [
        "- 하나의 Cell은 마크다운도 될 수 있고 코드도 될 수 있음\n",
        "- Code cell 내에서도 주석을 이용해 설명을 달 수는 있지만, 설명의 길이가 길어진다면 Markdown을 활용하는 것이 현명.\n",
        "- 마크다운을 잘 활용하기 위해서는 문법에 익숙해지는 게 필요하지만 시간 관계상 생략..\n",
        "    - 참조 : [마크다운 사용법](https://gist.github.com/ihoneymon/652be052a0727ad59601)"
      ]
    },
    {
      "metadata": {
        "id": "itfFSfAT7auW",
        "colab_type": "text"
      },
      "cell_type": "markdown",
      "source": [
        "## Jupyter notebook 단축키\n",
        "- 참조 1 [따라하며 배우는 데이터 과학](https://dataninja.me/ipds-kr/python-setup/)\n",
        "- 참조 2 [꼬낄콘의 분석일지](https://kkokkilkon.tistory.com/151)\n"
      ]
    },
    {
      "metadata": {
        "id": "3h1kpxuG_kZn",
        "colab_type": "text"
      },
      "cell_type": "markdown",
      "source": [
        "### (1) 공통"
      ]
    },
    {
      "metadata": {
        "id": "oYuEXEU8_pZZ",
        "colab_type": "text"
      },
      "cell_type": "markdown",
      "source": [
        "- **선택 셀 코드 실행 [ctrl] + [enter]**\n",
        "- **선택 셀 코드 실행 후 새로운 셀 추가 [shift] + [enter]**\n",
        "- 커맨드 모드로 전환 [ECS]\n",
        "- 편집 모드로 전환 [Enter]"
      ]
    },
    {
      "metadata": {
        "id": "mNF9VQ2L7auX",
        "colab_type": "text"
      },
      "cell_type": "markdown",
      "source": [
        "### (2) 셀 선택 모드 Command Mode\n",
        "- [esc] 또는 [ctrl]+[m]을 눌러 '셀 선택 모드'를 만들 수 있다.\n",
        "- 셀 단위 편집 가능"
      ]
    },
    {
      "metadata": {
        "colab_type": "text",
        "id": "v0dvhCnhdGDq"
      },
      "cell_type": "markdown",
      "source": [
        "- **아래로 셀 추가 [b]**\n",
        "- **선텍 셀 삭제 [d][d]**\n",
        "- **Markdown / Code 로 변경 [m] / [y]**\n",
        "- **파일 저장 [Ctrl]+[s] 또는 [s]**\n",
        "- 위로 셀 추가 [a]\n",
        "- 선택 셀 잘라내기 [x]\n",
        "- 선택 셀 복사하기 [c]\n",
        "- 선택 셀 아래 붙여넣기 [p]\n",
        "- 선택 셀과 아래 셀 합치기 [shift] + [m]\n",
        "- 실행결과 열기 / 닫기 [o]\n",
        "- 선택 셀의 코드 입력 모드로 돌아가기 [enter]"
      ]
    },
    {
      "metadata": {
        "id": "vYTde00C7auZ",
        "colab_type": "text"
      },
      "cell_type": "markdown",
      "source": [
        "## (3) 코드 입력 모드 Edit Mode\n",
        "- [enter]를 눌러 셀이 아래와 같이 초록색이 된 상태(코드 입력 모드)"
      ]
    },
    {
      "metadata": {
        "id": "4wt3PkjKdF3b",
        "colab_type": "text"
      },
      "cell_type": "markdown",
      "source": [
        "\n",
        "- 선택 셀 코드 전체 선택 [ctrl] + [a]\n",
        "- 선택 셀 내 실행 취소 [ctrl] + [z]"
      ]
    },
    {
      "metadata": {
        "id": "LxqXTnHPBE8f",
        "colab_type": "text"
      },
      "cell_type": "markdown",
      "source": [
        "## 간단한 코드 입력 및 활용"
      ]
    },
    {
      "metadata": {
        "id": "jkyqlz087auh",
        "colab_type": "code",
        "colab": {}
      },
      "cell_type": "code",
      "source": [
        "from IPython.core.pylabtools import figsize\n",
        "import numpy as np\n",
        "from matplotlib import pyplot as plt\n",
        "import matplotlib\n",
        "matplotlib.rc(\"font\", family=\"Malgun Gothic\")\n",
        "\n",
        "figsize(11, 9)\n",
        "\n",
        "import scipy.stats as stats\n",
        "\n",
        "dist =  stats.beta\n",
        "n_trials = [0, 1, 2, 3, 4, 5, 8, 15, 50, 500]\n",
        "data = stats.bernoulli.rvs(0.5, size=n_trials[-1]) # [-1]\n",
        "x = np.linspace(0,1, 100)"
      ],
      "execution_count": 0,
      "outputs": []
    },
    {
      "metadata": {
        "id": "hoNQjU657aul",
        "colab_type": "code",
        "colab": {}
      },
      "cell_type": "code",
      "source": [
        "# For the already prepared, I'm using Binomial's conj. prior.\n",
        "for k, N in enumerate(n_trials):\n",
        "    sx = plt.subplot(len(n_trials) / 2, 2, k + 1)\n",
        "    plt.xlabel(\"$p$, probability of heads\") \\\n",
        "        if k in [0, len(n_trials) - 1] else None\n",
        "    plt.setp(sx.get_yticklabels(), visible=False)\n",
        "    heads = data[:N].sum()\n",
        "    y = dist.pdf(x, 1 + heads, 1 + N - heads)\n",
        "    plt.plot(x, y, label=\"11 observe %d tosses,\\n %d heads\" % (N, heads))\n",
        "    plt.fill_between(x, 0, y, color=\"#348ABD\", alpha=0.4)\n",
        "    plt.vlines(0.5, 0, 4, color=\"k\", linestyles=\"--\", lw=1)\n",
        "\n",
        "    leg = plt.legend()\n",
        "    leg.get_frame().set_alpha(0.4)\n",
        "    plt.autoscale(tight=True)\n"
      ],
      "execution_count": 0,
      "outputs": []
    },
    {
      "metadata": {
        "id": "mchHlwRkBJl9",
        "colab_type": "text"
      },
      "cell_type": "markdown",
      "source": [
        "---"
      ]
    },
    {
      "metadata": {
        "id": "Z5BSmDwQF2uJ",
        "colab_type": "text"
      },
      "cell_type": "markdown",
      "source": [
        "# Google Colabotory 사용해보기"
      ]
    },
    {
      "metadata": {
        "id": "w1LtBNZzBZLg",
        "colab_type": "text"
      },
      "cell_type": "markdown",
      "source": [
        "## 장점\n",
        "- Google Docs의 주피터 노트북 판!\n",
        "- 더 좋은건 웹상에서 RAM과 GPU 제공\n",
        "    - 사양 <https://colab.research.google.com/drive/151805XTDg--dgHb3-AXJCpnWaqRhop_2#scrollTo=vEWe-FHNDY3E>\n",
        "        - CPU : 1xsingle core hyper threaded i.e(1 core, 2 threads) Xeon Processors @2.3Ghz (No Turbo Boost) , 45MB Cache\n",
        "        - RAM : ~12.6 GB Available\n",
        "        - DISK : ~33 GB Available \n",
        "        - GPU : 1xTesla K80 , having 2496 CUDA cores, compute 3.7,  12GB(11.439GB Usable) GDDR5  VRAM\n",
        "    - GPU / TPU는 [수정] - [노트설정]에서 설정\n",
        "- 구글 드라이브에 데이터를 올려놓고 바로 작업 가능 \n",
        " \n",
        "## 단점\n",
        "- 인터넷 연결에 영향을 받거나 가끔씩 꺼지는 경우(요새는 많이 안정화)\n",
        "- 내가 설치한 새로운 환경 패키지, 샘플 데이터 등이 소실 가능..."
      ]
    },
    {
      "metadata": {
        "id": "IFvqUWyhED-G",
        "colab_type": "text"
      },
      "cell_type": "markdown",
      "source": [
        "## 단축키\n",
        "- 단축키는 대부분 주피터 노트북의 단축키를 누르기 전에 [Ctrl] + [m] 을 누른다.\n",
        "- 단축기 조정 가능 [Ctrl] + [m], [h]"
      ]
    },
    {
      "metadata": {
        "id": "j6dujk-w7aur",
        "colab_type": "text"
      },
      "cell_type": "markdown",
      "source": [
        "기본"
      ]
    },
    {
      "metadata": {
        "id": "W1Qo2jab7auw",
        "colab_type": "code",
        "outputId": "1d56a4f2-eacc-4f75-a51e-c74b4d5a197e",
        "colab": {
          "base_uri": "https://localhost:8080/",
          "height": 53
        }
      },
      "cell_type": "code",
      "source": [
        "import tensorflow as tf\n",
        "\n",
        "input1 = tf.ones((2, 3))\n",
        "input2 = tf.reshape(tf.range(1, 7, dtype=tf.float32), (2, 3))\n",
        "output = input1 + input2\n",
        "\n",
        "with tf.Session():\n",
        "  result = output.eval()\n",
        "result  "
      ],
      "execution_count": 0,
      "outputs": [
        {
          "output_type": "execute_result",
          "data": {
            "text/plain": [
              "array([[2., 3., 4.],\n",
              "       [5., 6., 7.]], dtype=float32)"
            ]
          },
          "metadata": {
            "tags": []
          },
          "execution_count": 6
        }
      ]
    },
    {
      "metadata": {
        "id": "RYkhkTYqZx8q",
        "colab_type": "code",
        "outputId": "84f5fcf8-f56b-4051-9ea1-050e23f00529",
        "colab": {
          "base_uri": "https://localhost:8080/",
          "height": 537
        }
      },
      "cell_type": "code",
      "source": [
        "import matplotlib.pyplot as plt\n",
        "import numpy as np\n",
        "\n",
        "x = np.arange(20)\n",
        "y = [x_i + np.random.randn(1) for x_i in x]\n",
        "a, b = np.polyfit(x, y, 1)\n",
        "_ = plt.plot(x, y, 'o', np.arange(20), a*np.arange(20)+b, '-')"
      ],
      "execution_count": 0,
      "outputs": [
        {
          "output_type": "display_data",
          "data": {
            "image/png": "[encoded data removed]",
            "text/plain": [
              "<Figure size 792x648 with 1 Axes>"
            ]
          },
          "metadata": {
            "tags": []
          }
        }
      ]
    },
    {
      "metadata": {
        "id": "mOmQajcsZ4id",
        "colab_type": "code",
        "outputId": "0b43367b-385f-4444-e8b7-dac0cc28f13e",
        "colab": {
          "base_uri": "https://localhost:8080/",
          "height": 525
        }
      },
      "cell_type": "code",
      "source": [
        "!pip install -q matplotlib-venn\n",
        "\n",
        "from matplotlib_venn import venn2\n",
        "_ = venn2(subsets = (3, 2, 1))"
      ],
      "execution_count": 0,
      "outputs": [
        {
          "output_type": "stream",
          "text": [
            "/usr/local/lib/python3.6/dist-packages/matplotlib/font_manager.py:1241: UserWarning: findfont: Font family ['Malgun Gothic'] not found. Falling back to DejaVu Sans.\n",
            "  (prop.get_family(), self.defaultFamily[fontext]))\n"
          ],
          "name": "stderr"
        },
        {
          "output_type": "display_data",
          "data": {
            "image/png": "[encoded data removed]",
            "text/plain": [
              "<Figure size 792x648 with 1 Axes>"
            ]
          },
          "metadata": {
            "tags": []
          }
        }
      ]
    },
    {
      "metadata": {
        "id": "0Nl_-4n9HSXx",
        "colab_type": "text"
      },
      "cell_type": "markdown",
      "source": [
        "---"
      ]
    },
    {
      "metadata": {
        "id": "-DLzoExkZ7jV",
        "colab_type": "text"
      },
      "cell_type": "markdown",
      "source": [
        "# 추천 자료\n",
        "\n",
        "- 사실상 책을 보기 위해서는 파이썬 구조와 문법에 대한 이해가 선행되어야 하지만..\n",
        "\n",
        "- 도서\n",
        "    - [점프 투 파이썬](https://wikidocs.net/book/1) (무료 위키 북스)\n",
        "- 강좌\n",
        "    - [김왼손 유튜브](https://www.youtube.com/channel/UC0h8NzL2vllvp3PjdoYSK4g)\n",
        "        - [한입에 쏙 파이썬](https://www.youtube.com/watch?v=UrwFkNRzzT4&list=PLGPF8gvWLYyontH0PECIUFFUdvATXWQEL)\n",
        "        - [미운코딩새끼](https://www.youtube.com/watch?v=c2mpe9Xcp0I&list=PLGPF8gvWLYyrkF85itdBHaOLSVbtdzBww)\n",
        "        - [유기농냠냠파이썬](https://www.youtube.com/watch?v=UHg1Drp1uKE&list=PLGPF8gvWLYypeEoFNTfSHdFL5WRLAfmmm)\n",
        "        - [파이썬 예제 뽀개기](https://www.youtube.com/watch?v=-JuiKYQZiNQ&list=PLGPF8gvWLYyomy0D1-uoQHTWPvjXTjr_a)\n",
        "    -  Edwith 강좌\n",
        "        - [모두를 위한 파이썬](https://www.edwith.org/pythonforeverybody)\n",
        "        - [머신러닝을 위한 Python 워밍업](https://www.edwith.org/aipython)"
      ]
    }
  ]
}