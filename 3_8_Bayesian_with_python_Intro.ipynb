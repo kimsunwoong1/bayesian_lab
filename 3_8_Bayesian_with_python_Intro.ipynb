{
  "nbformat": 4,
  "nbformat_minor": 0,
  "metadata": {
    "colab": {
      "name": "3/8 Bayesian with python_Intro.ipynb",
      "version": "0.3.2",
      "provenance": [],
      "collapsed_sections": [],
      "include_colab_link": true
    },
    "kernelspec": {
      "display_name": "Python 3",
      "language": "python",
      "name": "python3"
    }
  },
  "cells": [
    {
      "cell_type": "markdown",
      "metadata": {
        "id": "view-in-github",
        "colab_type": "text"
      },
      "source": [
        "<a href=\"https://colab.research.google.com/github/sk-rhyeu/bayesian_lab/blob/master/3_8_Bayesian_with_python_Intro.ipynb\" target=\"_parent\"><img src=\"https://colab.research.google.com/assets/colab-badge.svg\" alt=\"Open In Colab\"/></a>"
      ]
    },
    {
      "metadata": {
        "id": "OVHwXF3775-v",
        "colab_type": "text"
      },
      "cell_type": "markdown",
      "source": [
        "# Github 소개"
      ]
    },
    {
      "metadata": {
        "id": "oOvhHrOS7_E8",
        "colab_type": "code",
        "colab": {}
      },
      "cell_type": "code",
      "source": [
        ""
      ],
      "execution_count": 0,
      "outputs": []
    },
    {
      "metadata": {
        "id": "WAS7IEE17_qh",
        "colab_type": "text"
      },
      "cell_type": "markdown",
      "source": [
        "## Github 주소 : "
      ]
    },
    {
      "metadata": {
        "id": "TdifRzMv8ClU",
        "colab_type": "code",
        "colab": {}
      },
      "cell_type": "code",
      "source": [
        ""
      ],
      "execution_count": 0,
      "outputs": []
    },
    {
      "metadata": {
        "id": "mDsQ0kIB7auC",
        "colab_type": "text"
      },
      "cell_type": "markdown",
      "source": [
        "# 주피터 노트북(Jupyter notebook) 알아보기"
      ]
    },
    {
      "metadata": {
        "id": "tUzUqKZV7auE",
        "colab_type": "text"
      },
      "cell_type": "markdown",
      "source": [
        "## 주피터 노트북 소개\n",
        "- 사실 40개 이상의 언어 사용 가능(R도 가능!)\n",
        "- 컴퓨터 상의 'Kernel'에서 파이썬 등의 언어가 작동하고 출력은 브라우저를 통해서 보여줌\n",
        "- pdf 등으로 변환 가능하고 Github 등에 올리면 직관적으로 내용 공유 가능!\n",
        "- 중간중간 Check point를 만들어 한 파일로 버전 관리 가능"
      ]
    },
    {
      "metadata": {
        "id": "NLnNKWSI7auF",
        "colab_type": "text"
      },
      "cell_type": "markdown",
      "source": [
        "##  주피터 노트북 켜기"
      ]
    },
    {
      "metadata": {
        "id": "jWwbui787auG",
        "colab_type": "text"
      },
      "cell_type": "markdown",
      "source": [
        "- 아나콘다 프롬프트(Anaconda Prompt)에 'Jupyter notebook'을 입력하고 엔터!\n",
        "- 'New'버튼을 누르고 'Python 3'눌러주시면 'Jupyter notebook' 파이썬 실행!"
      ]
    },
    {
      "metadata": {
        "id": "xoduKNt67auH",
        "colab_type": "text"
      },
      "cell_type": "markdown",
      "source": [
        "## Cell 개념 소개"
      ]
    },
    {
      "metadata": {
        "id": "AiOv9kLJ7auJ",
        "colab_type": "text"
      },
      "cell_type": "markdown",
      "source": [
        "- Jupyter notebook은 Cell을 기본 단위로 구성되어있음\n",
        "- Cell은 'Code'와 'Markdown'으로 나뉨. 이를 통해 하나의 보고서를 만들 수 있음.\n",
        "    - code : 파이썬 실행되는 영역\n",
        "    - Markdown : 글을 쓸 수 있는 영역"
      ]
    },
    {
      "metadata": {
        "id": "RhnGb3yQ7auK",
        "colab_type": "code",
        "outputId": "15bb41d8-5dc9-46e4-8516-9b7cc84a13ca",
        "colab": {}
      },
      "cell_type": "code",
      "source": [
        "print(\"Hello Bayesian\")"
      ],
      "execution_count": 0,
      "outputs": [
        {
          "output_type": "stream",
          "text": [
            "Hello Bayesian\n"
          ],
          "name": "stdout"
        }
      ]
    },
    {
      "metadata": {
        "id": "nGth5iCg7auR",
        "colab_type": "code",
        "colab": {}
      },
      "cell_type": "code",
      "source": [
        ""
      ],
      "execution_count": 0,
      "outputs": []
    },
    {
      "metadata": {
        "id": "jI43Af757auT",
        "colab_type": "text"
      },
      "cell_type": "markdown",
      "source": [
        "print(\"Hello Bayesian\")"
      ]
    },
    {
      "metadata": {
        "id": "CIMDZWcQ7auV",
        "colab_type": "text"
      },
      "cell_type": "markdown",
      "source": [
        "- 하나의 Cell은 마크다운도 될 수 있고 코드도 될 수 있음\n",
        "- Code cell 내에서도 주석을 이용해 설명을 달 수는 있지만, 설명의 길이가 길어진다면 Markdown을 활용하는 것이 현명.\n",
        "- 마크다운을 잘 활용하기 위해서는 문법에 익숙해지는 게 필요하지만 시간 관계상 생략..\n",
        "    - 참조 : <https://gist.github.com/ihoneymon/652be052a0727ad59601>"
      ]
    },
    {
      "metadata": {
        "id": "itfFSfAT7auW",
        "colab_type": "text"
      },
      "cell_type": "markdown",
      "source": [
        "## Jupyter notebook 단축키\n",
        "- 참조 <https://kkokkilkon.tistory.com/151>"
      ]
    },
    {
      "metadata": {
        "id": "mNF9VQ2L7auX",
        "colab_type": "text"
      },
      "cell_type": "markdown",
      "source": [
        "### (1) 셀 선택 모드 Command Mode\n",
        "- [esc] 또는 [ctrl]+[m]을 눌러 '셀 선택 모드'를 만들 수 있다.\n",
        "- 셀 단위 편집 가능"
      ]
    },
    {
      "metadata": {
        "id": "JlN5eLgQ7auY",
        "colab_type": "text"
      },
      "cell_type": "markdown",
      "source": [
        "- 위로 셀 추가 [a]\n",
        "- **아래로 셀 추가 [b]**\n",
        "- **선텍 셀 삭제 [d][d]**\n",
        "- 선택 셀 잘라내기 [x]\n",
        "- 선택 셀 복사하기 [c]\n",
        "- 선택 셀 아래 붙여넣기 [p]\n",
        "- 선택 셀과 아래 셀 합치기 [shift] + [m]\n",
        "- 실행결과 열기 / 닫기 [o]\n",
        "- **Markdown으로 변경 [m]**\n",
        "- **Code로 변경 [y]**\n",
        "- **파일 저장 [Ctrl]+[s] 또는 [s]**\n",
        "- 선택 셀의 코드 입력 모드로 돌아가기 [enter]"
      ]
    },
    {
      "metadata": {
        "id": "vYTde00C7auZ",
        "colab_type": "text"
      },
      "cell_type": "markdown",
      "source": [
        "## (2) 코드 입력 모드 Edit Mode\n",
        "- [enter]를 눌러 셀이 아래와 같이 초록색이 된 상태(코드 입력 모드)"
      ]
    },
    {
      "metadata": {
        "id": "y9Dpw0qs7aua",
        "colab_type": "code",
        "colab": {}
      },
      "cell_type": "code",
      "source": [
        "- **선택 셀 코드 실행 [ctrl] + [enter]**\n",
        "- **선택 셀 코드 실행 후 새로운 셀 추가 [shift] + [enter]**\n",
        "- 선택 셀 코드 전체 선택 [ctrl] + [a]\n",
        "- 선택 셀 내 실행 취소 [ctrl] + [z]\n",
        "- 선택 "
      ],
      "execution_count": 0,
      "outputs": []
    },
    {
      "metadata": {
        "id": "465TheKE7aud",
        "colab_type": "code",
        "colab": {}
      },
      "cell_type": "code",
      "source": [
        ""
      ],
      "execution_count": 0,
      "outputs": []
    },
    {
      "metadata": {
        "id": "jkyqlz087auh",
        "colab_type": "code",
        "colab": {}
      },
      "cell_type": "code",
      "source": [
        ""
      ],
      "execution_count": 0,
      "outputs": []
    },
    {
      "metadata": {
        "id": "hoNQjU657aul",
        "colab_type": "code",
        "colab": {}
      },
      "cell_type": "code",
      "source": [
        ""
      ],
      "execution_count": 0,
      "outputs": []
    },
    {
      "metadata": {
        "id": "2zm8ktqu7aup",
        "colab_type": "code",
        "colab": {}
      },
      "cell_type": "code",
      "source": [
        ""
      ],
      "execution_count": 0,
      "outputs": []
    },
    {
      "metadata": {
        "id": "j6dujk-w7aur",
        "colab_type": "code",
        "colab": {}
      },
      "cell_type": "code",
      "source": [
        ""
      ],
      "execution_count": 0,
      "outputs": []
    },
    {
      "metadata": {
        "id": "RQ89I1LD7auu",
        "colab_type": "code",
        "colab": {}
      },
      "cell_type": "code",
      "source": [
        ""
      ],
      "execution_count": 0,
      "outputs": []
    },
    {
      "metadata": {
        "id": "W1Qo2jab7auw",
        "colab_type": "code",
        "colab": {}
      },
      "cell_type": "code",
      "source": [
        ""
      ],
      "execution_count": 0,
      "outputs": []
    },
    {
      "metadata": {
        "id": "hzIXuCjH7au0",
        "colab_type": "code",
        "colab": {}
      },
      "cell_type": "code",
      "source": [
        ""
      ],
      "execution_count": 0,
      "outputs": []
    },
    {
      "metadata": {
        "id": "1gOQoW067au2",
        "colab_type": "code",
        "colab": {}
      },
      "cell_type": "code",
      "source": [
        ""
      ],
      "execution_count": 0,
      "outputs": []
    },
    {
      "metadata": {
        "id": "2wuLE9oL7au4",
        "colab_type": "code",
        "colab": {}
      },
      "cell_type": "code",
      "source": [
        ""
      ],
      "execution_count": 0,
      "outputs": []
    },
    {
      "metadata": {
        "id": "rDmy3CzT7au8",
        "colab_type": "code",
        "colab": {}
      },
      "cell_type": "code",
      "source": [
        ""
      ],
      "execution_count": 0,
      "outputs": []
    },
    {
      "metadata": {
        "id": "5lcBt-q27avA",
        "colab_type": "code",
        "colab": {}
      },
      "cell_type": "code",
      "source": [
        ""
      ],
      "execution_count": 0,
      "outputs": []
    },
    {
      "metadata": {
        "id": "NkDdCPFH7avF",
        "colab_type": "code",
        "colab": {}
      },
      "cell_type": "code",
      "source": [
        ""
      ],
      "execution_count": 0,
      "outputs": []
    },
    {
      "metadata": {
        "id": "ZN4IymWx7avH",
        "colab_type": "code",
        "colab": {}
      },
      "cell_type": "code",
      "source": [
        ""
      ],
      "execution_count": 0,
      "outputs": []
    },
    {
      "metadata": {
        "id": "LUwoCXQH7avK",
        "colab_type": "code",
        "colab": {}
      },
      "cell_type": "code",
      "source": [
        ""
      ],
      "execution_count": 0,
      "outputs": []
    },
    {
      "metadata": {
        "id": "MW4OHdfN7avM",
        "colab_type": "code",
        "colab": {}
      },
      "cell_type": "code",
      "source": [
        ""
      ],
      "execution_count": 0,
      "outputs": []
    },
    {
      "metadata": {
        "id": "dMpNV01D7avP",
        "colab_type": "code",
        "colab": {}
      },
      "cell_type": "code",
      "source": [
        ""
      ],
      "execution_count": 0,
      "outputs": []
    },
    {
      "metadata": {
        "id": "f5DQLRUP7avW",
        "colab_type": "code",
        "colab": {}
      },
      "cell_type": "code",
      "source": [
        ""
      ],
      "execution_count": 0,
      "outputs": []
    },
    {
      "metadata": {
        "id": "VZ-ebLMo7avY",
        "colab_type": "code",
        "colab": {}
      },
      "cell_type": "code",
      "source": [
        ""
      ],
      "execution_count": 0,
      "outputs": []
    },
    {
      "metadata": {
        "id": "dcsfbW0i7avb",
        "colab_type": "code",
        "colab": {}
      },
      "cell_type": "code",
      "source": [
        ""
      ],
      "execution_count": 0,
      "outputs": []
    },
    {
      "metadata": {
        "id": "ihBjljlv7ave",
        "colab_type": "code",
        "colab": {}
      },
      "cell_type": "code",
      "source": [
        ""
      ],
      "execution_count": 0,
      "outputs": []
    },
    {
      "metadata": {
        "id": "QD-SB5Jf7avh",
        "colab_type": "code",
        "colab": {}
      },
      "cell_type": "code",
      "source": [
        ""
      ],
      "execution_count": 0,
      "outputs": []
    },
    {
      "metadata": {
        "id": "S-1-ZNHF7avj",
        "colab_type": "code",
        "colab": {}
      },
      "cell_type": "code",
      "source": [
        ""
      ],
      "execution_count": 0,
      "outputs": []
    },
    {
      "metadata": {
        "id": "Ksx61li47avm",
        "colab_type": "code",
        "colab": {}
      },
      "cell_type": "code",
      "source": [
        ""
      ],
      "execution_count": 0,
      "outputs": []
    },
    {
      "metadata": {
        "id": "BBKYnhCa7avq",
        "colab_type": "code",
        "colab": {}
      },
      "cell_type": "code",
      "source": [
        ""
      ],
      "execution_count": 0,
      "outputs": []
    },
    {
      "metadata": {
        "id": "LWRzYE9i7avt",
        "colab_type": "code",
        "colab": {}
      },
      "cell_type": "code",
      "source": [
        ""
      ],
      "execution_count": 0,
      "outputs": []
    },
    {
      "metadata": {
        "id": "6KvRLE3S7avw",
        "colab_type": "code",
        "colab": {}
      },
      "cell_type": "code",
      "source": [
        ""
      ],
      "execution_count": 0,
      "outputs": []
    },
    {
      "metadata": {
        "id": "QFHPzaaU7avy",
        "colab_type": "code",
        "colab": {}
      },
      "cell_type": "code",
      "source": [
        ""
      ],
      "execution_count": 0,
      "outputs": []
    },
    {
      "metadata": {
        "id": "9HzoCbI-7av0",
        "colab_type": "code",
        "colab": {}
      },
      "cell_type": "code",
      "source": [
        ""
      ],
      "execution_count": 0,
      "outputs": []
    },
    {
      "metadata": {
        "id": "M9DJLTue7av2",
        "colab_type": "code",
        "colab": {}
      },
      "cell_type": "code",
      "source": [
        ""
      ],
      "execution_count": 0,
      "outputs": []
    },
    {
      "metadata": {
        "id": "SQ3S-Kfw7av4",
        "colab_type": "code",
        "colab": {}
      },
      "cell_type": "code",
      "source": [
        ""
      ],
      "execution_count": 0,
      "outputs": []
    },
    {
      "metadata": {
        "id": "r0ULrOmd7av6",
        "colab_type": "code",
        "colab": {}
      },
      "cell_type": "code",
      "source": [
        ""
      ],
      "execution_count": 0,
      "outputs": []
    },
    {
      "metadata": {
        "id": "yxmeUxRV7av8",
        "colab_type": "code",
        "colab": {}
      },
      "cell_type": "code",
      "source": [
        ""
      ],
      "execution_count": 0,
      "outputs": []
    },
    {
      "metadata": {
        "id": "M763vhk67av-",
        "colab_type": "code",
        "colab": {}
      },
      "cell_type": "code",
      "source": [
        ""
      ],
      "execution_count": 0,
      "outputs": []
    },
    {
      "metadata": {
        "id": "VJQxE_997awB",
        "colab_type": "code",
        "colab": {}
      },
      "cell_type": "code",
      "source": [
        ""
      ],
      "execution_count": 0,
      "outputs": []
    },
    {
      "metadata": {
        "id": "fK8RerH17awD",
        "colab_type": "code",
        "colab": {}
      },
      "cell_type": "code",
      "source": [
        ""
      ],
      "execution_count": 0,
      "outputs": []
    },
    {
      "metadata": {
        "id": "oFcYReGf7awF",
        "colab_type": "code",
        "colab": {}
      },
      "cell_type": "code",
      "source": [
        ""
      ],
      "execution_count": 0,
      "outputs": []
    },
    {
      "metadata": {
        "id": "I9gWTOAZ7awH",
        "colab_type": "code",
        "colab": {}
      },
      "cell_type": "code",
      "source": [
        ""
      ],
      "execution_count": 0,
      "outputs": []
    },
    {
      "metadata": {
        "id": "Dj5THK7H7awL",
        "colab_type": "code",
        "colab": {}
      },
      "cell_type": "code",
      "source": [
        ""
      ],
      "execution_count": 0,
      "outputs": []
    },
    {
      "metadata": {
        "id": "UaF6DECX7awN",
        "colab_type": "code",
        "colab": {}
      },
      "cell_type": "code",
      "source": [
        ""
      ],
      "execution_count": 0,
      "outputs": []
    },
    {
      "metadata": {
        "id": "6m4b4gow7awP",
        "colab_type": "code",
        "colab": {}
      },
      "cell_type": "code",
      "source": [
        ""
      ],
      "execution_count": 0,
      "outputs": []
    },
    {
      "metadata": {
        "id": "qNKO41uu7awS",
        "colab_type": "code",
        "colab": {}
      },
      "cell_type": "code",
      "source": [
        ""
      ],
      "execution_count": 0,
      "outputs": []
    },
    {
      "metadata": {
        "id": "KoS73mPl7awU",
        "colab_type": "code",
        "colab": {}
      },
      "cell_type": "code",
      "source": [
        ""
      ],
      "execution_count": 0,
      "outputs": []
    },
    {
      "metadata": {
        "id": "p9UeIXtJ7awW",
        "colab_type": "code",
        "colab": {}
      },
      "cell_type": "code",
      "source": [
        ""
      ],
      "execution_count": 0,
      "outputs": []
    },
    {
      "metadata": {
        "id": "bTpVMnU_7awY",
        "colab_type": "code",
        "colab": {}
      },
      "cell_type": "code",
      "source": [
        ""
      ],
      "execution_count": 0,
      "outputs": []
    }
  ]
}