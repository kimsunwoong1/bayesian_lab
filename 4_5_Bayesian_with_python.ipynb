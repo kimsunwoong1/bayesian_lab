{
  "nbformat": 4,
  "nbformat_minor": 0,
  "metadata": {
    "colab": {
      "name": "4/5 Bayesian with python",
      "version": "0.3.2",
      "provenance": [],
      "collapsed_sections": [],
      "include_colab_link": true
    },
    "kernelspec": {
      "name": "python3",
      "display_name": "Python 3"
    }
  },
  "cells": [
    {
      "cell_type": "markdown",
      "metadata": {
        "id": "view-in-github",
        "colab_type": "text"
      },
      "source": [
        "<a href=\"https://colab.research.google.com/github/DONGJUSEO/bayesian_lab/blob/master/4_5_Bayesian_with_python.ipynb\" target=\"_parent\"><img src=\"https://colab.research.google.com/assets/colab-badge.svg\" alt=\"Open In Colab\"/></a>"
      ]
    },
    {
      "metadata": {
        "id": "OVHwXF3775-v",
        "colab_type": "text"
      },
      "cell_type": "markdown",
      "source": [
        "# Today's 세미나 목차\n",
        "\n",
        "---\n",
        "\n",
        "1.   1 & 2주차 내용 복습\n",
        "\n",
        "1.  R vs Python 비교\n",
        "\n",
        "1.   PyMC란?\n",
        "\n",
        "1.   PyMC vs MCMCPACK with disaster data\n",
        "\n",
        "1.   프로그래머를 위한 베이지안 with 파이썬(2장)"
      ]
    },
    {
      "metadata": {
        "id": "SS6t3qlYEd-q",
        "colab_type": "text"
      },
      "cell_type": "markdown",
      "source": [
        "# 1. 1 & 2주차 내용 복습\n",
        "\n",
        "---\n",
        "1. 1주차 :  열정남1 성균이의 주피터노트북 [[링크 텍스트](https://nbviewer.jupyter.org/github/sk-rhyeu/bayesian_lab/blob/master/3_8_Bayesian_with_python_Intro.ipynb)]\n",
        "2. 2주차 : 열정남2 지현이의 PPT"
      ]
    },
    {
      "metadata": {
        "id": "KFEYXmdfFT39",
        "colab_type": "text"
      },
      "cell_type": "markdown",
      "source": [
        "# 2. R vs Python 비교\n",
        "\n",
        "---\n",
        "참고 : https://www.youtube.com/watch?v=jLGsrGk2pDU\n",
        "\n",
        "1.   R\n",
        "\n",
        "\n",
        "*   장점\n",
        "\n",
        "\n",
        "> 1) 데이터 마이닝/ 통계분석을 위한 자료 및 패키지가 매우 많음 (R의 주목적)\n",
        "\n",
        "> 2) 이미 검증된 머신러닝 알고리즘 코딩 자료가 굉장히 많음 (ex. SVM)\n",
        "\n",
        "> 3) 고퀄, 대용량의 인공지능 코드 자료가 많음 (구글링 최고!)\n",
        "\n",
        "> 4) 연구, 분석, 실험 목적의 프로그래밍로서 적합\n",
        "\n",
        "\n",
        "*  단점\n",
        "\n",
        "> 1) 언어 자체가 오래되서 효율성이 떨어짐 (R : 100줄 vs Python: 30줄)\n",
        "\n",
        "> 2) 입문자가 배우기 어려운 구조\n",
        "\n",
        "> 3) 서비스, 어플리케이션과 같이 실제 시스템을 구현하기에 많은 어려움이 따름\n",
        "\n",
        "\n",
        "\n",
        "\n",
        "---\n",
        "\n",
        "\n",
        "\n",
        "---\n",
        "\n",
        "\n",
        "2.   Python\n",
        "\n",
        "\n",
        "*   장점\n",
        "\n",
        "> 1) 언어가 간결하여 입문자가 배우기 쉬움\n",
        "\n",
        "> 2) 파이썬으로 만든 서비스나 어플리케이션등 상용화가 잘 되어있음 (개발언어로 적합)\n",
        "\n",
        ">3) 인공지능, 딥러닝을 지원하기에 최적화 (필수)\n",
        "\n",
        "> 4) 실제 환경에서 수집된 '리얼 데이터'로 머신러닝 하기에 적합 (R과의 가장 큰 차이점)\n",
        "\n",
        "\n",
        "*   단점\n",
        "\n",
        "> 1) R에 비하여 상대적으로 라이브러리/패키지가 적음\n",
        "\n",
        "> 2) 파이썬 기반의 데이터마이닝 코드가 많지 않음 (기본만 있음)\n"
      ]
    },
    {
      "metadata": {
        "id": "empU-1n6X2SE",
        "colab_type": "text"
      },
      "cell_type": "markdown",
      "source": [
        "# 3. PyMC란?\n",
        "\n",
        "---\n",
        "\n",
        "\n",
        "\n",
        " 참고 :  https://en.wikipedia.org/wiki/PyMC3\n",
        "\n",
        "\n",
        "\n",
        "*  베이지안 분석을 위한 파이썬 라이브러리( Vs in R MCMCPACK)\n",
        "\n",
        "\n",
        "*   MCMC 기법 알고리즘에 초점을 맞춤\n",
        "*   Based on theano (행렬 값등 수학적 표현을 최적화 하는 라이브러리)\n",
        "\n",
        "*   천문학, 분자생물학,생태학,심리학등 여러 과학 분야의 추론 문제를 해결하기 위해  많이 사용\n",
        "\n",
        "*   Stan과 함께 가장 인기 있는 프로그래밍 도구  (여기서 Stan은 C++쓰여진 통계 추론을 위한 프로그래밍 언어)\n",
        "\n",
        "\n",
        "\n",
        "*   현재 PyMC4 버젼까지 출시"
      ]
    },
    {
      "metadata": {
        "id": "EwAzBXNyGIbq",
        "colab_type": "text"
      },
      "cell_type": "markdown",
      "source": [
        "# 4. 2장  PyMC 더 알아보기\n",
        "\n",
        "---\n",
        "\n",
        "\n",
        "\n",
        "1.   서론\n",
        "\n",
        "1.  모델링방법\n",
        "\n",
        "1.   우리의 모델이 적절한가?\n",
        "\n",
        "1.   결론\n",
        "\n",
        "1.   부록\n",
        "\n",
        "\n",
        "\n",
        "\n",
        "\n",
        "\n",
        "\n",
        "\n",
        "\n",
        "\n"
      ]
    },
    {
      "metadata": {
        "id": "IYXGebEoIZOa",
        "colab_type": "text"
      },
      "cell_type": "markdown",
      "source": [
        "# 2.1.1 부모와 자식 관계\n",
        "\n",
        "- 부모변수는 다른 변수에 영향을 주는 변수다.\n",
        "- 자식변수는 다른 변수의 영향을 받는 변수다. 즉, 부모변수에 종속된다.\n",
        "- 어느 변수라도 부모 변수가 될 수 있으며, 동시에 자식변수가 될 수 있다."
      ]
    },
    {
      "metadata": {
        "id": "A74sJ8Kl98Do",
        "colab_type": "code",
        "colab": {
          "base_uri": "https://localhost:8080/",
          "height": 179
        },
        "outputId": "5bca4be0-b7de-4947-a5b8-ac7487864ed5"
      },
      "cell_type": "code",
      "source": [
        "!pip install pymc"
      ],
      "execution_count": 1,
      "outputs": [
        {
          "output_type": "stream",
          "text": [
            "Collecting pymc\n",
            "\u001b[?25l  Downloading https://files.pythonhosted.org/packages/0c/1c/2eb7016284e04ccf401fdcf11b817b160629cf8cf230240ceb348311ac2e/pymc-2.3.6.tar.gz (348kB)\n",
            "\u001b[K    100% |████████████████████████████████| 358kB 24.0MB/s \n",
            "\u001b[?25hBuilding wheels for collected packages: pymc\n",
            "  Building wheel for pymc (setup.py) ... \u001b[?25ldone\n",
            "\u001b[?25h  Stored in directory: /root/.cache/pip/wheels/e4/6d/cf/3c408a39cf0f43e3b8abcace9758575f29c6aa860e17e9222d\n",
            "Successfully built pymc\n",
            "Installing collected packages: pymc\n",
            "Successfully installed pymc-2.3.6\n"
          ],
          "name": "stdout"
        }
      ]
    },
    {
      "metadata": {
        "id": "yXCbdhUEXRNI",
        "colab_type": "code",
        "colab": {}
      },
      "cell_type": "code",
      "source": [
        "import pymc as pm\n",
        "\n",
        "import matplotlib\n",
        "matplotlib.rc('font', family='Malgun Gothic')  # 그림 한글 폰트 지정, 맑은 고딕\n",
        "lambda_ = pm.Exponential(\"poisson_param\", 1)\n",
        "# used in the call to the next variable...\n",
        "data_generator = pm.Poisson(\"data_generator\", lambda_)\n",
        "data_plus_one = data_generator + 1"
      ],
      "execution_count": 0,
      "outputs": []
    },
    {
      "metadata": {
        "id": "bFhzwaEbXWUT",
        "colab_type": "code",
        "outputId": "973577f3-3c6e-4b49-8b52-8fd96e8c7e65",
        "colab": {
          "base_uri": "https://localhost:8080/",
          "height": 161
        }
      },
      "cell_type": "code",
      "source": [
        "print (\"Children of ‘lambda_’: \")\n",
        "print (lambda_.children)\n",
        "print (\"\\nParents of ‘data_generator’: \")\n",
        "print (data_generator.parents)\n",
        "print (\"\\nChildren of ‘data_generator’: \")\n",
        "print (data_generator.children)"
      ],
      "execution_count": 3,
      "outputs": [
        {
          "output_type": "stream",
          "text": [
            "Children of ‘lambda_’: \n",
            "{<pymc.distributions.new_dist_class.<locals>.new_class 'data_generator' at 0x7fceb80cf668>}\n",
            "\n",
            "Parents of ‘data_generator’: \n",
            "{'mu': <pymc.distributions.new_dist_class.<locals>.new_class 'poisson_param' at 0x7fceb80cf630>}\n",
            "\n",
            "Children of ‘data_generator’: \n",
            "{<pymc.PyMCObjects.Deterministic '(data_generator_add_1)' at 0x7fceb2217cc0>}\n"
          ],
          "name": "stdout"
        }
      ]
    },
    {
      "metadata": {
        "id": "vEHoJtypLgsX",
        "colab_type": "text"
      },
      "cell_type": "markdown",
      "source": [
        "# 2.1.2 PyMC 변수\n",
        "\n",
        "- 모든 PyMC 변수는 value 속성을 가짐\n",
        "- 변수의 현재 (가능한 난수) 내부 값을 만듬 ( P(theta|y) )\n",
        "\n",
        "\n",
        "1.   stochastic 변수 (확률적인 변수, stochastic process : RV 들의 집합)\n",
        "\n",
        "> 1) 값이 정해지지 않은 변수\n",
        "\n",
        "> 2) 부모변수의 값을 모두 알고 있어도 여전히 난수\n",
        "\n",
        "> 3) ex) Possion, DiscreteUniform, Exponential\n",
        "\n",
        "> 4) random() 로 메서드 호출\n",
        "\n",
        "\n",
        "\n",
        "\n",
        "2.  deterministic 변수(결정론적인 변수)\n",
        "\n",
        "> 1) 변수의 부모를 모두 알고 있는 경우에 랜덤하지 않은 변수\n",
        "\n",
        "> 2) @pm.deterministic 로 선언\n",
        "\n",
        "\n",
        "\n",
        "> ex) A deterministic variable is the variable that you can predict with almost 100% accuracy. For example, your age is x this year and it is definitely gonna be x+1 next year. Whether you alive or otherwise. So age is a deterministic variable in this case.\n",
        "\n",
        "\n",
        "\n",
        "\n",
        "\n",
        "\n",
        "\n"
      ]
    },
    {
      "metadata": {
        "id": "cLAvvYjJXcho",
        "colab_type": "code",
        "colab": {
          "base_uri": "https://localhost:8080/",
          "height": 71
        },
        "outputId": "a88e1b60-7a49-4b80-df52-ba14bff9267a"
      },
      "cell_type": "code",
      "source": [
        "print (\"lambda_.value =\", lambda_.value)\n",
        "print (\"data_generator.value =\", data_generator.value)\n",
        "print (\"data_plus_one.value =\", data_plus_one.value)"
      ],
      "execution_count": 4,
      "outputs": [
        {
          "output_type": "stream",
          "text": [
            "lambda_.value = 3.202853338156562\n",
            "data_generator.value = 5\n",
            "data_plus_one.value = 6\n"
          ],
          "name": "stdout"
        }
      ]
    },
    {
      "metadata": {
        "id": "jDJgFwpBXn7B",
        "colab_type": "code",
        "colab": {
          "base_uri": "https://localhost:8080/",
          "height": 179
        },
        "outputId": "b5ed76b7-348f-4fe0-fe45-3a9f0f917abf"
      },
      "cell_type": "code",
      "source": [
        "lambda_1 = pm.Exponential(\"lambda_1\", 1)  # prior on first behaviour\n",
        "lambda_2 = pm.Exponential(\"lambda_2\", 1)  # prior on second behaviour\n",
        "tau = pm.DiscreteUniform(\"tau\", lower=0, upper=10)  # prior on behaviour change\n",
        "print (\"Initialized values...\")\n",
        "print(\"lambda_1.value = %.3f\" % lambda_1.value)\n",
        "print(\"lambda_2.value = %.3f\" % lambda_2.value)\n",
        "print(\"tau.value = %.3f\" % tau.value, \"\\n\")\n",
        "\n",
        "lambda_1.random(), lambda_2.random(), tau.random()\n",
        "\n",
        "print(\"After calling random() on the variables...\")\n",
        "print(\"lambda_1.value = %.3f\" % lambda_1.value)\n",
        "print(\"lambda_2.value = %.3f\" % lambda_2.value)\n",
        "print(\"tau.value = %.3f\" % tau.value)"
      ],
      "execution_count": 5,
      "outputs": [
        {
          "output_type": "stream",
          "text": [
            "Initialized values...\n",
            "lambda_1.value = 0.610\n",
            "lambda_2.value = 0.892\n",
            "tau.value = 7.000 \n",
            "\n",
            "After calling random() on the variables...\n",
            "lambda_1.value = 0.169\n",
            "lambda_2.value = 0.863\n",
            "tau.value = 1.000\n"
          ],
          "name": "stdout"
        }
      ]
    },
    {
      "metadata": {
        "id": "rV1EYaNbYVTc",
        "colab_type": "code",
        "colab": {
          "base_uri": "https://localhost:8080/",
          "height": 35
        },
        "outputId": "8aea890b-d88c-430a-cbf3-da31d0d98be4"
      },
      "cell_type": "code",
      "source": [
        "type(lambda_1 + lambda_2)"
      ],
      "execution_count": 6,
      "outputs": [
        {
          "output_type": "execute_result",
          "data": {
            "text/plain": [
              "pymc.PyMCObjects.Deterministic"
            ]
          },
          "metadata": {
            "tags": []
          },
          "execution_count": 6
        }
      ]
    },
    {
      "metadata": {
        "id": "P3Qmh-dWYZ76",
        "colab_type": "code",
        "colab": {}
      },
      "cell_type": "code",
      "source": [
        "import numpy as np\n",
        "n_data_points = 5  # in CH1 we had ~70 data points\n",
        "\n",
        "\n",
        "@pm.deterministic\n",
        "def lambda_(tau=tau, lambda_1=lambda_1, lambda_2=lambda_2):\n",
        "    out = np.zeros(n_data_points)\n",
        "    out[:tau] = lambda_1  # lambda before tau is lambda1\n",
        "    out[tau:] = lambda_2  # lambda after tau is lambda2\n",
        "    return out"
      ],
      "execution_count": 0,
      "outputs": []
    },
    {
      "metadata": {
        "id": "D4dYxgK0Ygqc",
        "colab_type": "text"
      },
      "cell_type": "markdown",
      "source": [
        "# 2.13 모델에 관측 포함하기\n",
        "\n",
        "*   P(theta)를 구체적으로 지정 (주관적)\n",
        "*   P(theta | y) = P(theta,y) / P(y) = P(y|theta)P(theta) / P(y) proportional P(y |theta)P(theta)\n",
        "\n"
      ]
    },
    {
      "metadata": {
        "id": "-IaNZMscbqwB",
        "colab_type": "code",
        "colab": {
          "base_uri": "https://localhost:8080/",
          "height": 393
        },
        "outputId": "1c65fc36-8d11-40dd-a56a-5b4487a282ad"
      },
      "cell_type": "code",
      "source": [
        "%matplotlib inline\n",
        "from IPython.core.pylabtools import figsize\n",
        "from matplotlib import pyplot as plt\n",
        "figsize(12.5, 4)\n",
        "\n",
        "\n",
        "samples = [lambda_1.random() for i in range(20000)]\n",
        "plt.hist(samples, bins=70, normed=True, histtype=\"stepfilled\")\n",
        "plt.title(\"Prior distribution for $\\lambda_1$\")\n",
        "plt.xlim(0, 8);"
      ],
      "execution_count": 8,
      "outputs": [
        {
          "output_type": "stream",
          "text": [
            "/usr/local/lib/python3.6/dist-packages/matplotlib/axes/_axes.py:6521: MatplotlibDeprecationWarning: \n",
            "The 'normed' kwarg was deprecated in Matplotlib 2.1 and will be removed in 3.1. Use 'density' instead.\n",
            "  alternative=\"'density'\", removal=\"3.1\")\n",
            "/usr/local/lib/python3.6/dist-packages/matplotlib/font_manager.py:1241: UserWarning: findfont: Font family ['Malgun Gothic'] not found. Falling back to DejaVu Sans.\n",
            "  (prop.get_family(), self.defaultFamily[fontext]))\n"
          ],
          "name": "stderr"
        },
        {
          "output_type": "display_data",
          "data": {
            "image/png": "[encoded data removed]",
            "text/plain": [
              "<Figure size 900x288 with 1 Axes>"
            ]
          },
          "metadata": {
            "tags": []
          }
        }
      ]
    },
    {
      "metadata": {
        "id": "B2jOcrlNbyaW",
        "colab_type": "code",
        "colab": {
          "base_uri": "https://localhost:8080/",
          "height": 71
        },
        "outputId": "485ce243-84c3-4c29-ccf7-0f97f69d01d4"
      },
      "cell_type": "code",
      "source": [
        "data = np.array([10, 5])\n",
        "fixed_variable = pm.Poisson(\"fxd\", 1, value=data, observed=True)\n",
        "print(\"value: \", fixed_variable.value)\n",
        "print(\"calling .random()\")\n",
        "fixed_variable.random()\n",
        "print(\"value: \", fixed_variable.value)"
      ],
      "execution_count": 9,
      "outputs": [
        {
          "output_type": "stream",
          "text": [
            "value:  [10  5]\n",
            "calling .random()\n",
            "value:  [10  5]\n"
          ],
          "name": "stdout"
        }
      ]
    },
    {
      "metadata": {
        "id": "r7iQdKNxb1o5",
        "colab_type": "code",
        "colab": {
          "base_uri": "https://localhost:8080/",
          "height": 35
        },
        "outputId": "dca128da-875e-46d1-ce03-8f496ef86d0b"
      },
      "cell_type": "code",
      "source": [
        "\n",
        "# We're using some fake data here\n",
        "data = np.array([10, 25, 15, 20, 35])\n",
        "obs = pm.Poisson(\"obs\", lambda_, value=data, observed=True)\n",
        "print(obs.value)"
      ],
      "execution_count": 10,
      "outputs": [
        {
          "output_type": "stream",
          "text": [
            "[10 25 15 20 35]\n"
          ],
          "name": "stdout"
        }
      ]
    },
    {
      "metadata": {
        "id": "5w7Y5SB0aA1-",
        "colab_type": "text"
      },
      "cell_type": "markdown",
      "source": [
        "# 2.14 마지막으로\n",
        "\n",
        "*   model = pm.Model ([obs,lambda_,lambda_1,lambda_2,tau])\n",
        "\n"
      ]
    },
    {
      "metadata": {
        "id": "kvynF5rEcRw2",
        "colab_type": "code",
        "colab": {}
      },
      "cell_type": "code",
      "source": [
        "model = pm.Model([obs, lambda_, lambda_1, lambda_2, tau])"
      ],
      "execution_count": 0,
      "outputs": []
    },
    {
      "metadata": {
        "id": "DvGXaRaOz57O",
        "colab_type": "text"
      },
      "cell_type": "markdown",
      "source": [
        "# 2.2 모델링 방법\n",
        "\n",
        "- 우리의 데이터가 어떻게 만들어졌을까?\n",
        "\n",
        "\n",
        "\n",
        "1.   데이터를 나타내는 최고의 확률변수 -> 분포\n",
        "\n",
        "1.   분포에 정의되어야 하는 모수\n",
        "\n",
        "> 1) 초기 행동에 대한 것\n",
        "\n",
        "> 2) 사후 행동에 대한 것\n",
        "\n",
        "> 3) 변환점 T(행동이 언제 바뀌는지 알지 못함) -> 전문전인 견해가 없는 경우 이산균등분포로 가정\n",
        "\n",
        "\n",
        "3.   1) 과 2)의 모수에 대한 바람직한 확률분포\n",
        "\n",
        "\n",
        "> -믿음이 강력하지 않은 경우 모델링을 중단하는 것이 최선, 모수끼리 연관성 있게 설정하는 것이 좋음\n",
        "\n",
        "\n",
        "\n",
        "\n",
        "\n",
        "\n",
        "\n",
        "\n",
        "\n",
        "\n",
        "\n",
        "\n",
        "\n",
        "\n",
        "\n",
        "\n",
        "\n",
        "\n"
      ]
    },
    {
      "metadata": {
        "id": "AZyCdaYLoZFR",
        "colab_type": "text"
      },
      "cell_type": "markdown",
      "source": [
        "# 2.2.1 같은스토리, 다른 결말\n",
        "\n",
        "*   2.2장의 순서를 역행하면 새로운 데이터셋을 만들 수 있음\n",
        "*   가상 데이터셋이 우리가 관측한 데이터셋처럼 보이지 않아도 괜찮음 (같은 데이터셋이 될 확률이 상당히 낮음)\n",
        "\n",
        "\n",
        "*   PyMC의 베이지 이러한 확률을 극대화하는 좋은 모수를 찾도록 설계 되어있음\n",
        "*   베이지안 추론의 매우 중요한 방법\n",
        "\n",
        "*   이 방법을 모델의 적합성을 검증함\n",
        "\n",
        "\n",
        "\n",
        "\n"
      ]
    },
    {
      "metadata": {
        "id": "ljrDFO3qrKqd",
        "colab_type": "code",
        "colab": {
          "base_uri": "https://localhost:8080/",
          "height": 35
        },
        "outputId": "1752de0b-0f5f-46c4-e31e-45fd3ddb6541"
      },
      "cell_type": "code",
      "source": [
        "\n",
        "tau = pm.rdiscrete_uniform(0, 80)\n",
        "print(tau)"
      ],
      "execution_count": 12,
      "outputs": [
        {
          "output_type": "stream",
          "text": [
            "14\n"
          ],
          "name": "stdout"
        }
      ]
    },
    {
      "metadata": {
        "id": "h9kJrzfCrNd_",
        "colab_type": "code",
        "colab": {
          "base_uri": "https://localhost:8080/",
          "height": 35
        },
        "outputId": "2e4c7662-7daf-40ac-cff9-81fd3b8ae648"
      },
      "cell_type": "code",
      "source": [
        "\n",
        "alpha = 1. / 20.\n",
        "lambda_1, lambda_2 = pm.rexponential(alpha, 2)\n",
        "print(lambda_1, lambda_2)"
      ],
      "execution_count": 13,
      "outputs": [
        {
          "output_type": "stream",
          "text": [
            "9.873985541060504 36.77331860821823\n"
          ],
          "name": "stdout"
        }
      ]
    },
    {
      "metadata": {
        "id": "4ZD1xPJmrNgb",
        "colab_type": "code",
        "colab": {
          "base_uri": "https://localhost:8080/",
          "height": 269
        },
        "outputId": "e7cc1c64-1cea-4386-e380-ebf58294748b"
      },
      "cell_type": "code",
      "source": [
        "\n",
        "lambda_ = np.r_[ lambda_1*np.ones(tau), lambda_2*np.ones(80-tau) ]\n",
        "print (lambda_)"
      ],
      "execution_count": 14,
      "outputs": [
        {
          "output_type": "stream",
          "text": [
            "[ 9.87398554  9.87398554  9.87398554  9.87398554  9.87398554  9.87398554\n",
            "  9.87398554  9.87398554  9.87398554  9.87398554  9.87398554  9.87398554\n",
            "  9.87398554  9.87398554 36.77331861 36.77331861 36.77331861 36.77331861\n",
            " 36.77331861 36.77331861 36.77331861 36.77331861 36.77331861 36.77331861\n",
            " 36.77331861 36.77331861 36.77331861 36.77331861 36.77331861 36.77331861\n",
            " 36.77331861 36.77331861 36.77331861 36.77331861 36.77331861 36.77331861\n",
            " 36.77331861 36.77331861 36.77331861 36.77331861 36.77331861 36.77331861\n",
            " 36.77331861 36.77331861 36.77331861 36.77331861 36.77331861 36.77331861\n",
            " 36.77331861 36.77331861 36.77331861 36.77331861 36.77331861 36.77331861\n",
            " 36.77331861 36.77331861 36.77331861 36.77331861 36.77331861 36.77331861\n",
            " 36.77331861 36.77331861 36.77331861 36.77331861 36.77331861 36.77331861\n",
            " 36.77331861 36.77331861 36.77331861 36.77331861 36.77331861 36.77331861\n",
            " 36.77331861 36.77331861 36.77331861 36.77331861 36.77331861 36.77331861\n",
            " 36.77331861 36.77331861]\n"
          ],
          "name": "stdout"
        }
      ]
    },
    {
      "metadata": {
        "id": "8J23D_oCrNi4",
        "colab_type": "code",
        "colab": {
          "base_uri": "https://localhost:8080/",
          "height": 89
        },
        "outputId": "4bfd7826-81a2-4478-db35-4a7af5af1afe"
      },
      "cell_type": "code",
      "source": [
        "data = pm.rpoisson(lambda_)\n",
        "print (data)"
      ],
      "execution_count": 15,
      "outputs": [
        {
          "output_type": "stream",
          "text": [
            "[ 8  8 11  7  5  7 12  9  8  6  2 11 14  9 43 44 32 35 46 32 31 33 44 35\n",
            " 46 36 35 38 39 33 31 31 34 37 40 40 30 40 32 39 30 40 38 35 34 35 45 39\n",
            " 28 28 27 34 36 24 33 24 42 37 34 30 36 36 40 35 42 33 45 42 36 45 45 41\n",
            " 28 47 32 27 33 27 40 24]\n"
          ],
          "name": "stdout"
        }
      ]
    },
    {
      "metadata": {
        "id": "XJNTcflVrNlQ",
        "colab_type": "code",
        "colab": {
          "base_uri": "https://localhost:8080/",
          "height": 351
        },
        "outputId": "469ed970-ee44-43de-850d-c4083e1bb424"
      },
      "cell_type": "code",
      "source": [
        "plt.bar(np.arange(80), data, color=\"#348ABD\")\n",
        "plt.bar(tau - 1, data[tau - 1], color=\"r\", label=\"user behaviour changed\")\n",
        "plt.xlabel(\"Time (days)\")\n",
        "plt.ylabel(\"count of text-msgs received\")\n",
        "plt.title(\"Artificial dataset\")\n",
        "plt.xlim(0, 80)\n",
        "plt.legend();"
      ],
      "execution_count": 16,
      "outputs": [
        {
          "output_type": "stream",
          "text": [
            "/usr/local/lib/python3.6/dist-packages/matplotlib/font_manager.py:1241: UserWarning: findfont: Font family ['Malgun Gothic'] not found. Falling back to DejaVu Sans.\n",
            "  (prop.get_family(), self.defaultFamily[fontext]))\n"
          ],
          "name": "stderr"
        },
        {
          "output_type": "display_data",
          "data": {
            "image/png": "[encoded data removed]",
            "text/plain": [
              "<Figure size 900x288 with 1 Axes>"
            ]
          },
          "metadata": {
            "tags": []
          }
        }
      ]
    },
    {
      "metadata": {
        "id": "ME2VOCAdrVPo",
        "colab_type": "code",
        "colab": {
          "base_uri": "https://localhost:8080/",
          "height": 364
        },
        "outputId": "c7514289-4cbd-47a6-bf76-6daf4886a346"
      },
      "cell_type": "code",
      "source": [
        "def plot_artificial_sms_dataset():\n",
        "    tau = pm.rdiscrete_uniform(0, 80)\n",
        "    alpha = 1. / 20.\n",
        "    lambda_1, lambda_2 = pm.rexponential(alpha, 2)\n",
        "    data = np.r_[pm.rpoisson(lambda_1, tau), pm.rpoisson(lambda_2, 80 - tau)]\n",
        "    plt.bar(np.arange(80), data, color=\"#348ABD\")\n",
        "    plt.bar(tau - 1, data[tau - 1], color=\"r\", label=\"user behaviour changed\")\n",
        "    plt.xlim(0, 80)\n",
        "    plt.xlabel(\"Time (days)\")\n",
        "plt.ylabel(\"Text messages received\")\n",
        "figsize(12.5, 5)\n",
        "plt.suptitle(\"More examples of artificial datasets\", fontsize=14)\n",
        "for i in range(1, 5):\n",
        "    plt.subplot(4, 1, i)\n",
        "    plot_artificial_sms_dataset()"
      ],
      "execution_count": 17,
      "outputs": [
        {
          "output_type": "stream",
          "text": [
            "/usr/local/lib/python3.6/dist-packages/matplotlib/font_manager.py:1241: UserWarning: findfont: Font family ['Malgun Gothic'] not found. Falling back to DejaVu Sans.\n",
            "  (prop.get_family(), self.defaultFamily[fontext]))\n"
          ],
          "name": "stderr"
        },
        {
          "output_type": "display_data",
          "data": {
            "image/png": "[encoded data removed]",
            "text/plain": [
              "<Figure size 900x288 with 4 Axes>"
            ]
          },
          "metadata": {
            "tags": []
          }
        }
      ]
    },
    {
      "metadata": {
        "id": "pBYe0EnZsD2H",
        "colab_type": "text"
      },
      "cell_type": "markdown",
      "source": [
        "# 2.2.2 예제 : 베이지안 A/B 테스트\n",
        " \n",
        "\n",
        "*   서로 다른 두 가지 방법 간의 효과의 차이를 밝히기 위한 통계적 디자인 패턴  (Two sample t-test)\n",
        "\n",
        "*   핵심은 그룹 간의 차이점이 단 하나뿐이라는 점, 측정값의 의미 있는 변화가 바롸 차이로 연결됨\n",
        "\n",
        "*   사후실험분석은 보통 평균차이검정 or 비율차이검정과 같은 '가설검정' 사용 -> Z스코어 or P-value 관련\n",
        "<-> Bayes factor : 값이 커질수록 귀무가설이 채택 가능성이 커진다 (강한 증거)"
      ]
    },
    {
      "metadata": {
        "id": "cQVKcA7mtbEx",
        "colab_type": "text"
      },
      "cell_type": "markdown",
      "source": [
        "# 2.2.3 간단한 예제\n",
        "\n",
        "*   전환율 : 웹사이트 방문자가 회원으로 가입하거나, 무언가를 구매하거나, 기타 다른 행동을 하는 것을 말함\n",
        "\n",
        "*   PA : A사이트에 노출된 사용자가 궁극적으로 전환할 어떤 확률 (A사이트의 진정한 효율성, 알지 못함)\n",
        "\n",
        "\n",
        "> 1) A 사이트가 N명에게 노출, n명이 전환했다고 가정\n",
        "\n",
        "> 2) 관측된 빈도 n /N 이 반드시 PA랑 같은건 아님 -> 관측된 빈도와 사건의 실제 빈도 간에는 차이가 있음\n",
        "\n",
        "> ex)  육면체 주사위를 굴려 1이 나오는 실제 확률은 1/6 , 하지만 6번 굴려서 1을 한번도 관측하지 못할 수 있음 (관측된 빈도)\n",
        "\n",
        "> 3) 노이즈와 복잡성 때문에 실제 빈도를 알지 못하여 관측된 데이터로 실제 빈도를 추론 해야함\n",
        "\n",
        "> 4) 베이지안 통계를 사용하여 적절한 사전확률 및 관측된 데이터를 사용하여 실제 빈도의 추정 값을 추론\n",
        "\n",
        "> 5) 현재 PA에 대한 확신이 강하지 않기 때문에 균등분포로 가정\n",
        "\n",
        "> 6) PA=0.05, 사이트에 노출된 사용자 수 N=1,500 이라 가정, X= 사용자가 구매를 했는지 혹은 하지 않았는지 여부 -> 베르누이분포 사용\n",
        "\n",
        "> 결론 : 우리의 사후확률분포는 데이터가 제시하는 진짜 PA 값 주변에 가중치를 둠\n"
      ]
    },
    {
      "metadata": {
        "id": "JuNRlLswyjnI",
        "colab_type": "code",
        "colab": {}
      },
      "cell_type": "code",
      "source": [
        "import pymc as pm\n",
        "\n",
        "# The parameters are the bounds of the Uniform.\n",
        "p = pm.Uniform('p', lower=0, upper=1)"
      ],
      "execution_count": 0,
      "outputs": []
    },
    {
      "metadata": {
        "id": "Uy2u-KoqykER",
        "colab_type": "code",
        "outputId": "6c08cb46-7b35-46a8-8c63-a2ceb7a76d12",
        "colab": {
          "base_uri": "https://localhost:8080/",
          "height": 53
        }
      },
      "cell_type": "code",
      "source": [
        "\n",
        "# set constants\n",
        "p_true = 0.05  # remember, this is unknown.\n",
        "N = 1500\n",
        "\n",
        "# sample N Bernoulli random variables from Ber(0.05).\n",
        "# each random variable has a 0.05 chance of being a 1.\n",
        "# this is the data-generation step\n",
        "occurrences = pm.rbernoulli(p_true, N)\n",
        "\n",
        "print(occurrences)  # Remember: Python treats True == 1, and False == 0\n",
        "print(occurrences.sum())"
      ],
      "execution_count": 19,
      "outputs": [
        {
          "output_type": "stream",
          "text": [
            "[False False False ... False False False]\n",
            "68\n"
          ],
          "name": "stdout"
        }
      ]
    },
    {
      "metadata": {
        "id": "IIcVEf74ykGg",
        "colab_type": "code",
        "outputId": "28c7c6c0-e2bb-4d7e-84d7-434562f919b1",
        "colab": {
          "base_uri": "https://localhost:8080/",
          "height": 53
        }
      },
      "cell_type": "code",
      "source": [
        "\n",
        "# Occurrences.mean is equal to n/N.\n",
        "print(\"What is the observed frequency in Group A? %.4f\" % occurrences.mean())\n",
        "print(\"Does this equal the true frequency? %s\" % (occurrences.mean() == p_true))"
      ],
      "execution_count": 20,
      "outputs": [
        {
          "output_type": "stream",
          "text": [
            "What is the observed frequency in Group A? 0.0453\n",
            "Does this equal the true frequency? False\n"
          ],
          "name": "stdout"
        }
      ]
    },
    {
      "metadata": {
        "id": "1WrYp6qaysz5",
        "colab_type": "code",
        "outputId": "98b96338-37c7-46f7-8dee-a7136943545f",
        "colab": {
          "base_uri": "https://localhost:8080/",
          "height": 35
        }
      },
      "cell_type": "code",
      "source": [
        "# include the observations, which are Bernoulli\n",
        "obs = pm.Bernoulli(\"obs\", p, value=occurrences, observed=True)\n",
        "\n",
        "# To be explained in chapter 3\n",
        "mcmc = pm.MCMC([p, obs])\n",
        "mcmc.sample(18000, 1000)"
      ],
      "execution_count": 21,
      "outputs": [
        {
          "output_type": "stream",
          "text": [
            " [-----------------100%-----------------] 18000 of 18000 complete in 1.3 sec"
          ],
          "name": "stdout"
        }
      ]
    },
    {
      "metadata": {
        "id": "uktyFmx-ys2i",
        "colab_type": "code",
        "outputId": "86b90bda-5101-46f6-d12b-ad2dac93bbb7",
        "colab": {
          "base_uri": "https://localhost:8080/",
          "height": 337
        }
      },
      "cell_type": "code",
      "source": [
        "figsize(12.5, 4)\n",
        "plt.title(\"Posterior distribution of $p_A$, the true effectiveness of site A\")\n",
        "plt.vlines(p_true, 0, 90, linestyle=\"--\", label=\"true $p_A$ (unknown)\")\n",
        "plt.hist(mcmc.trace(\"p\")[:], bins=25, histtype=\"stepfilled\", normed=True)\n",
        "plt.legend();"
      ],
      "execution_count": 22,
      "outputs": [
        {
          "output_type": "stream",
          "text": [
            "/usr/local/lib/python3.6/dist-packages/matplotlib/axes/_axes.py:6521: MatplotlibDeprecationWarning: \n",
            "The 'normed' kwarg was deprecated in Matplotlib 2.1 and will be removed in 3.1. Use 'density' instead.\n",
            "  alternative=\"'density'\", removal=\"3.1\")\n"
          ],
          "name": "stderr"
        },
        {
          "output_type": "display_data",
          "data": {
            "image/png": "[encoded data removed]",
            "text/plain": [
              "<Figure size 900x288 with 1 Axes>"
            ]
          },
          "metadata": {
            "tags": []
          }
        }
      ]
    },
    {
      "metadata": {
        "id": "ezN3b5p9zRpR",
        "colab_type": "text"
      },
      "cell_type": "markdown",
      "source": [
        "# 2.2.4 A와B를 묶어보기\n",
        "\n",
        "1.   위와 같이 PB도 시행\n",
        "\n",
        "1.   delta=PA-PB, PA, PB 함께 추론\n",
        "\n"
      ]
    },
    {
      "metadata": {
        "id": "0iWNhczT0Zhw",
        "colab_type": "code",
        "outputId": "ed847bfc-4e82-41fc-ecb0-c14e1073c4ce",
        "colab": {
          "base_uri": "https://localhost:8080/",
          "height": 53
        }
      },
      "cell_type": "code",
      "source": [
        "import pymc as pm\n",
        "figsize(12, 4)\n",
        "\n",
        "# these two quantities are unknown to us.\n",
        "true_p_A = 0.05\n",
        "true_p_B = 0.04\n",
        "\n",
        "# notice the unequal sample sizes -- no problem in Bayesian analysis.\n",
        "N_A = 1500\n",
        "N_B = 750\n",
        "\n",
        "# generate some observations\n",
        "observations_A = pm.rbernoulli(true_p_A, N_A)\n",
        "observations_B = pm.rbernoulli(true_p_B, N_B)\n",
        "print(\"Obs from Site A: \", observations_A[:30].astype(int), \"...\")\n",
        "print(\"Obs from Site B: \", observations_B[:30].astype(int), \"...\")"
      ],
      "execution_count": 23,
      "outputs": [
        {
          "output_type": "stream",
          "text": [
            "Obs from Site A:  [0 0 0 0 0 0 0 0 0 0 0 0 0 0 0 0 0 0 0 0 0 0 0 0 0 0 0 0 0 0] ...\n",
            "Obs from Site B:  [0 0 0 1 1 0 0 1 0 0 0 0 0 0 0 0 0 0 0 0 0 0 0 0 0 0 0 0 0 0] ...\n"
          ],
          "name": "stdout"
        }
      ]
    },
    {
      "metadata": {
        "id": "gYhtti_P0Zox",
        "colab_type": "code",
        "colab": {
          "base_uri": "https://localhost:8080/",
          "height": 53
        },
        "outputId": "e00f116a-a9a7-40e9-be97-6b6bd2cc6c06"
      },
      "cell_type": "code",
      "source": [
        "print(observations_A.mean())\n",
        "print(observations_B.mean())"
      ],
      "execution_count": 24,
      "outputs": [
        {
          "output_type": "stream",
          "text": [
            "0.048666666666666664\n",
            "0.04133333333333333\n"
          ],
          "name": "stdout"
        }
      ]
    },
    {
      "metadata": {
        "id": "mHW-Fogz0ZvR",
        "colab_type": "code",
        "outputId": "747cb1bf-1db0-434e-bafd-72e2398f1300",
        "colab": {
          "base_uri": "https://localhost:8080/",
          "height": 35
        }
      },
      "cell_type": "code",
      "source": [
        "# Set up the pymc model. Again assume Uniform priors for p_A and p_B.\n",
        "p_A = pm.Uniform(\"p_A\", 0, 1)\n",
        "p_B = pm.Uniform(\"p_B\", 0, 1)\n",
        "\n",
        "\n",
        "# Define the deterministic delta function. This is our unknown of interest.\n",
        "@pm.deterministic\n",
        "def delta(p_A=p_A, p_B=p_B):\n",
        "    return p_A - p_B\n",
        "\n",
        "# Set of observations, in this case we have two observation datasets.\n",
        "obs_A = pm.Bernoulli(\"obs_A\", p_A, value=observations_A, observed=True)\n",
        "obs_B = pm.Bernoulli(\"obs_B\", p_B, value=observations_B, observed=True)\n",
        "\n",
        "# To be explained in chapter 3.\n",
        "mcmc = pm.MCMC([p_A, p_B, delta, obs_A, obs_B])\n",
        "mcmc.sample(20000, 1000)"
      ],
      "execution_count": 25,
      "outputs": [
        {
          "output_type": "stream",
          "text": [
            " [-----------------100%-----------------] 20000 of 20000 complete in 2.4 sec"
          ],
          "name": "stdout"
        }
      ]
    },
    {
      "metadata": {
        "id": "Ex4jY4b10io6",
        "colab_type": "code",
        "colab": {}
      },
      "cell_type": "code",
      "source": [
        "p_A_samples = mcmc.trace(\"p_A\")[:]\n",
        "p_B_samples = mcmc.trace(\"p_B\")[:]\n",
        "delta_samples = mcmc.trace(\"delta\")[:]"
      ],
      "execution_count": 0,
      "outputs": []
    },
    {
      "metadata": {
        "id": "TV8a14Ot0iq6",
        "colab_type": "code",
        "outputId": "d8e78b69-77a5-4563-d28d-c0bbaacc72e8",
        "colab": {
          "base_uri": "https://localhost:8080/",
          "height": 663
        }
      },
      "cell_type": "code",
      "source": [
        "figsize(12.5, 10)\n",
        "\n",
        "# histogram of posteriors\n",
        "\n",
        "ax = plt.subplot(311)\n",
        "\n",
        "plt.xlim(0, .1)\n",
        "plt.hist(p_A_samples, histtype='stepfilled', bins=25, alpha=0.85,\n",
        "         label=\"posterior of $p_A$\", color=\"#A60628\", normed=True)\n",
        "plt.vlines(true_p_A, 0, 80, linestyle=\"--\", label=\"true $p_A$ (unknown)\")\n",
        "plt.legend(loc=\"upper right\")\n",
        "plt.title(\"Posterior distributions of $p_A$, $p_B$, and delta unknowns\")\n",
        "\n",
        "ax = plt.subplot(312)\n",
        "\n",
        "plt.xlim(0, .1)\n",
        "plt.hist(p_B_samples, histtype='stepfilled', bins=25, alpha=0.85,\n",
        "         label=\"posterior of $p_B$\", color=\"#467821\", normed=True)\n",
        "plt.vlines(true_p_B, 0, 80, linestyle=\"--\", label=\"true $p_B$ (unknown)\")\n",
        "plt.legend(loc=\"upper right\")\n",
        "\n",
        "ax = plt.subplot(313)\n",
        "plt.hist(delta_samples, histtype='stepfilled', bins=30, alpha=0.85,\n",
        "         label=\"posterior of delta\", color=\"#7A68A6\", normed=True)\n",
        "plt.vlines(true_p_A - true_p_B, 0, 60, linestyle=\"--\",\n",
        "           label=\"true delta (unknown)\")\n",
        "plt.vlines(0, 0, 60, color=\"black\", alpha=0.2)\n",
        "plt.legend(loc=\"upper right\");"
      ],
      "execution_count": 27,
      "outputs": [
        {
          "output_type": "stream",
          "text": [
            "/usr/local/lib/python3.6/dist-packages/matplotlib/axes/_axes.py:6521: MatplotlibDeprecationWarning: \n",
            "The 'normed' kwarg was deprecated in Matplotlib 2.1 and will be removed in 3.1. Use 'density' instead.\n",
            "  alternative=\"'density'\", removal=\"3.1\")\n"
          ],
          "name": "stderr"
        },
        {
          "output_type": "display_data",
          "data": {
            "image/png": "[encoded data removed]",
            "text/plain": [
              "<Figure size 900x720 with 3 Axes>"
            ]
          },
          "metadata": {
            "tags": []
          }
        }
      ]
    },
    {
      "metadata": {
        "id": "ppDPKBmN2g9H",
        "colab_type": "text"
      },
      "cell_type": "markdown",
      "source": [
        "# 위 그래프 해석\n",
        "\n",
        "\n",
        "*   PA 보다 PB의 사후확률분포가 더 평평 (PB의 sample size가 더 적음) -> PB의 실제 값에 대한 확신이 부족"
      ]
    },
    {
      "metadata": {
        "id": "lK45bq0g0mJY",
        "colab_type": "code",
        "outputId": "f391f917-3ca1-4500-83ba-a1583fa5c24d",
        "colab": {
          "base_uri": "https://localhost:8080/",
          "height": 297
        }
      },
      "cell_type": "code",
      "source": [
        "figsize(12.5, 3)\n",
        "# histogram of posteriors\n",
        "plt.xlim(0, .1)\n",
        "plt.hist(p_A_samples, histtype='stepfilled', bins=30, alpha=0.80,\n",
        "label=\"posterior of $p_A$\", color=\"#A60628\", normed=True)\n",
        "plt.hist(p_B_samples, histtype='stepfilled', bins=30, alpha=0.80,\n",
        "label=\"posterior of $p_B$\", color=\"#467821\", normed=True)\n",
        "plt.legend(loc=\"upper right\")\n",
        "plt.xlabel(\"Value\")\n",
        "plt.ylabel(\"Density\")\n",
        "plt.title(\"Posterior distributions of $p_A$ and $p_B$\")\n",
        "plt.ylim(0,80);"
      ],
      "execution_count": 28,
      "outputs": [
        {
          "output_type": "stream",
          "text": [
            "/usr/local/lib/python3.6/dist-packages/matplotlib/axes/_axes.py:6521: MatplotlibDeprecationWarning: \n",
            "The 'normed' kwarg was deprecated in Matplotlib 2.1 and will be removed in 3.1. Use 'density' instead.\n",
            "  alternative=\"'density'\", removal=\"3.1\")\n"
          ],
          "name": "stderr"
        },
        {
          "output_type": "display_data",
          "data": {
            "image/png": "[encoded data removed]",
            "text/plain": [
              "<Figure size 900x216 with 1 Axes>"
            ]
          },
          "metadata": {
            "tags": []
          }
        }
      ]
    },
    {
      "metadata": {
        "id": "sxnArB9U0pjt",
        "colab_type": "text"
      },
      "cell_type": "markdown",
      "source": [
        "# 위 그래프 해석\n",
        "\n",
        "\n",
        "*   delta의 사후확률분포 대부분이 0이상, 즉 A사이트의 응답이 B사이트보다 낫다는 것을 의미함 (구매수가 많다는 것)\n",
        "\n",
        "\n",
        "\n",
        "\n",
        "\n"
      ]
    },
    {
      "metadata": {
        "id": "G0AyEQue2-KT",
        "colab_type": "code",
        "outputId": "b5a9cbfb-4066-42c6-d083-ef2664fef716",
        "colab": {
          "base_uri": "https://localhost:8080/",
          "height": 53
        }
      },
      "cell_type": "code",
      "source": [
        "\n",
        "# Count the number of samples less than 0, i.e. the area under the curve\n",
        "# before 0, represent the probability that site A is worse than site B.\n",
        "print(\"Probability site A is WORSE than site B: %.3f\" % \\\n",
        "    (delta_samples < 0).mean())\n",
        "\n",
        "print(\"Probability site A is BETTER than site B: %.3f\" % \\\n",
        "    (delta_samples > 0).mean())"
      ],
      "execution_count": 29,
      "outputs": [
        {
          "output_type": "stream",
          "text": [
            "Probability site A is WORSE than site B: 0.219\n",
            "Probability site A is BETTER than site B: 0.781\n"
          ],
          "name": "stdout"
        }
      ]
    },
    {
      "metadata": {
        "id": "2UYZXeXV3EQi",
        "colab_type": "text"
      },
      "cell_type": "markdown",
      "source": [
        "# 2.2.4 결론\n",
        "\n",
        "\n",
        "*   주목할 점은 A사이트와 B사이트의 표본 크기 차이가 언급되지 않았다는 점 -> 이런 경우 베이지안 추론이 적합한 방법\n",
        "*  가설검정보다 A/B 테스트가 더 자연스러움\n",
        "\n"
      ]
    },
    {
      "metadata": {
        "id": "_0NqANzN3l2R",
        "colab_type": "text"
      },
      "cell_type": "markdown",
      "source": [
        "# 2.2.5 예제 : 거짓말에 대한 알고리즘\n",
        "\n",
        "\n",
        "*   솔직한 답변의 실제 비율은 관측한 데이터보다 적을 수 있음\n",
        "\n",
        "\n",
        "> ex) \" 문항이 시험에서 부정행위를 한 적이 있는가?\"\n",
        "\n",
        "\n",
        "\n",
        "\n",
        "\n"
      ]
    },
    {
      "metadata": {
        "id": "r1CRTyBX36PX",
        "colab_type": "text"
      },
      "cell_type": "markdown",
      "source": [
        "# 2.2.6 이항분포\n",
        "\n",
        "*   두 개의 모수 N과 P를 가짐\n",
        "*   P가 클수록 사건이 일어날 가능성이 커짐\n",
        "\n",
        "*   N=1 경우 베르누이분포임, 크기가 0부터 N이고 모수 P를 가진 베르누이 확률변수들의 합이 이항분포를 따름\n",
        "\n",
        "\n",
        "\n"
      ]
    },
    {
      "metadata": {
        "id": "k5Q5JKGz82zg",
        "colab_type": "code",
        "outputId": "286fa45e-785c-42a8-c583-f6a7d4fdff02",
        "colab": {
          "base_uri": "https://localhost:8080/",
          "height": 297
        }
      },
      "cell_type": "code",
      "source": [
        "figsize(12.5, 4)\n",
        "\n",
        "import scipy.stats as stats\n",
        "binomial = stats.binom\n",
        "\n",
        "parameters = [(10, .4), (10, .9)]\n",
        "colors = [\"#348ABD\", \"#A60628\"]\n",
        "\n",
        "for i in range(2):\n",
        "    N, p = parameters[i]\n",
        "    _x = np.arange(N + 1)\n",
        "    plt.bar(_x - 0.5, binomial.pmf(_x, N, p), color=colors[i],\n",
        "            edgecolor=colors[i],\n",
        "            alpha=0.6,\n",
        "            label=\"$N$: %d, $p$: %.1f\" % (N, p),\n",
        "            linewidth=3)\n",
        "\n",
        "plt.legend(loc=\"upper left\")\n",
        "plt.xlim(0, 10.5)\n",
        "plt.xlabel(\"$k$\")\n",
        "plt.ylabel(\"$P(X = k)$\")\n",
        "plt.title(\"Probability mass distributions of binomial random variables\");"
      ],
      "execution_count": 30,
      "outputs": [
        {
          "output_type": "display_data",
          "data": {
            "image/png": "[encoded data removed]",
            "text/plain": [
              "<Figure size 900x288 with 1 Axes>"
            ]
          },
          "metadata": {
            "tags": []
          }
        }
      ]
    },
    {
      "metadata": {
        "id": "fnvU96HB4_YK",
        "colab_type": "text"
      },
      "cell_type": "markdown",
      "source": [
        "# 2.2.7 예제 : 학생들의 부정행위\n",
        "\n",
        "*   주제 : 이항분포를 사용하여 시험 중에 부정행위를 저지르는 빈도를 알아내는 것\n",
        "\n",
        "*  더 나은 결과를 위하여 새로운 알고리즘 제시 ( Called 프라이버시 알고리즘)\n",
        "\n",
        "\n",
        ">  1) 동전의 앞면이 나온 학생은 정직하게 대답\n",
        "\n",
        ">  2) 동전의 뒷면이 나온 학생은 동전을 다시 던져 앞면이 나오면 \"부정행위 인정 대답\", 뒷면이 나오면 \"부정행위 부정 대답\"\n",
        "\n",
        "> 위와 같은 방법 사용시 \"부정행위 인정 대답\" 이 부정행위를 인정한 진술의 결과인지 아니면 두번째 동전 던지기에서 앞면이 나온 결과인지 모름 -> 프라이버시는 지켜지고 연구자는 정직한 답변을 받음\n",
        "\n",
        "\n",
        "*   예제 : 100명 조사하여 부정행위자 비율인 P를 찾으려 함, 현재 정보가 없으므로 P의 사전확률로 균일분포 가정\n",
        "\n",
        "\n",
        "\n",
        "\n",
        "\n",
        "\n",
        "\n",
        "\n"
      ]
    },
    {
      "metadata": {
        "id": "CLH1qjBC8xdb",
        "colab_type": "code",
        "colab": {}
      },
      "cell_type": "code",
      "source": [
        "import pymc as pm\n",
        "\n",
        "N = 100\n",
        "p = pm.Uniform(\"freq_cheating\", 0, 1)"
      ],
      "execution_count": 0,
      "outputs": []
    },
    {
      "metadata": {
        "id": "LLip7JX489Jf",
        "colab_type": "code",
        "colab": {}
      },
      "cell_type": "code",
      "source": [
        "true_answers = pm.Bernoulli(\"truths\", p, size=N)"
      ],
      "execution_count": 0,
      "outputs": []
    },
    {
      "metadata": {
        "id": "rA3o2qXw9A78",
        "colab_type": "code",
        "outputId": "ea68ef6b-fe57-4d20-f4df-42be36f0d211",
        "colab": {
          "base_uri": "https://localhost:8080/",
          "height": 179
        }
      },
      "cell_type": "code",
      "source": [
        "first_coin_flips = pm.Bernoulli(\"first_flips\", 0.5, size=N)\n",
        "print(first_coin_flips.value)"
      ],
      "execution_count": 33,
      "outputs": [
        {
          "output_type": "stream",
          "text": [
            "[False False  True  True  True False  True False False  True False  True\n",
            " False  True  True False  True False  True False  True False False  True\n",
            " False False False False  True  True  True False False  True  True False\n",
            "  True  True False False  True  True  True False False False False  True\n",
            "  True  True False  True  True  True  True  True  True  True False False\n",
            "  True False False False False False  True False False  True False False\n",
            " False  True False  True False False False  True  True False  True  True\n",
            "  True False  True  True False False False False  True  True  True  True\n",
            "  True  True  True  True]\n"
          ],
          "name": "stdout"
        }
      ]
    },
    {
      "metadata": {
        "id": "5c0PY3te9A-E",
        "colab_type": "code",
        "colab": {}
      },
      "cell_type": "code",
      "source": [
        "second_coin_flips = pm.Bernoulli(\"second_flips\", 0.5, size=N)"
      ],
      "execution_count": 0,
      "outputs": []
    },
    {
      "metadata": {
        "id": "_vYzAJ3-9BAF",
        "colab_type": "code",
        "colab": {}
      },
      "cell_type": "code",
      "source": [
        "@pm.deterministic\n",
        "def observed_proportion(t_a=true_answers,\n",
        "                        fc=first_coin_flips,\n",
        "                        sc=second_coin_flips):\n",
        "\n",
        "    observed = fc * t_a + (1 - fc) * sc\n",
        "    return observed.sum() / float(N)"
      ],
      "execution_count": 0,
      "outputs": []
    },
    {
      "metadata": {
        "id": "aOwifaly9JBx",
        "colab_type": "code",
        "outputId": "32673384-7b0c-4be1-d610-42dd955b27c5",
        "colab": {
          "base_uri": "https://localhost:8080/",
          "height": 35
        }
      },
      "cell_type": "code",
      "source": [
        "observed_proportion.value"
      ],
      "execution_count": 36,
      "outputs": [
        {
          "output_type": "execute_result",
          "data": {
            "text/plain": [
              "0.67"
            ]
          },
          "metadata": {
            "tags": []
          },
          "execution_count": 36
        }
      ]
    },
    {
      "metadata": {
        "id": "QI3vFC719JEE",
        "colab_type": "code",
        "colab": {}
      },
      "cell_type": "code",
      "source": [
        "\n",
        "X = 35\n",
        "\n",
        "observations = pm.Binomial(\"obs\", N, observed_proportion, observed=True,\n",
        "                           value=X)"
      ],
      "execution_count": 0,
      "outputs": []
    },
    {
      "metadata": {
        "id": "vhCrKN7_9JGV",
        "colab_type": "code",
        "outputId": "6e1ce048-b320-4a84-a495-e641ec039eb5",
        "colab": {
          "base_uri": "https://localhost:8080/",
          "height": 984
        }
      },
      "cell_type": "code",
      "source": [
        "\n",
        "model = pm.Model([p, true_answers, first_coin_flips,\n",
        "                  second_coin_flips, observed_proportion, observations])\n",
        "\n",
        "# To be explained in Chapter 3!\n",
        "mcmc = pm.MCMC(model)\n",
        "mcmc.sample(40000, 15000)"
      ],
      "execution_count": 38,
      "outputs": [
        {
          "output_type": "error",
          "ename": "TypeError",
          "evalue": "ignored",
          "traceback": [
            "\u001b[0;31m---------------------------------------------------------------------------\u001b[0m",
            "\u001b[0;31mTypeError\u001b[0m                                 Traceback (most recent call last)",
            "\u001b[0;32m<ipython-input-38-69b6f60c99f3>\u001b[0m in \u001b[0;36m<module>\u001b[0;34m()\u001b[0m\n\u001b[1;32m      5\u001b[0m \u001b[0;31m# To be explained in Chapter 3!\u001b[0m\u001b[0;34m\u001b[0m\u001b[0;34m\u001b[0m\u001b[0;34m\u001b[0m\u001b[0m\n\u001b[1;32m      6\u001b[0m \u001b[0mmcmc\u001b[0m \u001b[0;34m=\u001b[0m \u001b[0mpm\u001b[0m\u001b[0;34m.\u001b[0m\u001b[0mMCMC\u001b[0m\u001b[0;34m(\u001b[0m\u001b[0mmodel\u001b[0m\u001b[0;34m)\u001b[0m\u001b[0;34m\u001b[0m\u001b[0;34m\u001b[0m\u001b[0m\n\u001b[0;32m----> 7\u001b[0;31m \u001b[0mmcmc\u001b[0m\u001b[0;34m.\u001b[0m\u001b[0msample\u001b[0m\u001b[0;34m(\u001b[0m\u001b[0;36m40000\u001b[0m\u001b[0;34m,\u001b[0m \u001b[0;36m15000\u001b[0m\u001b[0;34m)\u001b[0m\u001b[0;34m\u001b[0m\u001b[0;34m\u001b[0m\u001b[0m\n\u001b[0m",
            "\u001b[0;32m/usr/local/lib/python3.6/dist-packages/pymc/MCMC.py\u001b[0m in \u001b[0;36msample\u001b[0;34m(self, iter, burn, thin, tune_interval, tune_throughout, save_interval, burn_till_tuned, stop_tuning_after, verbose, progress_bar)\u001b[0m\n\u001b[1;32m    277\u001b[0m \u001b[0;34m\u001b[0m\u001b[0m\n\u001b[1;32m    278\u001b[0m         \u001b[0;31m# Run sampler\u001b[0m\u001b[0;34m\u001b[0m\u001b[0;34m\u001b[0m\u001b[0;34m\u001b[0m\u001b[0m\n\u001b[0;32m--> 279\u001b[0;31m         \u001b[0mSampler\u001b[0m\u001b[0;34m.\u001b[0m\u001b[0msample\u001b[0m\u001b[0;34m(\u001b[0m\u001b[0mself\u001b[0m\u001b[0;34m,\u001b[0m \u001b[0miter\u001b[0m\u001b[0;34m,\u001b[0m \u001b[0mlength\u001b[0m\u001b[0;34m,\u001b[0m \u001b[0mverbose\u001b[0m\u001b[0;34m)\u001b[0m\u001b[0;34m\u001b[0m\u001b[0;34m\u001b[0m\u001b[0m\n\u001b[0m\u001b[1;32m    280\u001b[0m \u001b[0;34m\u001b[0m\u001b[0m\n\u001b[1;32m    281\u001b[0m     \u001b[0;32mdef\u001b[0m \u001b[0m_loop\u001b[0m\u001b[0;34m(\u001b[0m\u001b[0mself\u001b[0m\u001b[0;34m)\u001b[0m\u001b[0;34m:\u001b[0m\u001b[0;34m\u001b[0m\u001b[0;34m\u001b[0m\u001b[0m\n",
            "\u001b[0;32m/usr/local/lib/python3.6/dist-packages/pymc/Model.py\u001b[0m in \u001b[0;36msample\u001b[0;34m(self, iter, length, verbose)\u001b[0m\n\u001b[1;32m    249\u001b[0m         \u001b[0;31m# Loop\u001b[0m\u001b[0;34m\u001b[0m\u001b[0;34m\u001b[0m\u001b[0;34m\u001b[0m\u001b[0m\n\u001b[1;32m    250\u001b[0m         \u001b[0mself\u001b[0m\u001b[0;34m.\u001b[0m\u001b[0m_current_iter\u001b[0m \u001b[0;34m=\u001b[0m \u001b[0;36m0\u001b[0m\u001b[0;34m\u001b[0m\u001b[0;34m\u001b[0m\u001b[0m\n\u001b[0;32m--> 251\u001b[0;31m         \u001b[0mself\u001b[0m\u001b[0;34m.\u001b[0m\u001b[0m_loop\u001b[0m\u001b[0;34m(\u001b[0m\u001b[0;34m)\u001b[0m\u001b[0;34m\u001b[0m\u001b[0;34m\u001b[0m\u001b[0m\n\u001b[0m\u001b[1;32m    252\u001b[0m         \u001b[0mself\u001b[0m\u001b[0;34m.\u001b[0m\u001b[0m_finalize\u001b[0m\u001b[0;34m(\u001b[0m\u001b[0;34m)\u001b[0m\u001b[0;34m\u001b[0m\u001b[0;34m\u001b[0m\u001b[0m\n\u001b[1;32m    253\u001b[0m \u001b[0;34m\u001b[0m\u001b[0m\n",
            "\u001b[0;32m/usr/local/lib/python3.6/dist-packages/pymc/MCMC.py\u001b[0m in \u001b[0;36m_loop\u001b[0;34m(self)\u001b[0m\n\u001b[1;32m    313\u001b[0m                         \u001b[0mprint_\u001b[0m\u001b[0;34m(\u001b[0m\u001b[0;34m'Step method %s stepping'\u001b[0m \u001b[0;34m%\u001b[0m \u001b[0mstep_method\u001b[0m\u001b[0;34m.\u001b[0m\u001b[0m_id\u001b[0m\u001b[0;34m)\u001b[0m\u001b[0;34m\u001b[0m\u001b[0;34m\u001b[0m\u001b[0m\n\u001b[1;32m    314\u001b[0m                     \u001b[0;31m# Step the step method\u001b[0m\u001b[0;34m\u001b[0m\u001b[0;34m\u001b[0m\u001b[0;34m\u001b[0m\u001b[0m\n\u001b[0;32m--> 315\u001b[0;31m                     \u001b[0mstep_method\u001b[0m\u001b[0;34m.\u001b[0m\u001b[0mstep\u001b[0m\u001b[0;34m(\u001b[0m\u001b[0;34m)\u001b[0m\u001b[0;34m\u001b[0m\u001b[0;34m\u001b[0m\u001b[0m\n\u001b[0m\u001b[1;32m    316\u001b[0m \u001b[0;34m\u001b[0m\u001b[0m\n\u001b[1;32m    317\u001b[0m                 \u001b[0;31m# Record sample to trace, if appropriate\u001b[0m\u001b[0;34m\u001b[0m\u001b[0;34m\u001b[0m\u001b[0;34m\u001b[0m\u001b[0m\n",
            "\u001b[0;32m/usr/local/lib/python3.6/dist-packages/pymc/StepMethods.py\u001b[0m in \u001b[0;36mstep\u001b[0;34m(self)\u001b[0m\n\u001b[1;32m    908\u001b[0m     \u001b[0;32mdef\u001b[0m \u001b[0mstep\u001b[0m\u001b[0;34m(\u001b[0m\u001b[0mself\u001b[0m\u001b[0;34m)\u001b[0m\u001b[0;34m:\u001b[0m\u001b[0;34m\u001b[0m\u001b[0;34m\u001b[0m\u001b[0m\n\u001b[1;32m    909\u001b[0m         \u001b[0;32mif\u001b[0m \u001b[0mndim\u001b[0m\u001b[0;34m(\u001b[0m\u001b[0mself\u001b[0m\u001b[0;34m.\u001b[0m\u001b[0mstochastic\u001b[0m\u001b[0;34m.\u001b[0m\u001b[0mvalue\u001b[0m\u001b[0;34m)\u001b[0m\u001b[0;34m:\u001b[0m\u001b[0;34m\u001b[0m\u001b[0;34m\u001b[0m\u001b[0m\n\u001b[0;32m--> 910\u001b[0;31m             \u001b[0mMetropolis\u001b[0m\u001b[0;34m.\u001b[0m\u001b[0mstep\u001b[0m\u001b[0;34m(\u001b[0m\u001b[0mself\u001b[0m\u001b[0;34m)\u001b[0m\u001b[0;34m\u001b[0m\u001b[0;34m\u001b[0m\u001b[0m\n\u001b[0m\u001b[1;32m    911\u001b[0m         \u001b[0;32melse\u001b[0m\u001b[0;34m:\u001b[0m\u001b[0;34m\u001b[0m\u001b[0;34m\u001b[0m\u001b[0m\n\u001b[1;32m    912\u001b[0m \u001b[0;34m\u001b[0m\u001b[0m\n",
            "\u001b[0;32m/usr/local/lib/python3.6/dist-packages/pymc/StepMethods.py\u001b[0m in \u001b[0;36mstep\u001b[0;34m(self)\u001b[0m\n\u001b[1;32m    499\u001b[0m \u001b[0;34m\u001b[0m\u001b[0m\n\u001b[1;32m    500\u001b[0m         \u001b[0;31m# Sample a candidate value\u001b[0m\u001b[0;34m\u001b[0m\u001b[0;34m\u001b[0m\u001b[0;34m\u001b[0m\u001b[0m\n\u001b[0;32m--> 501\u001b[0;31m         \u001b[0mself\u001b[0m\u001b[0;34m.\u001b[0m\u001b[0mpropose\u001b[0m\u001b[0;34m(\u001b[0m\u001b[0;34m)\u001b[0m\u001b[0;34m\u001b[0m\u001b[0;34m\u001b[0m\u001b[0m\n\u001b[0m\u001b[1;32m    502\u001b[0m \u001b[0;34m\u001b[0m\u001b[0m\n\u001b[1;32m    503\u001b[0m         \u001b[0;31m# Probability and likelihood for s's proposed value:\u001b[0m\u001b[0;34m\u001b[0m\u001b[0;34m\u001b[0m\u001b[0;34m\u001b[0m\u001b[0m\n",
            "\u001b[0;32m/usr/local/lib/python3.6/dist-packages/pymc/StepMethods.py\u001b[0m in \u001b[0;36mpropose\u001b[0;34m(self)\u001b[0m\n\u001b[1;32m    967\u001b[0m             \u001b[0mswitch_locs\u001b[0m \u001b[0;34m=\u001b[0m \u001b[0mwhere\u001b[0m\u001b[0;34m(\u001b[0m\u001b[0mrand_array\u001b[0m \u001b[0;34m<\u001b[0m \u001b[0mp_jump\u001b[0m\u001b[0;34m)\u001b[0m\u001b[0;34m\u001b[0m\u001b[0;34m\u001b[0m\u001b[0m\n\u001b[1;32m    968\u001b[0m             \u001b[0;32mif\u001b[0m \u001b[0mshape\u001b[0m\u001b[0;34m(\u001b[0m\u001b[0mnew_value\u001b[0m\u001b[0;34m)\u001b[0m\u001b[0;34m:\u001b[0m\u001b[0;34m\u001b[0m\u001b[0;34m\u001b[0m\u001b[0m\n\u001b[0;32m--> 969\u001b[0;31m                 \u001b[0mnew_value\u001b[0m\u001b[0;34m[\u001b[0m\u001b[0mswitch_locs\u001b[0m\u001b[0;34m]\u001b[0m \u001b[0;34m=\u001b[0m \u001b[0;32mTrue\u001b[0m \u001b[0;34m-\u001b[0m \u001b[0mnew_value\u001b[0m\u001b[0;34m[\u001b[0m\u001b[0mswitch_locs\u001b[0m\u001b[0;34m]\u001b[0m\u001b[0;34m\u001b[0m\u001b[0;34m\u001b[0m\u001b[0m\n\u001b[0m\u001b[1;32m    970\u001b[0m             \u001b[0;32melse\u001b[0m\u001b[0;34m:\u001b[0m\u001b[0;34m\u001b[0m\u001b[0;34m\u001b[0m\u001b[0m\n\u001b[1;32m    971\u001b[0m                 \u001b[0mnew_value\u001b[0m \u001b[0;34m=\u001b[0m \u001b[0;32mTrue\u001b[0m \u001b[0;34m-\u001b[0m \u001b[0mnew_value\u001b[0m\u001b[0;34m\u001b[0m\u001b[0;34m\u001b[0m\u001b[0m\n",
            "\u001b[0;31mTypeError\u001b[0m: numpy boolean subtract, the `-` operator, is deprecated, use the bitwise_xor, the `^` operator, or the logical_xor function instead."
          ]
        }
      ]
    },
    {
      "metadata": {
        "id": "TlMGI17A9JIq",
        "colab_type": "code",
        "colab": {}
      },
      "cell_type": "code",
      "source": [
        "figsize(12.5, 3)\n",
        "p_trace = mcmc.trace(\"freq_cheating\")[:]\n",
        "plt.hist(p_trace, histtype=\"stepfilled\", normed=True, alpha=0.85, bins=30,\n",
        "         label=\"posterior distribution\", color=\"#348ABD\")\n",
        "plt.vlines([.05, .35], [0, 0], [5, 5], alpha=0.3)\n",
        "plt.xlim(0, 1)\n",
        "plt.xlabel(\"Value of $p$\")\n",
        "plt.ylabel(\"Density\")\n",
        "plt.title(\"Posterior distribution of parameter $p$\")\n",
        "plt.legend();"
      ],
      "execution_count": 0,
      "outputs": []
    },
    {
      "metadata": {
        "id": "ehDArnAN9RQY",
        "colab_type": "text"
      },
      "cell_type": "markdown",
      "source": [
        "# 위 그래프 해석\n",
        "\n",
        "\n",
        "\n",
        "*   P는 부정행위를 했을 확률를 의미\n",
        "\n",
        "*   0.05 ~ 0.35 사이의 범위로 좁혀짐 ('0.3'이라는 범위 내에 참 값이 존재할 가능성이 있음)\n",
        "\n",
        "*   이런 종류의 알고리즘은 사용자의 개인정보를 수집하는 데 사용될 수도 있음\n",
        "\n"
      ]
    },
    {
      "metadata": {
        "id": "GPd0-TN6N-vP",
        "colab_type": "text"
      },
      "cell_type": "markdown",
      "source": [
        "### 2.2.8 PyMC 대안 모델\n",
        "\n",
        "*   P(\"예\") = P(첫 동전의 앞면)P(부정행위자) + P(첫 동전의 뒷면)P(두 번째 동전의 앞면) =  P/2 + 1/4\n",
        "*   P를 알고 있다면 우리는 한 학생이 \"예\" 라고 대답할 확률을 계산할 수 있음(P로 deterministic 함수 사용)\n",
        "\n"
      ]
    },
    {
      "metadata": {
        "id": "UmiKNEh4PABJ",
        "colab_type": "code",
        "colab": {}
      },
      "cell_type": "code",
      "source": [
        "p = pm.Uniform(\"freq_cheating\", 0, 1)\n",
        "\n",
        "\n",
        "@pm.deterministic\n",
        "def p_skewed(p=p):\n",
        "    return 0.5 * p + 0.25"
      ],
      "execution_count": 0,
      "outputs": []
    },
    {
      "metadata": {
        "id": "dg4KE0rHPK2G",
        "colab_type": "code",
        "colab": {}
      },
      "cell_type": "code",
      "source": [
        "yes_responses = pm.Binomial(\"number_cheaters\", 100, p_skewed,\n",
        "                            value=35, observed=True)"
      ],
      "execution_count": 0,
      "outputs": []
    },
    {
      "metadata": {
        "id": "tOsbbC4ePLqV",
        "colab_type": "code",
        "colab": {
          "base_uri": "https://localhost:8080/",
          "height": 35
        },
        "outputId": "e2c47597-f415-4a52-faf2-429f0f3d3b75"
      },
      "cell_type": "code",
      "source": [
        "model = pm.Model([yes_responses, p_skewed, p])\n",
        "\n",
        "# To Be Explained in Chapter 3!\n",
        "mcmc = pm.MCMC(model)\n",
        "mcmc.sample(25000, 2500)"
      ],
      "execution_count": 41,
      "outputs": [
        {
          "output_type": "stream",
          "text": [
            " [-----------------100%-----------------] 25000 of 25000 complete in 1.0 sec"
          ],
          "name": "stdout"
        }
      ]
    },
    {
      "metadata": {
        "id": "NK3lXLH4PQHT",
        "colab_type": "code",
        "colab": {
          "base_uri": "https://localhost:8080/",
          "height": 265
        },
        "outputId": "5f48ac69-d989-42af-b952-2e94191b674e"
      },
      "cell_type": "code",
      "source": [
        "\n",
        "figsize(12.5, 3)\n",
        "p_trace = mcmc.trace(\"freq_cheating\")[:]\n",
        "plt.hist(p_trace, histtype=\"stepfilled\", normed=True, alpha=0.85, bins=30,\n",
        "         label=\"posterior distribution\", color=\"#348ABD\")\n",
        "plt.vlines([.05, .35], [0, 0], [5, 5], alpha=0.2)\n",
        "plt.xlim(0, 1)\n",
        "plt.legend();"
      ],
      "execution_count": 42,
      "outputs": [
        {
          "output_type": "stream",
          "text": [
            "/usr/local/lib/python3.6/dist-packages/matplotlib/axes/_axes.py:6521: MatplotlibDeprecationWarning: \n",
            "The 'normed' kwarg was deprecated in Matplotlib 2.1 and will be removed in 3.1. Use 'density' instead.\n",
            "  alternative=\"'density'\", removal=\"3.1\")\n"
          ],
          "name": "stderr"
        },
        {
          "output_type": "display_data",
          "data": {
            "image/png": "[encoded data removed]",
            "text/plain": [
              "<Figure size 900x216 with 1 Axes>"
            ]
          },
          "metadata": {
            "tags": []
          }
        }
      ]
    },
    {
      "metadata": {
        "id": "rZ856K6HPeHR",
        "colab_type": "text"
      },
      "cell_type": "markdown",
      "source": [
        "# 2.2.9 더 많은 PyMC 기법들\n",
        "\n",
        "*   인덱싱이나 슬라이싱 같은 연산 -> 내장된 Lambda 함수를 사용하여 더 간결하고 단순하게 다룰 수 있음\n"
      ]
    },
    {
      "metadata": {
        "id": "ymhtlxHBQZzX",
        "colab_type": "code",
        "outputId": "90b3c0b4-daab-4a65-e407-0770c38c7e47",
        "colab": {
          "base_uri": "https://localhost:8080/",
          "height": 136
        }
      },
      "cell_type": "code",
      "source": [
        "beta = pm.Normal(\"coefficients\",0,size=(N,1))\n",
        "x = np.random.randn((N,1))\n",
        "Linear_combination = pm.Lambda(labmda x=x, beta=beta: np.dot(x.T,beta))"
      ],
      "execution_count": 43,
      "outputs": [
        {
          "output_type": "error",
          "ename": "SyntaxError",
          "evalue": "ignored",
          "traceback": [
            "\u001b[0;36m  File \u001b[0;32m\"<ipython-input-43-4924737d652b>\"\u001b[0;36m, line \u001b[0;32m3\u001b[0m\n\u001b[0;31m    Linear_combination = pm.Lambda(labmda x=x, beta=beta: np.dot(x.T,beta))\u001b[0m\n\u001b[0m                                          ^\u001b[0m\n\u001b[0;31mSyntaxError\u001b[0m\u001b[0;31m:\u001b[0m invalid syntax\n"
          ]
        }
      ]
    },
    {
      "metadata": {
        "id": "Uch86uL2RV8G",
        "colab_type": "code",
        "colab": {}
      },
      "cell_type": "code",
      "source": [
        "N = 10\n",
        "x = np.empty(N, dtype=object)\n",
        "for i in range(0, N):\n",
        "    x[i] = pm.Exponential('x_%i' % i, (i + 1) ** 2)"
      ],
      "execution_count": 0,
      "outputs": []
    },
    {
      "metadata": {
        "id": "48iYY1fVRYwy",
        "colab_type": "text"
      },
      "cell_type": "markdown",
      "source": [
        "# 2.2.10 예제 :우주 왕복선 챌린저호 참사\n",
        "\n",
        "*   사건의 요약\n",
        "\n",
        "> 1) 25번째 우주 왕복선 비행이 참사로 끝남\n",
        "\n",
        "> 2) 원인 : 로켓 부스터에 연결된 O링의 결함으로 발생, O링을 외부 온도를 포함하여 많은 요인에 너무 민감하게 반응하여 설계했기 때문\n",
        "\n",
        "> 3) 이전 24번의 비행에서 23번째 비행 시 O링의 결함에 대한 데이터는 유용\n",
        "\n",
        "> 4) 7번째 비행에 해당하는 데이터만 중요하게 고려됨\n",
        "\n",
        "\n",
        "*   외부 온도와 사건 발생을 비교하여 둘의 관계를 파악"
      ]
    },
    {
      "metadata": {
        "id": "xVPBj-RLS6JF",
        "colab_type": "code",
        "colab": {
          "base_uri": "https://localhost:8080/",
          "height": 642
        },
        "outputId": "1e018a5c-ab03-4758-a5e8-deb701a5d3d3"
      },
      "cell_type": "code",
      "source": [
        "figsize(12.5, 3.5)\n",
        "np.set_printoptions(precision=3, suppress=True)\n",
        "challenger_data = np.genfromtxt(r\"C:\\Users\\wh\\006775\\Probabilistic-Programming-and-Bayesian-Methods-for-Hackers-master\\Chapter2_MorePyMC\\data\\challenger_data.csv\", skip_header=1,\n",
        "                                usecols=[1, 2], missing_values=\"NA\",\n",
        "                                delimiter=\",\")\n",
        "# drop the NA values\n",
        "challenger_data = challenger_data[~np.isnan(challenger_data[:, 1])]\n",
        "\n",
        "# plot it, as a function of temperature (the first column)\n",
        "print(\"Temp (F), O-Ring failure?\")\n",
        "print(challenger_data)\n",
        "\n",
        "plt.scatter(challenger_data[:, 0], challenger_data[:, 1], s=75, color=\"k\",\n",
        "            alpha=0.5)\n",
        "plt.yticks([0, 1])\n",
        "plt.ylabel(\"Damage Incident?\")\n",
        "plt.xlabel(\"Outside temperature (Fahrenheit)\")\n",
        "plt.title(\"Defects of the Space Shuttle O-Rings vs temperature\");"
      ],
      "execution_count": 44,
      "outputs": [
        {
          "output_type": "error",
          "ename": "OSError",
          "evalue": "ignored",
          "traceback": [
            "\u001b[0;31m---------------------------------------------------------------------------\u001b[0m",
            "\u001b[0;31mOSError\u001b[0m                                   Traceback (most recent call last)",
            "\u001b[0;32m<ipython-input-44-c223abeca51b>\u001b[0m in \u001b[0;36m<module>\u001b[0;34m()\u001b[0m\n\u001b[1;32m      3\u001b[0m challenger_data = np.genfromtxt(r\"C:\\Users\\wh\\006775\\Probabilistic-Programming-and-Bayesian-Methods-for-Hackers-master\\Chapter2_MorePyMC\\data\\challenger_data.csv\", skip_header=1,\n\u001b[1;32m      4\u001b[0m                                 \u001b[0musecols\u001b[0m\u001b[0;34m=\u001b[0m\u001b[0;34m[\u001b[0m\u001b[0;36m1\u001b[0m\u001b[0;34m,\u001b[0m \u001b[0;36m2\u001b[0m\u001b[0;34m]\u001b[0m\u001b[0;34m,\u001b[0m \u001b[0mmissing_values\u001b[0m\u001b[0;34m=\u001b[0m\u001b[0;34m\"NA\"\u001b[0m\u001b[0;34m,\u001b[0m\u001b[0;34m\u001b[0m\u001b[0;34m\u001b[0m\u001b[0m\n\u001b[0;32m----> 5\u001b[0;31m                                 delimiter=\",\")\n\u001b[0m\u001b[1;32m      6\u001b[0m \u001b[0;31m# drop the NA values\u001b[0m\u001b[0;34m\u001b[0m\u001b[0;34m\u001b[0m\u001b[0;34m\u001b[0m\u001b[0m\n\u001b[1;32m      7\u001b[0m \u001b[0mchallenger_data\u001b[0m \u001b[0;34m=\u001b[0m \u001b[0mchallenger_data\u001b[0m\u001b[0;34m[\u001b[0m\u001b[0;34m~\u001b[0m\u001b[0mnp\u001b[0m\u001b[0;34m.\u001b[0m\u001b[0misnan\u001b[0m\u001b[0;34m(\u001b[0m\u001b[0mchallenger_data\u001b[0m\u001b[0;34m[\u001b[0m\u001b[0;34m:\u001b[0m\u001b[0;34m,\u001b[0m \u001b[0;36m1\u001b[0m\u001b[0;34m]\u001b[0m\u001b[0;34m)\u001b[0m\u001b[0;34m]\u001b[0m\u001b[0;34m\u001b[0m\u001b[0;34m\u001b[0m\u001b[0m\n",
            "\u001b[0;32m/usr/local/lib/python3.6/dist-packages/numpy/lib/npyio.py\u001b[0m in \u001b[0;36mgenfromtxt\u001b[0;34m(fname, dtype, comments, delimiter, skip_header, skip_footer, converters, missing_values, filling_values, usecols, names, excludelist, deletechars, replace_space, autostrip, case_sensitive, defaultfmt, unpack, usemask, loose, invalid_raise, max_rows, encoding)\u001b[0m\n\u001b[1;32m   1687\u001b[0m             \u001b[0mfname\u001b[0m \u001b[0;34m=\u001b[0m \u001b[0mstr\u001b[0m\u001b[0;34m(\u001b[0m\u001b[0mfname\u001b[0m\u001b[0;34m)\u001b[0m\u001b[0;34m\u001b[0m\u001b[0;34m\u001b[0m\u001b[0m\n\u001b[1;32m   1688\u001b[0m         \u001b[0;32mif\u001b[0m \u001b[0misinstance\u001b[0m\u001b[0;34m(\u001b[0m\u001b[0mfname\u001b[0m\u001b[0;34m,\u001b[0m \u001b[0mbasestring\u001b[0m\u001b[0;34m)\u001b[0m\u001b[0;34m:\u001b[0m\u001b[0;34m\u001b[0m\u001b[0;34m\u001b[0m\u001b[0m\n\u001b[0;32m-> 1689\u001b[0;31m             \u001b[0mfhd\u001b[0m \u001b[0;34m=\u001b[0m \u001b[0miter\u001b[0m\u001b[0;34m(\u001b[0m\u001b[0mnp\u001b[0m\u001b[0;34m.\u001b[0m\u001b[0mlib\u001b[0m\u001b[0;34m.\u001b[0m\u001b[0m_datasource\u001b[0m\u001b[0;34m.\u001b[0m\u001b[0mopen\u001b[0m\u001b[0;34m(\u001b[0m\u001b[0mfname\u001b[0m\u001b[0;34m,\u001b[0m \u001b[0;34m'rt'\u001b[0m\u001b[0;34m,\u001b[0m \u001b[0mencoding\u001b[0m\u001b[0;34m=\u001b[0m\u001b[0mencoding\u001b[0m\u001b[0;34m)\u001b[0m\u001b[0;34m)\u001b[0m\u001b[0;34m\u001b[0m\u001b[0;34m\u001b[0m\u001b[0m\n\u001b[0m\u001b[1;32m   1690\u001b[0m             \u001b[0mown_fhd\u001b[0m \u001b[0;34m=\u001b[0m \u001b[0;32mTrue\u001b[0m\u001b[0;34m\u001b[0m\u001b[0;34m\u001b[0m\u001b[0m\n\u001b[1;32m   1691\u001b[0m         \u001b[0;32melse\u001b[0m\u001b[0;34m:\u001b[0m\u001b[0;34m\u001b[0m\u001b[0;34m\u001b[0m\u001b[0m\n",
            "\u001b[0;32m/usr/local/lib/python3.6/dist-packages/numpy/lib/_datasource.py\u001b[0m in \u001b[0;36mopen\u001b[0;34m(path, mode, destpath, encoding, newline)\u001b[0m\n\u001b[1;32m    258\u001b[0m \u001b[0;34m\u001b[0m\u001b[0m\n\u001b[1;32m    259\u001b[0m     \u001b[0mds\u001b[0m \u001b[0;34m=\u001b[0m \u001b[0mDataSource\u001b[0m\u001b[0;34m(\u001b[0m\u001b[0mdestpath\u001b[0m\u001b[0;34m)\u001b[0m\u001b[0;34m\u001b[0m\u001b[0;34m\u001b[0m\u001b[0m\n\u001b[0;32m--> 260\u001b[0;31m     \u001b[0;32mreturn\u001b[0m \u001b[0mds\u001b[0m\u001b[0;34m.\u001b[0m\u001b[0mopen\u001b[0m\u001b[0;34m(\u001b[0m\u001b[0mpath\u001b[0m\u001b[0;34m,\u001b[0m \u001b[0mmode\u001b[0m\u001b[0;34m,\u001b[0m \u001b[0mencoding\u001b[0m\u001b[0;34m=\u001b[0m\u001b[0mencoding\u001b[0m\u001b[0;34m,\u001b[0m \u001b[0mnewline\u001b[0m\u001b[0;34m=\u001b[0m\u001b[0mnewline\u001b[0m\u001b[0;34m)\u001b[0m\u001b[0;34m\u001b[0m\u001b[0;34m\u001b[0m\u001b[0m\n\u001b[0m\u001b[1;32m    261\u001b[0m \u001b[0;34m\u001b[0m\u001b[0m\n\u001b[1;32m    262\u001b[0m \u001b[0;34m\u001b[0m\u001b[0m\n",
            "\u001b[0;32m/usr/local/lib/python3.6/dist-packages/numpy/lib/_datasource.py\u001b[0m in \u001b[0;36mopen\u001b[0;34m(self, path, mode, encoding, newline)\u001b[0m\n\u001b[1;32m    614\u001b[0m                                       encoding=encoding, newline=newline)\n\u001b[1;32m    615\u001b[0m         \u001b[0;32melse\u001b[0m\u001b[0;34m:\u001b[0m\u001b[0;34m\u001b[0m\u001b[0;34m\u001b[0m\u001b[0m\n\u001b[0;32m--> 616\u001b[0;31m             \u001b[0;32mraise\u001b[0m \u001b[0mIOError\u001b[0m\u001b[0;34m(\u001b[0m\u001b[0;34m\"%s not found.\"\u001b[0m \u001b[0;34m%\u001b[0m \u001b[0mpath\u001b[0m\u001b[0;34m)\u001b[0m\u001b[0;34m\u001b[0m\u001b[0;34m\u001b[0m\u001b[0m\n\u001b[0m\u001b[1;32m    617\u001b[0m \u001b[0;34m\u001b[0m\u001b[0m\n\u001b[1;32m    618\u001b[0m \u001b[0;34m\u001b[0m\u001b[0m\n",
            "\u001b[0;31mOSError\u001b[0m: C:\\Users\\wh\\006775\\Probabilistic-Programming-and-Bayesian-Methods-for-Hackers-master\\Chapter2_MorePyMC\\data\\challenger_data.csv not found."
          ]
        }
      ]
    },
    {
      "metadata": {
        "id": "caGsTtJATZ_P",
        "colab_type": "text"
      },
      "cell_type": "markdown",
      "source": [
        "# 위 그래프 해석\n",
        "\n",
        "참고 : https://blog.naver.com/varkiry05/221057275615 (about 로지스틱 함수)\n",
        "\n",
        "*   외부 온도가 낮아질수록 피해 사고가 발생할 확률이 증가\n",
        "*   목적 : 모델링을 통하여 \"온도 t에서 손실 사고의 확률은 얼마인가?\"\n",
        "\n",
        "*   온도 함수에 로지스틱함수 사용 : P(t) = 1/1+e^beta*t\n",
        "\n",
        "\n",
        "\n"
      ]
    },
    {
      "metadata": {
        "id": "5y1ilC3jU4MA",
        "colab_type": "code",
        "colab": {
          "base_uri": "https://localhost:8080/",
          "height": 230
        },
        "outputId": "cb6ada0d-9972-48e1-8094-94e8ab921ccd"
      },
      "cell_type": "code",
      "source": [
        "\n",
        "figsize(12, 3)\n",
        "\n",
        "\n",
        "def logistic(x, beta):\n",
        "    return 1.0 / (1.0 + np.exp(beta * x))\n",
        "\n",
        "x = np.linspace(-4, 4, 100)\n",
        "plt.plot(x, logistic(x, 1), label=r\"$\\beta = 1$\")\n",
        "plt.plot(x, logistic(x, 3), label=r\"$\\beta = 3$\")\n",
        "plt.plot(x, logistic(x, -5), label=r\"$\\beta = -5$\")\n",
        "plt.title(\"Logistic functon plotted for several value of $\\\\beta$ parameter\", fontsize=14)\n",
        "plt.legend();"
      ],
      "execution_count": 45,
      "outputs": [
        {
          "output_type": "display_data",
          "data": {
            "image/png": "[encoded data removed]",
            "text/plain": [
              "<Figure size 864x216 with 1 Axes>"
            ]
          },
          "metadata": {
            "tags": []
          }
        }
      ]
    },
    {
      "metadata": {
        "id": "zRjle9r8VSJj",
        "colab_type": "text"
      },
      "cell_type": "markdown",
      "source": [
        "# 위 그래프 해석\n",
        "\n",
        "\n",
        "*   Beta에 대한 확신이 없으므로 1, 3, -5 여러 값 대입\n",
        "\n",
        "*   로지스틱함수에서 확률은 0근처에서만 변하지만, 그림 2-11에서 확률은 화씨 65~70도 근처에서 변함 -> 편향 \n",
        "(bias ) 추가\n",
        "\n",
        "*  P(t) = 1/1+e^beta*t+alpha (alpha가 추가됨)\n",
        "\n",
        "\n",
        "\n",
        "\n",
        "\n"
      ]
    },
    {
      "metadata": {
        "id": "QRCmo6eiWVDt",
        "colab_type": "code",
        "colab": {
          "base_uri": "https://localhost:8080/",
          "height": 230
        },
        "outputId": "ffa9fc2c-5fdf-4fcf-d4f0-5966f15f225b"
      },
      "cell_type": "code",
      "source": [
        "def logistic(x, beta, alpha=0):\n",
        "    return 1.0 / (1.0 + np.exp(np.dot(beta, x) + alpha))\n",
        "\n",
        "x = np.linspace(-4, 4, 100)\n",
        "\n",
        "plt.plot(x, logistic(x, 1), label=r\"$\\beta = 1$\", ls=\"--\", lw=1)\n",
        "plt.plot(x, logistic(x, 3), label=r\"$\\beta = 3$\", ls=\"--\", lw=1)\n",
        "plt.plot(x, logistic(x, -5), label=r\"$\\beta = -5$\", ls=\"--\", lw=1)\n",
        "\n",
        "plt.plot(x, logistic(x, 1, 1), label=r\"$\\beta = 1, \\alpha = 1$\",\n",
        "         color=\"#348ABD\")\n",
        "plt.plot(x, logistic(x, 3, -2), label=r\"$\\beta = 3, \\alpha = -2$\",\n",
        "         color=\"#A60628\")\n",
        "plt.plot(x, logistic(x, -5, 7), label=r\"$\\beta = -5, \\alpha = 7$\",\n",
        "         color=\"#7A68A6\")\n",
        "\n",
        "plt.title(\"Logistic functon with bias, plotted for several value of $\\\\alpha$ bias parameter\", fontsize=14)\n",
        "plt.legend(loc=\"lower left\");"
      ],
      "execution_count": 46,
      "outputs": [
        {
          "output_type": "display_data",
          "data": {
            "image/png": "[encoded data removed]",
            "text/plain": [
              "<Figure size 864x216 with 1 Axes>"
            ]
          },
          "metadata": {
            "tags": []
          }
        }
      ]
    },
    {
      "metadata": {
        "id": "ciX0DAy9lRy7",
        "colab_type": "text"
      },
      "cell_type": "markdown",
      "source": [
        ""
      ]
    },
    {
      "metadata": {
        "id": "kgj4ZeWAWzr6",
        "colab_type": "text"
      },
      "cell_type": "markdown",
      "source": [
        "# 위 그래프 해석\n",
        "  \n",
        "*   여러 alpha 값 대입 (1, -2, 7)\n",
        "\n",
        "*   alpha 값 대입을 통하여 곡선을 왼쪽 또는 오른쪽으로 이동 (편향)\n",
        "\n"
      ]
    },
    {
      "metadata": {
        "id": "GE48_VyFXVDb",
        "colab_type": "text"
      },
      "cell_type": "markdown",
      "source": [
        "# 2.2.11 정규분포\n",
        "\n",
        "\n",
        "*  정규분포의 모수 : 평균과 정밀도 (분산의 역수, 정밀도가 커질수록 분포는 좁아짐)\n",
        "*  X ~ N(M, 1/T) = N(M, 시그마^2)\n",
        "\n"
      ]
    },
    {
      "metadata": {
        "id": "zmklWqIklfR_",
        "colab_type": "code",
        "colab": {
          "base_uri": "https://localhost:8080/",
          "height": 241
        },
        "outputId": "2d1c8a0a-52b7-42aa-ab39-fb45233e44a3"
      },
      "cell_type": "code",
      "source": [
        "import scipy.stats as stats\n",
        "\n",
        "nor = stats.norm\n",
        "x = np.linspace(-8, 7, 150)\n",
        "mu = (-2, 0, 3)\n",
        "tau = (.7, 1, 2.8)\n",
        "colors = [\"#348ABD\", \"#A60628\", \"#7A68A6\"]\n",
        "parameters = zip(mu, tau, colors)\n",
        "\n",
        "for _mu, _tau, _color in parameters:\n",
        "    plt.plot(x, nor.pdf(x, _mu, scale=1. / np.sqrt(_tau)),\n",
        "             label=\"$\\mu = %d,\\;\\\\tau = %.1f$\" % (_mu, _tau), color=_color)\n",
        "    plt.fill_between(x, nor.pdf(x, _mu, scale=1. / np.sqrt(_tau)), color=_color,\n",
        "                     alpha=.33)\n",
        "\n",
        "plt.legend(loc=\"upper right\")\n",
        "plt.xlabel(\"$x$\")\n",
        "plt.ylabel(\"density function at $x$\")\n",
        "plt.title(\"Probability distribution of three different Normal random \\\n",
        "variables\");"
      ],
      "execution_count": 47,
      "outputs": [
        {
          "output_type": "display_data",
          "data": {
            "image/png": "[encoded data removed]",
            "text/plain": [
              "<Figure size 864x216 with 1 Axes>"
            ]
          },
          "metadata": {
            "tags": []
          }
        }
      ]
    },
    {
      "metadata": {
        "id": "8Dr76PyTlj06",
        "colab_type": "code",
        "colab": {
          "base_uri": "https://localhost:8080/",
          "height": 244
        },
        "outputId": "fa701f7b-5ba8-437e-a259-6d1307143061"
      },
      "cell_type": "code",
      "source": [
        "import pymc as pm\n",
        "\n",
        "temperature = challenger_data[:, 0]\n",
        "D = challenger_data[:, 1]  # defect or not?\n",
        "\n",
        "# notice the`value` here. We explain why below.\n",
        "beta = pm.Normal(\"beta\", 0, 0.001, value=0)\n",
        "alpha = pm.Normal(\"alpha\", 0, 0.001, value=0)\n",
        "\n",
        "\n",
        "@pm.deterministic\n",
        "def p(t=temperature, alpha=alpha, beta=beta):\n",
        "    return 1.0 / (1. + np.exp(beta * t + alpha))"
      ],
      "execution_count": 48,
      "outputs": [
        {
          "output_type": "error",
          "ename": "NameError",
          "evalue": "ignored",
          "traceback": [
            "\u001b[0;31m---------------------------------------------------------------------------\u001b[0m",
            "\u001b[0;31mNameError\u001b[0m                                 Traceback (most recent call last)",
            "\u001b[0;32m<ipython-input-48-678b1c5658ea>\u001b[0m in \u001b[0;36m<module>\u001b[0;34m()\u001b[0m\n\u001b[1;32m      1\u001b[0m \u001b[0;32mimport\u001b[0m \u001b[0mpymc\u001b[0m \u001b[0;32mas\u001b[0m \u001b[0mpm\u001b[0m\u001b[0;34m\u001b[0m\u001b[0;34m\u001b[0m\u001b[0m\n\u001b[1;32m      2\u001b[0m \u001b[0;34m\u001b[0m\u001b[0m\n\u001b[0;32m----> 3\u001b[0;31m \u001b[0mtemperature\u001b[0m \u001b[0;34m=\u001b[0m \u001b[0mchallenger_data\u001b[0m\u001b[0;34m[\u001b[0m\u001b[0;34m:\u001b[0m\u001b[0;34m,\u001b[0m \u001b[0;36m0\u001b[0m\u001b[0;34m]\u001b[0m\u001b[0;34m\u001b[0m\u001b[0;34m\u001b[0m\u001b[0m\n\u001b[0m\u001b[1;32m      4\u001b[0m \u001b[0mD\u001b[0m \u001b[0;34m=\u001b[0m \u001b[0mchallenger_data\u001b[0m\u001b[0;34m[\u001b[0m\u001b[0;34m:\u001b[0m\u001b[0;34m,\u001b[0m \u001b[0;36m1\u001b[0m\u001b[0;34m]\u001b[0m  \u001b[0;31m# defect or not?\u001b[0m\u001b[0;34m\u001b[0m\u001b[0;34m\u001b[0m\u001b[0m\n\u001b[1;32m      5\u001b[0m \u001b[0;34m\u001b[0m\u001b[0m\n",
            "\u001b[0;31mNameError\u001b[0m: name 'challenger_data' is not defined"
          ]
        }
      ]
    },
    {
      "metadata": {
        "id": "D9hqsvBGmVkJ",
        "colab_type": "text"
      },
      "cell_type": "markdown",
      "source": [
        "# 위 그래프 해석\n",
        "\n",
        "\n",
        "*  결함사고, Di ~ Ber( p(ti)) , i=1,2,...,N\n",
        "*  p(t)는 로지스틱함수, t는 관측한 온도\n",
        "\n",
        "*   beta 와 alpha의 값을 0으로 설정 ( 너무 크면 p는 0 또는 1) -> 결과에 영향 X, 사전확률에 어떤 부가적인 정보를 포함한다는 의미가 아님\n",
        "\n",
        "\n"
      ]
    },
    {
      "metadata": {
        "id": "xbZyxWCtoFT2",
        "colab_type": "code",
        "colab": {
          "base_uri": "https://localhost:8080/",
          "height": 35
        },
        "outputId": "c36e45f4-686b-42d5-8492-05d3287e4cc4"
      },
      "cell_type": "code",
      "source": [
        "p.value"
      ],
      "execution_count": 49,
      "outputs": [
        {
          "output_type": "execute_result",
          "data": {
            "text/plain": [
              "array(0.081)"
            ]
          },
          "metadata": {
            "tags": []
          },
          "execution_count": 49
        }
      ]
    },
    {
      "metadata": {
        "id": "isYa3tyXoHZl",
        "colab_type": "code",
        "colab": {
          "base_uri": "https://localhost:8080/",
          "height": 244
        },
        "outputId": "1ae6bc3b-8b65-48f5-9c1a-f63a01f3162d"
      },
      "cell_type": "code",
      "source": [
        "# connect the probabilities in `p` with our observations through a\n",
        "# Bernoulli random variable.\n",
        "observed = pm.Bernoulli(\"bernoulli_obs\", p, value=D, observed=True)\n",
        "\n",
        "model = pm.Model([observed, beta, alpha])\n",
        "\n",
        "# Mysterious code to be explained in Chapter 3\n",
        "map_ = pm.MAP(model)\n",
        "map_.fit()\n",
        "mcmc = pm.MCMC(model)\n",
        "mcmc.sample(120000, 100000, 2)"
      ],
      "execution_count": 50,
      "outputs": [
        {
          "output_type": "error",
          "ename": "NameError",
          "evalue": "ignored",
          "traceback": [
            "\u001b[0;31m---------------------------------------------------------------------------\u001b[0m",
            "\u001b[0;31mNameError\u001b[0m                                 Traceback (most recent call last)",
            "\u001b[0;32m<ipython-input-50-638724666571>\u001b[0m in \u001b[0;36m<module>\u001b[0;34m()\u001b[0m\n\u001b[0;32m----> 1\u001b[0;31m \u001b[0mobserved\u001b[0m \u001b[0;34m=\u001b[0m \u001b[0mpm\u001b[0m\u001b[0;34m.\u001b[0m\u001b[0mBernoulli\u001b[0m\u001b[0;34m(\u001b[0m\u001b[0;34m\"bernoulli_obs\"\u001b[0m\u001b[0;34m,\u001b[0m \u001b[0mp\u001b[0m\u001b[0;34m,\u001b[0m \u001b[0mvalue\u001b[0m\u001b[0;34m=\u001b[0m\u001b[0mD\u001b[0m\u001b[0;34m,\u001b[0m \u001b[0mobserved\u001b[0m\u001b[0;34m=\u001b[0m\u001b[0;32mTrue\u001b[0m\u001b[0;34m)\u001b[0m\u001b[0;34m\u001b[0m\u001b[0;34m\u001b[0m\u001b[0m\n\u001b[0m\u001b[1;32m      2\u001b[0m \u001b[0;34m\u001b[0m\u001b[0m\n\u001b[1;32m      3\u001b[0m \u001b[0mmodel\u001b[0m \u001b[0;34m=\u001b[0m \u001b[0mpm\u001b[0m\u001b[0;34m.\u001b[0m\u001b[0mModel\u001b[0m\u001b[0;34m(\u001b[0m\u001b[0;34m[\u001b[0m\u001b[0mobserved\u001b[0m\u001b[0;34m,\u001b[0m \u001b[0mbeta\u001b[0m\u001b[0;34m,\u001b[0m \u001b[0malpha\u001b[0m\u001b[0;34m]\u001b[0m\u001b[0;34m)\u001b[0m\u001b[0;34m\u001b[0m\u001b[0;34m\u001b[0m\u001b[0m\n\u001b[1;32m      4\u001b[0m \u001b[0;34m\u001b[0m\u001b[0m\n\u001b[1;32m      5\u001b[0m \u001b[0;31m# Mysterious code to be explained in Chapter 3\u001b[0m\u001b[0;34m\u001b[0m\u001b[0;34m\u001b[0m\u001b[0;34m\u001b[0m\u001b[0m\n",
            "\u001b[0;31mNameError\u001b[0m: name 'D' is not defined"
          ]
        }
      ]
    },
    {
      "metadata": {
        "id": "9FZVQMUhoL6r",
        "colab_type": "code",
        "colab": {}
      },
      "cell_type": "code",
      "source": [
        "\n",
        "alpha_samples = mcmc.trace('alpha')[:, None]  # best to make them 1d\n",
        "beta_samples = mcmc.trace('beta')[:, None]\n",
        "\n",
        "figsize(12.5, 6)\n",
        "\n",
        "# histogram of the samples:\n",
        "plt.subplot(211)\n",
        "plt.title(r\"Posterior distributions of the variables $\\alpha, \\beta$\")\n",
        "plt.hist(beta_samples, histtype='stepfilled', bins=35, alpha=0.85,\n",
        "         label=r\"1 posterior of $\\beta$\", color=\"#7A68A6\", normed=True)\n",
        "plt.legend()\n",
        "\n",
        "plt.subplot(212)\n",
        "plt.hist(alpha_samples, histtype='stepfilled', bins=35, alpha=0.85,\n",
        "         label=r\"2 posterior of $\\alpha$\", color=\"#A60628\", normed=True)\n",
        "plt.legend();"
      ],
      "execution_count": 0,
      "outputs": []
    },
    {
      "metadata": {
        "id": "Rz4wosKKoOx6",
        "colab_type": "text"
      },
      "cell_type": "markdown",
      "source": [
        "# 위 그래프 해석\n",
        "\n",
        "*   beta의 모든 표본값은 0보다 큼 -> 사후확률이 0 주변에 집중되었다면 온도가 결함의 확률에 아무런 영향을 주지 않았다는 것을 암시\n",
        "*   alpha 또한 마찬가지 (0과 거리가 멀다)\n",
        "\n",
        "*   너비가 넓을수록 모수에 대한 확신이 없음을 의미\n",
        "\n",
        "\n",
        "\n"
      ]
    },
    {
      "metadata": {
        "id": "XeljNP0Oo3os",
        "colab_type": "code",
        "colab": {
          "base_uri": "https://localhost:8080/",
          "height": 226
        },
        "outputId": "3d16e696-44e7-48b9-db58-ee78c09d90d7"
      },
      "cell_type": "code",
      "source": [
        "t = np.linspace(temperature.min() - 5, temperature.max() + 5, 50)[:, None]\n",
        "p_t = logistic(t.T, beta_samples, alpha_samples)\n",
        "\n",
        "mean_prob_t = p_t.mean(axis=0)"
      ],
      "execution_count": 51,
      "outputs": [
        {
          "output_type": "error",
          "ename": "NameError",
          "evalue": "ignored",
          "traceback": [
            "\u001b[0;31m---------------------------------------------------------------------------\u001b[0m",
            "\u001b[0;31mNameError\u001b[0m                                 Traceback (most recent call last)",
            "\u001b[0;32m<ipython-input-51-79d9d8fcf20d>\u001b[0m in \u001b[0;36m<module>\u001b[0;34m()\u001b[0m\n\u001b[0;32m----> 1\u001b[0;31m \u001b[0mt\u001b[0m \u001b[0;34m=\u001b[0m \u001b[0mnp\u001b[0m\u001b[0;34m.\u001b[0m\u001b[0mlinspace\u001b[0m\u001b[0;34m(\u001b[0m\u001b[0mtemperature\u001b[0m\u001b[0;34m.\u001b[0m\u001b[0mmin\u001b[0m\u001b[0;34m(\u001b[0m\u001b[0;34m)\u001b[0m \u001b[0;34m-\u001b[0m \u001b[0;36m5\u001b[0m\u001b[0;34m,\u001b[0m \u001b[0mtemperature\u001b[0m\u001b[0;34m.\u001b[0m\u001b[0mmax\u001b[0m\u001b[0;34m(\u001b[0m\u001b[0;34m)\u001b[0m \u001b[0;34m+\u001b[0m \u001b[0;36m5\u001b[0m\u001b[0;34m,\u001b[0m \u001b[0;36m50\u001b[0m\u001b[0;34m)\u001b[0m\u001b[0;34m[\u001b[0m\u001b[0;34m:\u001b[0m\u001b[0;34m,\u001b[0m \u001b[0;32mNone\u001b[0m\u001b[0;34m]\u001b[0m\u001b[0;34m\u001b[0m\u001b[0;34m\u001b[0m\u001b[0m\n\u001b[0m\u001b[1;32m      2\u001b[0m \u001b[0mp_t\u001b[0m \u001b[0;34m=\u001b[0m \u001b[0mlogistic\u001b[0m\u001b[0;34m(\u001b[0m\u001b[0mt\u001b[0m\u001b[0;34m.\u001b[0m\u001b[0mT\u001b[0m\u001b[0;34m,\u001b[0m \u001b[0mbeta_samples\u001b[0m\u001b[0;34m,\u001b[0m \u001b[0malpha_samples\u001b[0m\u001b[0;34m)\u001b[0m\u001b[0;34m\u001b[0m\u001b[0;34m\u001b[0m\u001b[0m\n\u001b[1;32m      3\u001b[0m \u001b[0;34m\u001b[0m\u001b[0m\n\u001b[1;32m      4\u001b[0m \u001b[0mmean_prob_t\u001b[0m \u001b[0;34m=\u001b[0m \u001b[0mp_t\u001b[0m\u001b[0;34m.\u001b[0m\u001b[0mmean\u001b[0m\u001b[0;34m(\u001b[0m\u001b[0maxis\u001b[0m\u001b[0;34m=\u001b[0m\u001b[0;36m0\u001b[0m\u001b[0;34m)\u001b[0m\u001b[0;34m\u001b[0m\u001b[0;34m\u001b[0m\u001b[0m\n",
            "\u001b[0;31mNameError\u001b[0m: name 'temperature' is not defined"
          ]
        }
      ]
    },
    {
      "metadata": {
        "id": "QSahZC68o6V7",
        "colab_type": "code",
        "colab": {
          "base_uri": "https://localhost:8080/",
          "height": 244
        },
        "outputId": "914b2adb-221d-412d-9073-0bad8cfd34c5"
      },
      "cell_type": "code",
      "source": [
        "\n",
        "figsize(12.5, 4)\n",
        "\n",
        "plt.plot(t, mean_prob_t, lw=3, label=\"average posterior \\nprobability \\\n",
        "of defect\")\n",
        "plt.plot(t, p_t[0, :], ls=\"--\", label=\"realization from posterior\")\n",
        "plt.plot(t, p_t[-2, :], ls=\"--\", label=\"realization from posterior\")\n",
        "plt.scatter(temperature, D, color=\"k\", s=50, alpha=0.5)\n",
        "plt.title(\"Posterior expected value of probability of defect; \\\n",
        "plus realizations\")\n",
        "plt.legend(loc=\"lower left\")\n",
        "plt.ylim(-0.1, 1.1)\n",
        "plt.xlim(t.min(), t.max())\n",
        "plt.ylabel(\"probability\")\n",
        "plt.xlabel(\"temperature\");"
      ],
      "execution_count": 52,
      "outputs": [
        {
          "output_type": "error",
          "ename": "NameError",
          "evalue": "ignored",
          "traceback": [
            "\u001b[0;31m---------------------------------------------------------------------------\u001b[0m",
            "\u001b[0;31mNameError\u001b[0m                                 Traceback (most recent call last)",
            "\u001b[0;32m<ipython-input-52-712fedbd0903>\u001b[0m in \u001b[0;36m<module>\u001b[0;34m()\u001b[0m\n\u001b[1;32m      2\u001b[0m \u001b[0mfigsize\u001b[0m\u001b[0;34m(\u001b[0m\u001b[0;36m12.5\u001b[0m\u001b[0;34m,\u001b[0m \u001b[0;36m4\u001b[0m\u001b[0;34m)\u001b[0m\u001b[0;34m\u001b[0m\u001b[0;34m\u001b[0m\u001b[0m\n\u001b[1;32m      3\u001b[0m \u001b[0;34m\u001b[0m\u001b[0m\n\u001b[0;32m----> 4\u001b[0;31m \u001b[0mplt\u001b[0m\u001b[0;34m.\u001b[0m\u001b[0mplot\u001b[0m\u001b[0;34m(\u001b[0m\u001b[0mt\u001b[0m\u001b[0;34m,\u001b[0m \u001b[0mmean_prob_t\u001b[0m\u001b[0;34m,\u001b[0m \u001b[0mlw\u001b[0m\u001b[0;34m=\u001b[0m\u001b[0;36m3\u001b[0m\u001b[0;34m,\u001b[0m \u001b[0mlabel\u001b[0m\u001b[0;34m=\u001b[0m\u001b[0;34m\"average posterior \\nprobability of defect\"\u001b[0m\u001b[0;34m)\u001b[0m\u001b[0;34m\u001b[0m\u001b[0;34m\u001b[0m\u001b[0m\n\u001b[0m\u001b[1;32m      5\u001b[0m \u001b[0mplt\u001b[0m\u001b[0;34m.\u001b[0m\u001b[0mplot\u001b[0m\u001b[0;34m(\u001b[0m\u001b[0mt\u001b[0m\u001b[0;34m,\u001b[0m \u001b[0mp_t\u001b[0m\u001b[0;34m[\u001b[0m\u001b[0;36m0\u001b[0m\u001b[0;34m,\u001b[0m \u001b[0;34m:\u001b[0m\u001b[0;34m]\u001b[0m\u001b[0;34m,\u001b[0m \u001b[0mls\u001b[0m\u001b[0;34m=\u001b[0m\u001b[0;34m\"--\"\u001b[0m\u001b[0;34m,\u001b[0m \u001b[0mlabel\u001b[0m\u001b[0;34m=\u001b[0m\u001b[0;34m\"realization from posterior\"\u001b[0m\u001b[0;34m)\u001b[0m\u001b[0;34m\u001b[0m\u001b[0;34m\u001b[0m\u001b[0m\n\u001b[1;32m      6\u001b[0m \u001b[0mplt\u001b[0m\u001b[0;34m.\u001b[0m\u001b[0mplot\u001b[0m\u001b[0;34m(\u001b[0m\u001b[0mt\u001b[0m\u001b[0;34m,\u001b[0m \u001b[0mp_t\u001b[0m\u001b[0;34m[\u001b[0m\u001b[0;34m-\u001b[0m\u001b[0;36m2\u001b[0m\u001b[0;34m,\u001b[0m \u001b[0;34m:\u001b[0m\u001b[0;34m]\u001b[0m\u001b[0;34m,\u001b[0m \u001b[0mls\u001b[0m\u001b[0;34m=\u001b[0m\u001b[0;34m\"--\"\u001b[0m\u001b[0;34m,\u001b[0m \u001b[0mlabel\u001b[0m\u001b[0;34m=\u001b[0m\u001b[0;34m\"realization from posterior\"\u001b[0m\u001b[0;34m)\u001b[0m\u001b[0;34m\u001b[0m\u001b[0;34m\u001b[0m\u001b[0m\n",
            "\u001b[0;31mNameError\u001b[0m: name 't' is not defined"
          ]
        }
      ]
    },
    {
      "metadata": {
        "id": "ttoBhZLypHST",
        "colab_type": "code",
        "colab": {
          "base_uri": "https://localhost:8080/",
          "height": 244
        },
        "outputId": "a7550185-6d75-4045-b42e-58ab72107605"
      },
      "cell_type": "code",
      "source": [
        "from scipy.stats.mstats import mquantiles\n",
        "\n",
        "# vectorized bottom and top 2.5% quantiles for \"confidence interval\"\n",
        "qs = mquantiles(p_t, [0.025, 0.975], axis=0)\n",
        "plt.fill_between(t[:, 0], *qs, alpha=0.7,\n",
        "                 color=\"#7A68A6\")\n",
        "\n",
        "plt.plot(t[:, 0], qs[0], label=\"95% CI\", color=\"#7A68A6\", alpha=0.7)\n",
        "\n",
        "plt.plot(t, mean_prob_t, lw=1, ls=\"--\", color=\"k\",\n",
        "         label=\"average posterior \\nprobability of defect\")\n",
        "\n",
        "plt.xlim(t.min(), t.max())\n",
        "plt.ylim(-0.02, 1.02)\n",
        "plt.legend(loc=\"lower left\")\n",
        "plt.scatter(temperature, D, color=\"k\", s=50, alpha=0.5)\n",
        "plt.xlabel(\"temp, $t$\")\n",
        "\n",
        "plt.ylabel(\"probability estimate\")\n",
        "plt.title(\"Posterior probability estimates given temp. $t$\");"
      ],
      "execution_count": 53,
      "outputs": [
        {
          "output_type": "error",
          "ename": "NameError",
          "evalue": "ignored",
          "traceback": [
            "\u001b[0;31m---------------------------------------------------------------------------\u001b[0m",
            "\u001b[0;31mNameError\u001b[0m                                 Traceback (most recent call last)",
            "\u001b[0;32m<ipython-input-53-ed1a89d84c0a>\u001b[0m in \u001b[0;36m<module>\u001b[0;34m()\u001b[0m\n\u001b[1;32m      2\u001b[0m \u001b[0;34m\u001b[0m\u001b[0m\n\u001b[1;32m      3\u001b[0m \u001b[0;31m# vectorized bottom and top 2.5% quantiles for \"confidence interval\"\u001b[0m\u001b[0;34m\u001b[0m\u001b[0;34m\u001b[0m\u001b[0;34m\u001b[0m\u001b[0m\n\u001b[0;32m----> 4\u001b[0;31m \u001b[0mqs\u001b[0m \u001b[0;34m=\u001b[0m \u001b[0mmquantiles\u001b[0m\u001b[0;34m(\u001b[0m\u001b[0mp_t\u001b[0m\u001b[0;34m,\u001b[0m \u001b[0;34m[\u001b[0m\u001b[0;36m0.025\u001b[0m\u001b[0;34m,\u001b[0m \u001b[0;36m0.975\u001b[0m\u001b[0;34m]\u001b[0m\u001b[0;34m,\u001b[0m \u001b[0maxis\u001b[0m\u001b[0;34m=\u001b[0m\u001b[0;36m0\u001b[0m\u001b[0;34m)\u001b[0m\u001b[0;34m\u001b[0m\u001b[0;34m\u001b[0m\u001b[0m\n\u001b[0m\u001b[1;32m      5\u001b[0m plt.fill_between(t[:, 0], *qs, alpha=0.7,\n\u001b[1;32m      6\u001b[0m                  color=\"#7A68A6\")\n",
            "\u001b[0;31mNameError\u001b[0m: name 'p_t' is not defined"
          ]
        }
      ]
    },
    {
      "metadata": {
        "id": "pUrplfMopJoN",
        "colab_type": "text"
      },
      "cell_type": "markdown",
      "source": [
        "# 위 그래프 해석\n",
        "\n",
        "*   ex) 65도에서 우리는 0.25 ~ 0.75 사이에 결함확률이 있다고 95% 확신할 수 있다 (베이지안의 신용구간 해석)\n",
        "\n",
        "1.   신뢰구간 (Confidence interval) vs 신용구간 (Credible interval)\n",
        "\n",
        "참고 : https://freshrimpsushi.tistory.com/752"
      ]
    },
    {
      "metadata": {
        "id": "qm4oxbgArX8H",
        "colab_type": "code",
        "colab": {
          "base_uri": "https://localhost:8080/",
          "height": 244
        },
        "outputId": "7728c1cf-1aac-49bf-864d-b72d05ddb104"
      },
      "cell_type": "code",
      "source": [
        "figsize(12.5, 2.5)\n",
        "\n",
        "prob_31 = logistic(31, beta_samples, alpha_samples)\n",
        "\n",
        "plt.xlim(0.995, 1)\n",
        "plt.hist(prob_31, bins=1000, normed=True, histtype='stepfilled')\n",
        "plt.title(\"Posterior distribution of probability of defect, given $t = 31$\")\n",
        "plt.xlabel(\"probability of defect occurring in O-ring\");"
      ],
      "execution_count": 55,
      "outputs": [
        {
          "output_type": "error",
          "ename": "NameError",
          "evalue": "ignored",
          "traceback": [
            "\u001b[0;31m---------------------------------------------------------------------------\u001b[0m",
            "\u001b[0;31mNameError\u001b[0m                                 Traceback (most recent call last)",
            "\u001b[0;32m<ipython-input-55-66927d771df8>\u001b[0m in \u001b[0;36m<module>\u001b[0;34m()\u001b[0m\n\u001b[1;32m      1\u001b[0m \u001b[0mfigsize\u001b[0m\u001b[0;34m(\u001b[0m\u001b[0;36m12.5\u001b[0m\u001b[0;34m,\u001b[0m \u001b[0;36m2.5\u001b[0m\u001b[0;34m)\u001b[0m\u001b[0;34m\u001b[0m\u001b[0;34m\u001b[0m\u001b[0m\n\u001b[1;32m      2\u001b[0m \u001b[0;34m\u001b[0m\u001b[0m\n\u001b[0;32m----> 3\u001b[0;31m \u001b[0mprob_31\u001b[0m \u001b[0;34m=\u001b[0m \u001b[0mlogistic\u001b[0m\u001b[0;34m(\u001b[0m\u001b[0;36m31\u001b[0m\u001b[0;34m,\u001b[0m \u001b[0mbeta_samples\u001b[0m\u001b[0;34m,\u001b[0m \u001b[0malpha_samples\u001b[0m\u001b[0;34m)\u001b[0m\u001b[0;34m\u001b[0m\u001b[0;34m\u001b[0m\u001b[0m\n\u001b[0m\u001b[1;32m      4\u001b[0m \u001b[0;34m\u001b[0m\u001b[0m\n\u001b[1;32m      5\u001b[0m \u001b[0mplt\u001b[0m\u001b[0;34m.\u001b[0m\u001b[0mxlim\u001b[0m\u001b[0;34m(\u001b[0m\u001b[0;36m0.995\u001b[0m\u001b[0;34m,\u001b[0m \u001b[0;36m1\u001b[0m\u001b[0;34m)\u001b[0m\u001b[0;34m\u001b[0m\u001b[0;34m\u001b[0m\u001b[0m\n",
            "\u001b[0;31mNameError\u001b[0m: name 'beta_samples' is not defined"
          ]
        }
      ]
    },
    {
      "metadata": {
        "id": "m5UFoZ6hrAsU",
        "colab_type": "text"
      },
      "cell_type": "markdown",
      "source": [
        "# 2.2.12 챌린저호 참사 당일에는 무슨 일이 일어났는가?\n",
        "\n",
        "*   참사 당일 외부 온도는 화씨 31도 (=섭씨-0.5도)\n",
        "\n"
      ]
    },
    {
      "metadata": {
        "id": "9RUFxZ9S3lYL",
        "colab_type": "text"
      },
      "cell_type": "markdown",
      "source": [
        "# 2.3 우리의 모델이 적절한가?\n",
        "\n",
        "*   모델이 우수하다 : 데이터를 잘 표현한다\n",
        "*   모델의 우수성을 어떻게 평가?\n",
        "\n",
        "> 1) 관측 데이터(고정된 확률변수) 와 우리가 시뮬레이션하는 인위적인 데이터셋을 비교\n",
        "\n",
        "> 2) 새로운 Stochastic 변수를 만듬 (단 관측 데이터 자체는 빼야 함)\n",
        "\n",
        "\n",
        "\n",
        "\n",
        "\n",
        "\n",
        "\n",
        "\n",
        "\n",
        "\n"
      ]
    },
    {
      "metadata": {
        "id": "nyGnjTPS72_W",
        "colab_type": "code",
        "colab": {
          "base_uri": "https://localhost:8080/",
          "height": 226
        },
        "outputId": "81dec697-0838-4b74-9820-6cf36e085d80"
      },
      "cell_type": "code",
      "source": [
        "simulated = pm.Bernoulli(\"bernoulli_sim\", p)\n",
        "N = 10000\n",
        "\n",
        "mcmc = pm.MCMC([simulated, alpha, beta, observed])\n",
        "mcmc.sample(N)"
      ],
      "execution_count": 57,
      "outputs": [
        {
          "output_type": "error",
          "ename": "NameError",
          "evalue": "ignored",
          "traceback": [
            "\u001b[0;31m---------------------------------------------------------------------------\u001b[0m",
            "\u001b[0;31mNameError\u001b[0m                                 Traceback (most recent call last)",
            "\u001b[0;32m<ipython-input-57-8f846623c336>\u001b[0m in \u001b[0;36m<module>\u001b[0;34m()\u001b[0m\n\u001b[1;32m      2\u001b[0m \u001b[0mN\u001b[0m \u001b[0;34m=\u001b[0m \u001b[0;36m10000\u001b[0m\u001b[0;34m\u001b[0m\u001b[0;34m\u001b[0m\u001b[0m\n\u001b[1;32m      3\u001b[0m \u001b[0;34m\u001b[0m\u001b[0m\n\u001b[0;32m----> 4\u001b[0;31m \u001b[0mmcmc\u001b[0m \u001b[0;34m=\u001b[0m \u001b[0mpm\u001b[0m\u001b[0;34m.\u001b[0m\u001b[0mMCMC\u001b[0m\u001b[0;34m(\u001b[0m\u001b[0;34m[\u001b[0m\u001b[0msimulated\u001b[0m\u001b[0;34m,\u001b[0m \u001b[0malpha\u001b[0m\u001b[0;34m,\u001b[0m \u001b[0mbeta\u001b[0m\u001b[0;34m,\u001b[0m \u001b[0mobserved\u001b[0m\u001b[0;34m]\u001b[0m\u001b[0;34m)\u001b[0m\u001b[0;34m\u001b[0m\u001b[0;34m\u001b[0m\u001b[0m\n\u001b[0m\u001b[1;32m      5\u001b[0m \u001b[0mmcmc\u001b[0m\u001b[0;34m.\u001b[0m\u001b[0msample\u001b[0m\u001b[0;34m(\u001b[0m\u001b[0mN\u001b[0m\u001b[0;34m)\u001b[0m\u001b[0;34m\u001b[0m\u001b[0;34m\u001b[0m\u001b[0m\n",
            "\u001b[0;31mNameError\u001b[0m: name 'beta' is not defined"
          ]
        }
      ]
    },
    {
      "metadata": {
        "id": "Av0pvlVb8Hve",
        "colab_type": "code",
        "colab": {
          "base_uri": "https://localhost:8080/",
          "height": 496
        },
        "outputId": "06aeee98-cf48-490e-ab3c-af2a2d64797f"
      },
      "cell_type": "code",
      "source": [
        "figsize(12.5, 5)\n",
        "\n",
        "simulations = mcmc.trace(\"bernoulli_sim\")[:]\n",
        "print(simulations.shape)\n",
        "\n",
        "plt.title(\"Simulated dataset using posterior parameters\")\n",
        "figsize(12.5, 6)\n",
        "for i in range(4):\n",
        "    ax = plt.subplot(4, 1, i + 1)\n",
        "    plt.scatter(temperature, simulations[1000 * i, :], color=\"k\",\n",
        "                s=50, alpha=0.6)"
      ],
      "execution_count": 58,
      "outputs": [
        {
          "output_type": "error",
          "ename": "KeyError",
          "evalue": "ignored",
          "traceback": [
            "\u001b[0;31m---------------------------------------------------------------------------\u001b[0m",
            "\u001b[0;31mKeyError\u001b[0m                                  Traceback (most recent call last)",
            "\u001b[0;32m<ipython-input-58-23d564d8fa9a>\u001b[0m in \u001b[0;36m<module>\u001b[0;34m()\u001b[0m\n\u001b[1;32m      1\u001b[0m \u001b[0mfigsize\u001b[0m\u001b[0;34m(\u001b[0m\u001b[0;36m12.5\u001b[0m\u001b[0;34m,\u001b[0m \u001b[0;36m5\u001b[0m\u001b[0;34m)\u001b[0m\u001b[0;34m\u001b[0m\u001b[0;34m\u001b[0m\u001b[0m\n\u001b[1;32m      2\u001b[0m \u001b[0;34m\u001b[0m\u001b[0m\n\u001b[0;32m----> 3\u001b[0;31m \u001b[0msimulations\u001b[0m \u001b[0;34m=\u001b[0m \u001b[0mmcmc\u001b[0m\u001b[0;34m.\u001b[0m\u001b[0mtrace\u001b[0m\u001b[0;34m(\u001b[0m\u001b[0;34m\"bernoulli_sim\"\u001b[0m\u001b[0;34m)\u001b[0m\u001b[0;34m[\u001b[0m\u001b[0;34m:\u001b[0m\u001b[0;34m]\u001b[0m\u001b[0;34m\u001b[0m\u001b[0;34m\u001b[0m\u001b[0m\n\u001b[0m\u001b[1;32m      4\u001b[0m \u001b[0mprint\u001b[0m\u001b[0;34m(\u001b[0m\u001b[0msimulations\u001b[0m\u001b[0;34m.\u001b[0m\u001b[0mshape\u001b[0m\u001b[0;34m)\u001b[0m\u001b[0;34m\u001b[0m\u001b[0;34m\u001b[0m\u001b[0m\n\u001b[1;32m      5\u001b[0m \u001b[0;34m\u001b[0m\u001b[0m\n",
            "\u001b[0;32m/usr/local/lib/python3.6/dist-packages/pymc/Model.py\u001b[0m in \u001b[0;36mtrace\u001b[0;34m(self, name, chain)\u001b[0m\n\u001b[1;32m    838\u001b[0m         \"\"\"\n\u001b[1;32m    839\u001b[0m         \u001b[0;32mif\u001b[0m \u001b[0misinstance\u001b[0m\u001b[0;34m(\u001b[0m\u001b[0mname\u001b[0m\u001b[0;34m,\u001b[0m \u001b[0mstr\u001b[0m\u001b[0;34m)\u001b[0m\u001b[0;34m:\u001b[0m\u001b[0;34m\u001b[0m\u001b[0;34m\u001b[0m\u001b[0m\n\u001b[0;32m--> 840\u001b[0;31m             \u001b[0;32mreturn\u001b[0m \u001b[0mself\u001b[0m\u001b[0;34m.\u001b[0m\u001b[0mdb\u001b[0m\u001b[0;34m.\u001b[0m\u001b[0mtrace\u001b[0m\u001b[0;34m(\u001b[0m\u001b[0mname\u001b[0m\u001b[0;34m,\u001b[0m \u001b[0mchain\u001b[0m\u001b[0;34m)\u001b[0m\u001b[0;34m\u001b[0m\u001b[0;34m\u001b[0m\u001b[0m\n\u001b[0m\u001b[1;32m    841\u001b[0m         \u001b[0;32melif\u001b[0m \u001b[0misinstance\u001b[0m\u001b[0;34m(\u001b[0m\u001b[0mname\u001b[0m\u001b[0;34m,\u001b[0m \u001b[0mVariable\u001b[0m\u001b[0;34m)\u001b[0m\u001b[0;34m:\u001b[0m\u001b[0;34m\u001b[0m\u001b[0;34m\u001b[0m\u001b[0m\n\u001b[1;32m    842\u001b[0m             \u001b[0;32mreturn\u001b[0m \u001b[0mself\u001b[0m\u001b[0;34m.\u001b[0m\u001b[0mdb\u001b[0m\u001b[0;34m.\u001b[0m\u001b[0mtrace\u001b[0m\u001b[0;34m(\u001b[0m\u001b[0mname\u001b[0m\u001b[0;34m.\u001b[0m\u001b[0m__name__\u001b[0m\u001b[0;34m,\u001b[0m \u001b[0mchain\u001b[0m\u001b[0;34m)\u001b[0m\u001b[0;34m\u001b[0m\u001b[0;34m\u001b[0m\u001b[0m\n",
            "\u001b[0;32m/usr/local/lib/python3.6/dist-packages/pymc/database/base.py\u001b[0m in \u001b[0;36mtrace\u001b[0;34m(self, name, chain)\u001b[0m\n\u001b[1;32m    371\u001b[0m           \u001b[0mthe\u001b[0m \u001b[0mith\u001b[0m \u001b[0mcall\u001b[0m \u001b[0mto\u001b[0m\u001b[0;31m \u001b[0m\u001b[0;31m`\u001b[0m\u001b[0msample\u001b[0m\u001b[0;31m`\u001b[0m\u001b[0;34m.\u001b[0m\u001b[0;34m\u001b[0m\u001b[0;34m\u001b[0m\u001b[0m\n\u001b[1;32m    372\u001b[0m         \"\"\"\n\u001b[0;32m--> 373\u001b[0;31m         \u001b[0mtrace\u001b[0m \u001b[0;34m=\u001b[0m \u001b[0mcopy\u001b[0m\u001b[0;34m.\u001b[0m\u001b[0mcopy\u001b[0m\u001b[0;34m(\u001b[0m\u001b[0mself\u001b[0m\u001b[0;34m.\u001b[0m\u001b[0m_traces\u001b[0m\u001b[0;34m[\u001b[0m\u001b[0mname\u001b[0m\u001b[0;34m]\u001b[0m\u001b[0;34m)\u001b[0m\u001b[0;34m\u001b[0m\u001b[0;34m\u001b[0m\u001b[0m\n\u001b[0m\u001b[1;32m    374\u001b[0m         \u001b[0mtrace\u001b[0m\u001b[0;34m.\u001b[0m\u001b[0m_chain\u001b[0m \u001b[0;34m=\u001b[0m \u001b[0mchain\u001b[0m\u001b[0;34m\u001b[0m\u001b[0;34m\u001b[0m\u001b[0m\n\u001b[1;32m    375\u001b[0m         \u001b[0;32mreturn\u001b[0m \u001b[0mtrace\u001b[0m\u001b[0;34m\u001b[0m\u001b[0;34m\u001b[0m\u001b[0m\n",
            "\u001b[0;31mKeyError\u001b[0m: 'bernoulli_sim'"
          ]
        }
      ]
    },
    {
      "metadata": {
        "id": "hcdTwqMN8avr",
        "colab_type": "text"
      },
      "cell_type": "markdown",
      "source": [
        "# 위 그래프 해석\n",
        "\n",
        "*  모델의 훌륭성을 평가 :  베이지안 p-값 사용 (빈도주의 통계에서의 p-값과 다르게 주관적)\n",
        "*  So 젤먼은 그래픽 테스트가 p-값 테스트보다 더 명백하다고 강조\n",
        "\n"
      ]
    },
    {
      "metadata": {
        "id": "tT5HEKOH-Bg2",
        "colab_type": "text"
      },
      "cell_type": "markdown",
      "source": [
        "# 2.3.1 분리도표\n",
        "\n",
        "*   그래픽 테스트는 로지스틱 회귀분석법을 위한 새로운 데이터 시각화 방법 (Called 분리도표)\n",
        "*   분리도표는 사용자가 비교하고 싶은 서로 다른 모델을 그래픽으로 비교\n",
        "\n",
        "*  다음에 제시되는 방법은 각 모델에 대해 사후확률 시뮬레이션이 특정 온도일 때 값이 1인 횟수의 비율을 계산 : P(Defect = 1 | t)\n",
        "\n",
        "\n",
        "\n",
        "\n",
        "\n"
      ]
    },
    {
      "metadata": {
        "id": "Pw6aVnkM-6Tc",
        "colab_type": "code",
        "colab": {
          "base_uri": "https://localhost:8080/",
          "height": 244
        },
        "outputId": "cc6e4157-0d5a-49cd-bb76-638b2d8cbda2"
      },
      "cell_type": "code",
      "source": [
        "posterior_probability = simulations.mean(axis=0)\n",
        "print(\"Obs. | Array of Simulated Defects\\\n",
        "| Posterior Probability of Defect | Realized Defect \")\n",
        "for i in range(len(D)):\n",
        "    print (\"%s | %s | %.2f | %d\" %\\\n",
        "(str(i).zfill(2),str(simulations[:10,i])[:-1] + \"...]\".ljust(12),\n",
        "posterior_probability[i], D[i]))"
      ],
      "execution_count": 59,
      "outputs": [
        {
          "output_type": "error",
          "ename": "NameError",
          "evalue": "ignored",
          "traceback": [
            "\u001b[0;31m---------------------------------------------------------------------------\u001b[0m",
            "\u001b[0;31mNameError\u001b[0m                                 Traceback (most recent call last)",
            "\u001b[0;32m<ipython-input-59-61775ee87c4c>\u001b[0m in \u001b[0;36m<module>\u001b[0;34m()\u001b[0m\n\u001b[0;32m----> 1\u001b[0;31m \u001b[0mposterior_probability\u001b[0m \u001b[0;34m=\u001b[0m \u001b[0msimulations\u001b[0m\u001b[0;34m.\u001b[0m\u001b[0mmean\u001b[0m\u001b[0;34m(\u001b[0m\u001b[0maxis\u001b[0m\u001b[0;34m=\u001b[0m\u001b[0;36m0\u001b[0m\u001b[0;34m)\u001b[0m\u001b[0;34m\u001b[0m\u001b[0;34m\u001b[0m\u001b[0m\n\u001b[0m\u001b[1;32m      2\u001b[0m \u001b[0mprint\u001b[0m\u001b[0;34m(\u001b[0m\u001b[0;34m\"Obs. | Array of Simulated Defects| Posterior Probability of Defect | Realized Defect \"\u001b[0m\u001b[0;34m)\u001b[0m\u001b[0;34m\u001b[0m\u001b[0;34m\u001b[0m\u001b[0m\n\u001b[1;32m      3\u001b[0m \u001b[0;32mfor\u001b[0m \u001b[0mi\u001b[0m \u001b[0;32min\u001b[0m \u001b[0mrange\u001b[0m\u001b[0;34m(\u001b[0m\u001b[0mlen\u001b[0m\u001b[0;34m(\u001b[0m\u001b[0mD\u001b[0m\u001b[0;34m)\u001b[0m\u001b[0;34m)\u001b[0m\u001b[0;34m:\u001b[0m\u001b[0;34m\u001b[0m\u001b[0;34m\u001b[0m\u001b[0m\n\u001b[1;32m      4\u001b[0m     print (\"%s | %s | %.2f | %d\" %(str(i).zfill(2),str(simulations[:10,i])[:-1] + \"...]\".ljust(12),\n\u001b[1;32m      5\u001b[0m posterior_probability[i], D[i]))\n",
            "\u001b[0;31mNameError\u001b[0m: name 'simulations' is not defined"
          ]
        }
      ]
    },
    {
      "metadata": {
        "id": "wf_6zZCW-8bt",
        "colab_type": "code",
        "colab": {
          "base_uri": "https://localhost:8080/",
          "height": 226
        },
        "outputId": "114f0962-ab90-4389-9988-e155dfd399df"
      },
      "cell_type": "code",
      "source": [
        "ix = np.argsort(posterior_probability)\n",
        "print(\"probb | defect \")\n",
        "for i in range(len(D)):\n",
        "    print(\"%.2f  |   %d\" % (posterior_probability[ix[i]], D[ix[i]]))"
      ],
      "execution_count": 60,
      "outputs": [
        {
          "output_type": "error",
          "ename": "NameError",
          "evalue": "ignored",
          "traceback": [
            "\u001b[0;31m---------------------------------------------------------------------------\u001b[0m",
            "\u001b[0;31mNameError\u001b[0m                                 Traceback (most recent call last)",
            "\u001b[0;32m<ipython-input-60-ba053de5eee0>\u001b[0m in \u001b[0;36m<module>\u001b[0;34m()\u001b[0m\n\u001b[0;32m----> 1\u001b[0;31m \u001b[0mix\u001b[0m \u001b[0;34m=\u001b[0m \u001b[0mnp\u001b[0m\u001b[0;34m.\u001b[0m\u001b[0margsort\u001b[0m\u001b[0;34m(\u001b[0m\u001b[0mposterior_probability\u001b[0m\u001b[0;34m)\u001b[0m\u001b[0;34m\u001b[0m\u001b[0;34m\u001b[0m\u001b[0m\n\u001b[0m\u001b[1;32m      2\u001b[0m \u001b[0mprint\u001b[0m\u001b[0;34m(\u001b[0m\u001b[0;34m\"probb | defect \"\u001b[0m\u001b[0;34m)\u001b[0m\u001b[0;34m\u001b[0m\u001b[0;34m\u001b[0m\u001b[0m\n\u001b[1;32m      3\u001b[0m \u001b[0;32mfor\u001b[0m \u001b[0mi\u001b[0m \u001b[0;32min\u001b[0m \u001b[0mrange\u001b[0m\u001b[0;34m(\u001b[0m\u001b[0mlen\u001b[0m\u001b[0;34m(\u001b[0m\u001b[0mD\u001b[0m\u001b[0;34m)\u001b[0m\u001b[0;34m)\u001b[0m\u001b[0;34m:\u001b[0m\u001b[0;34m\u001b[0m\u001b[0;34m\u001b[0m\u001b[0m\n\u001b[1;32m      4\u001b[0m     \u001b[0mprint\u001b[0m\u001b[0;34m(\u001b[0m\u001b[0;34m\"%.2f  |   %d\"\u001b[0m \u001b[0;34m%\u001b[0m \u001b[0;34m(\u001b[0m\u001b[0mposterior_probability\u001b[0m\u001b[0;34m[\u001b[0m\u001b[0mix\u001b[0m\u001b[0;34m[\u001b[0m\u001b[0mi\u001b[0m\u001b[0;34m]\u001b[0m\u001b[0;34m]\u001b[0m\u001b[0;34m,\u001b[0m \u001b[0mD\u001b[0m\u001b[0;34m[\u001b[0m\u001b[0mix\u001b[0m\u001b[0;34m[\u001b[0m\u001b[0mi\u001b[0m\u001b[0;34m]\u001b[0m\u001b[0;34m]\u001b[0m\u001b[0;34m)\u001b[0m\u001b[0;34m)\u001b[0m\u001b[0;34m\u001b[0m\u001b[0;34m\u001b[0m\u001b[0m\n",
            "\u001b[0;31mNameError\u001b[0m: name 'posterior_probability' is not defined"
          ]
        }
      ]
    },
    {
      "metadata": {
        "id": "S2R6Wf-0--qw",
        "colab_type": "code",
        "colab": {}
      },
      "cell_type": "code",
      "source": [
        "import separation_plot\n",
        "from separation_plot import separation_plot\n",
        "\n",
        "\n",
        "figsize(11., 1.5)\n",
        "separation_plot(posterior_probability, D)"
      ],
      "execution_count": 0,
      "outputs": []
    },
    {
      "metadata": {
        "id": "9DqvyrKB_J6J",
        "colab_type": "text"
      },
      "cell_type": "markdown",
      "source": [
        "# 위 그래프 해석\n",
        "\n",
        "*   꾸불꾸불한 선은 정렬된 확률, 파란색 막대는 결함, 빈 공간은 무결함, 검은 수직선은 우리가 관측해야 하는 결함의 기대 개수 의미\n",
        "*   확률이 높아질수록 더욱 더 많은 결함이 발생함\n",
        "\n",
        "*   이 방법으로 모델이 예측한 이벤트의 총 개수와 데이터에 있는 이벤트의 실제 개수 비교 가능\n",
        "\n",
        "\n",
        "\n"
      ]
    },
    {
      "metadata": {
        "id": "_uDjmdD1_6RU",
        "colab_type": "code",
        "colab": {}
      },
      "cell_type": "code",
      "source": [
        "figsize(11., 1.25)\n",
        "\n",
        "# Our temperature-dependent model\n",
        "separation_plot(posterior_probability, D)\n",
        "plt.title(\"Temperature-dependent model\")\n",
        "\n",
        "# Perfect model\n",
        "# i.e. the probability of defect is equal to if a defect occurred or not.\n",
        "p = D\n",
        "separation_plot(p, D)\n",
        "plt.title(\"Perfect model\")\n",
        "\n",
        "# random predictions\n",
        "p = np.random.rand(23)\n",
        "separation_plot(p, D)\n",
        "plt.title(\"Random model\")\n",
        "\n",
        "# constant model\n",
        "constant_prob = 7. / 23 * np.ones(23)\n",
        "separation_plot(constant_prob, D)\n",
        "plt.title(\"Constant-prediction model\");"
      ],
      "execution_count": 0,
      "outputs": []
    },
    {
      "metadata": {
        "id": "_El-avr7_82J",
        "colab_type": "text"
      },
      "cell_type": "markdown",
      "source": [
        "# 위 그래프 해석\n",
        "\n",
        "*   위 그래프는 기온 종속적 모델 vs 퍼펙트 모델 vs 랜덤 모델 vs 상수 모델\n",
        "\n",
        "\n",
        "1.   퍼펙트 모델 : 결함이 발생하면 사후확률을 1, 결함이 없다면 사후확률을 0으로 설정\n",
        "\n",
        "1.   완전한 랜덤 모델 : 온도와 상관없이 랜덤확률을 예측하는 모델\n",
        "2.   상수 모델 : P(D=1 | t) = c, 모든 t에 대한 모델로서 c에 대한 최선의 선택은 결함의 관측 빈도\n",
        "\n",
        "\n",
        "\n"
      ]
    },
    {
      "metadata": {
        "id": "56Gfas_u9cCm",
        "colab_type": "text"
      },
      "cell_type": "markdown",
      "source": [
        "# 2.4 결론\n",
        "\n",
        "\n",
        "*   베이지안 모델링을 잘 하기 위해서는 무엇보다 분포를 이해하는 것이 중요\n",
        "*   만약 분포 선택이 잘못 되었다면 다시 뒤로 돌아가 이미 선택한 분포를 재평가 하는 것이 최선\n",
        "\n"
      ]
    },
    {
      "metadata": {
        "id": "OHK3Oxc3Alur",
        "colab_type": "text"
      },
      "cell_type": "markdown",
      "source": [
        "# 2.5 부록\n",
        "\n",
        "참고 : https://blog.naver.com/psu0903/221463142163\n",
        "*   교차 검정(cross-validation)\n"
      ]
    }
  ]
}